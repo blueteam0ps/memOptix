{
 "cells": [
  {
   "cell_type": "markdown",
   "id": "1caf13eb",
   "metadata": {},
   "source": [
    "# memOptix\n",
    "**Purpose**\n",
    "\n",
    "The aim of this notebook is to run through a Windows memory dump in a structured manner to detect suspicious or malicious indicators and behaviours.\n",
    "\n",
    "Please note that this notebook was created based on the output generated from CrowdStrike's Supermem python script (https://github.com/CrowdStrike/SuperMem). SuperMem triage mode 2 or 3 should be run against the memory dump prior to running this notebook. You may decide to run volatility interactively if you wish to do so. Supermem dumps various other artefacts from the memory dump which can assist with investigations.\n",
    "\n",
    "Following Open Source projects are used within this notebook:  \n",
    "https://github.com/microsoft/msticpy  \n",
    "https://github.com/volatilityfoundation/volatility3  \n",
    "https://github.com/CrowdStrike/SuperMem\n",
    "\n",
    "Author : Janantha Marasinghe"
   ]
  },
  {
   "cell_type": "markdown",
   "id": "b8bba8ee",
   "metadata": {},
   "source": [
    "### <a href=#prerequisites>Pre-requisites</a>\n",
    "Let's first install the python packages that are pre-requisites for this script. Please note that msticpy now only supports <b>python 3.8 or above</b>. "
   ]
  },
  {
   "cell_type": "code",
   "execution_count": null,
   "id": "b3b34d27",
   "metadata": {},
   "outputs": [],
   "source": [
    "%pip install msticpy\\[azure] seaborn jellyfish pandas argparse colorama selenium pillow"
   ]
  },
  {
   "cell_type": "markdown",
   "id": "40d7970a",
   "metadata": {},
   "source": [
    "### Importing all the libraries required\n",
    "We are not using VT in this notebook. You will get an error complaining about import failure for VT. Please ignore it. Alternatively you may proceed installing installing the VT extra for msticpy as instructed."
   ]
  },
  {
   "cell_type": "code",
   "execution_count": 1,
   "id": "ab75c90b",
   "metadata": {},
   "outputs": [
    {
     "name": "stderr",
     "output_type": "stream",
     "text": [
      "/usr/lib/python3/dist-packages/secretstorage/dhcrypto.py:15: CryptographyDeprecationWarning: int_from_bytes is deprecated, use int.from_bytes instead\n",
      "  from cryptography.utils import int_from_bytes\n",
      "/usr/lib/python3/dist-packages/secretstorage/util.py:19: CryptographyDeprecationWarning: int_from_bytes is deprecated, use int.from_bytes instead\n",
      "  from cryptography.utils import int_from_bytes\n"
     ]
    },
    {
     "data": {
      "text/html": [
       "\n",
       "This product includes GeoLite2 data created by MaxMind, available from\n",
       "<a href=\"https://www.maxmind.com\">https://www.maxmind.com</a>.\n"
      ],
      "text/plain": [
       "<IPython.core.display.HTML object>"
      ]
     },
     "metadata": {},
     "output_type": "display_data"
    },
    {
     "data": {
      "text/html": [
       "\n",
       "This library uses services provided by ipstack.\n",
       "<a href=\"https://ipstack.com\">https://ipstack.com</a>"
      ],
      "text/plain": [
       "<IPython.core.display.HTML object>"
      ]
     },
     "metadata": {},
     "output_type": "display_data"
    },
    {
     "data": {
      "text/html": [
       "\n",
       "        <style>\n",
       "            div.solid {border: thin solid black; padding:10px;}\n",
       "            p.title {background-color:Tomato; padding:5px;}\n",
       "            ul.circle {list-style-type: circle;}\n",
       "            div.indent {text-indent: 20px; padding: 0px}\n",
       "        </style>\n",
       "        <div class='solid'><h3><p class='title'>MsticpyImportExtraError - Error importing VirusTotal modules.</p></h3>Cannot use this feature without vt-py, vt-graph-api and<br>nest_asyncio packages installed.<br>This feature requires one or more additional packages to be installed.<br>To do this run the command:<br>pip install msticpy[vt3]<br><br>For more help on fixing this error see:<br><ul class='circle'><li><a href='https://msticpy.readthedocs.io/en/latest/getting_started/Installing.html' target='_blank' rel='noopener noreferrer'>Installing msticpy</a></li></ul><summary>Additional context<details><div class='indent'>Stack:</div><div class='indent'>  File \"<frozen importlib._bootstrap_external>\", line 848, in exec_module\n",
       "</div><div class='indent'>  File \"<frozen importlib._bootstrap>\", line 219, in _call_with_frames_removed\n",
       "</div><div class='indent'>  File \"/usr/local/lib/python3.8/dist-packages/msticpy/context/vtlookupv3/vtlookupv3.py\", line 23, in <module>\n",
       "    raise MsticpyImportExtraError(\n",
       "</div><div class='indent'>  File \"/usr/local/lib/python3.8/dist-packages/msticpy/common/exceptions.py\", line 436, in __init__\n",
       "    super().__init__(*add_args, help_uri=uri, **kwargs)\n",
       "</div><div class='indent'>  File \"/usr/local/lib/python3.8/dist-packages/msticpy/common/exceptions.py\", line 119, in __init__\n",
       "    stack=traceback.format_stack(limit=5),\n",
       "</div><div class='indent'>---</div><div class='indent'>Locals:</div><div class='indent'>self (MsticpyImportExtraError) = ('Cannot use this feature without vt-py, vt-graph-api and', 'nest_asyncio packages installed.')</div><div class='indent'>help_uri (NoneType) = None</div><div class='indent'>args (tuple) = ('Cannot use this feature without vt-py, vt-graph-api and', 'nest_asyncio packages installed.')</div><div class='indent'>kwargs (dict) = {'title': 'Error importing VirusTotal modules.'}</div><div class='indent'>extra (str) = vt3</div><div class='indent'>mssg (str) = This feature requires one or more additional packages to be installed.\n",
       "To do this run the command:\n",
       "pip install msticpy[vt3]</div><div class='indent'>add_args (list) = ['Cannot use this feature without vt-py, vt-graph-api and', 'nest_asyncio packages installed.', 'This feature requires one or more additional packages to be installed.\\nTo do this run the command:\\npip install msticpy[vt3]']</div><div class='indent'>uri (tuple) = ('Installing msticpy', 'https://msticpy.readthedocs.io/en/latest/getting_started/Installing.html')</div><div class='indent'>__class__ (type) = <class 'msticpy.common.exceptions.MsticpyImportExtraError'></div><div class='indent'>---</div><div class='indent'>Exception was raised by:</div><div class='indent'>Traceback (most recent call last):\n",
       "</div><div class='indent'>  File \"/usr/local/lib/python3.8/dist-packages/msticpy/context/vtlookupv3/vtlookupv3.py\", line 15, in <module>\n",
       "    import vt\n",
       "</div><div class='indent'>ModuleNotFoundError: No module named 'vt'\n",
       "</div></details></summary></div>"
      ],
      "text/plain": [
       "msticpy.common.exceptions.MsticpyImportExtraError('Cannot use this feature without vt-py, vt-graph-api and',\n",
       "                                                  'nest_asyncio packages installed.')"
      ]
     },
     "metadata": {},
     "output_type": "display_data"
    },
    {
     "data": {
      "text/html": [
       "<p style=''><font color='orange'><h3>Notebook setup completed with some warnings.</h3></p>"
      ],
      "text/plain": [
       "<IPython.core.display.HTML object>"
      ]
     },
     "metadata": {},
     "output_type": "display_data"
    },
    {
     "data": {
      "text/html": [
       "<p style=''>One or more configuration items were missing or set incorrectly.</p>"
      ],
      "text/plain": [
       "<IPython.core.display.HTML object>"
      ]
     },
     "metadata": {},
     "output_type": "display_data"
    },
    {
     "data": {
      "text/html": [
       "<p style=''>Please run the <i>Getting Started Guide for Azure Sentinel ML Notebooks</i> notebook. and the <a href='https://msticpy.readthedocs.io/en/latest/getting_started/msticpyconfig.html'>msticpy configuration guide</a>.</p>"
      ],
      "text/plain": [
       "<IPython.core.display.HTML object>"
      ]
     },
     "metadata": {},
     "output_type": "display_data"
    },
    {
     "data": {
      "text/html": [
       "<p style=''>This notebook may still run but with reduced functionality.</p>"
      ],
      "text/plain": [
       "<IPython.core.display.HTML object>"
      ]
     },
     "metadata": {},
     "output_type": "display_data"
    }
   ],
   "source": [
    "from pickle import FALSE\n",
    "import jellyfish\n",
    "import pandas as pd\n",
    "import argparse\n",
    "import sys\n",
    "import re\n",
    "import os\n",
    "from colorama import init, Fore, Back, Style\n",
    "\n",
    "\n",
    "# Initialise the mstic\n",
    "import msticpy as mp\n",
    "from msticpy.transform.iocextract import IoCExtract\n",
    "#from msticpy import init_notebook\n",
    "mp.init_notebook(verbosity=0)\n",
    "\n",
    "\n",
    "\n",
    "#This will ensure the pandas output results do not get truncated\n",
    "pd.set_option('display.max_rows', None)\n",
    "pd.set_option('display.max_columns', None)\n",
    "pd.set_option('display.width', None)\n",
    "pd.set_option('display.max_colwidth', None)\n"
   ]
  },
  {
   "cell_type": "markdown",
   "id": "b30789fc",
   "metadata": {},
   "source": [
    "### Setting up the MSTICPY CTI providers for IOC lookups"
   ]
  },
  {
   "cell_type": "code",
   "execution_count": 2,
   "id": "555ded4a",
   "metadata": {},
   "outputs": [],
   "source": [
    "intel = mp.TILookup()\n"
   ]
  },
  {
   "cell_type": "markdown",
   "id": "6e5cef89",
   "metadata": {},
   "source": [
    "### <a href=#generatecsvs>Generate the relevant CSVs in preparation</a>\n",
    "<b>This is only required if you do not have the required CSVs</b> to run the notebook. Please note that this stage can take a while to complete.You will see a * within the square brackets next to the below function as long as it is processing the step. Do not proceed until you see a number within the square brackets."
   ]
  },
  {
   "cell_type": "code",
   "execution_count": null,
   "id": "4c674782",
   "metadata": {},
   "outputs": [],
   "source": [
    "mem_inpath = \"PATH_TO_YOUR_MEMORY_IMAGE\"\n",
    "mem_outpath = \"PATH_TO_YOUR_CSV_OUTPUT\"\n",
    "volplug_lst = [\"windows.pslist.PsList\",\"windows.cmdline.CmdLine\",\" windows.netscan.NetScan\",\"windows.callbacks.Callbacks\",\"windows.driverscan.DriverScan\",\" windows.dlllist.DllList\",\"windows.svcscan.SvcScan\",\"windows.handles.Handles\",\"windows.malfind.Malfind\",\"windows.ssdt.SSDT\"]\n",
    "\n",
    "for plugin in volplug_lst:\n",
    "    vol_execute = \"bash -c 'vol -f \" + mem_inpath + \" -r csv \" + plugin + \" > \" + mem_outpath + plugin + \".csv'\"\n",
    "    os.system(vol_execute)\n",
    "\n"
   ]
  },
  {
   "cell_type": "markdown",
   "id": "077cafd2",
   "metadata": {},
   "source": [
    "### YOU MAY CHOOSE TO \"RUN ALL BELOW\" CELL ACTION FROM THIS POINT "
   ]
  },
  {
   "cell_type": "markdown",
   "id": "2ad1fa14",
   "metadata": {},
   "source": [
    "### <a href=#csvfolderpath>Setting up variables for the notebook</a> \n",
    "Please paste the folder path containing the CSV output from Volatility."
   ]
  },
  {
   "cell_type": "code",
   "execution_count": 3,
   "id": "eb3a4f59",
   "metadata": {},
   "outputs": [],
   "source": [
    "process_input = \"PATH_TO_YOUR_CSV_OUTPUT\""
   ]
  },
  {
   "cell_type": "markdown",
   "id": "192491ef",
   "metadata": {},
   "source": [
    "### <a href=#csv2df>Load CSV data into Dataframes</a>\n",
    "Load the following CSV files into a dataframes for processing. Analyst tasks are run against the pandas dataframes. Please ensure you go <a href=\"#csvfolderpath\">here</a> and put the path to your CSVs before running the following code block."
   ]
  },
  {
   "cell_type": "code",
   "execution_count": 4,
   "id": "c93d58bd",
   "metadata": {},
   "outputs": [],
   "source": [
    "dfprocs = pd.read_csv(process_input + '/windows.pslist.PsList.csv')\n",
    "dfcmdline = pd.read_csv(process_input +'/windows.cmdline.CmdLine.csv')\n",
    "dfnetscan = pd.read_csv(process_input +'/windows.netscan.NetScan.csv')\n",
    "dfcallbacks = pd.read_csv(process_input +'/windows.callbacks.Callbacks.csv')\n",
    "dfdriverscan = pd.read_csv(process_input +'/windows.driverscan.DriverScan.csv')\n",
    "dfdlllist = pd.read_csv(process_input +'/windows.dlllist.DllList.csv')\n",
    "dfsvcscan = pd.read_csv(process_input +'/windows.svcscan.SvcScan.csv')\n",
    "dfhandles = pd.read_csv(process_input +'/windows.handles.Handles.csv')\n",
    "dfmalfind = pd.read_csv(process_input +'/windows.malfind.Malfind.csv')\n",
    "dfssdt = pd.read_csv(process_input +'/windows.ssdt.SSDT.csv')   "
   ]
  },
  {
   "cell_type": "markdown",
   "id": "26afd496",
   "metadata": {},
   "source": [
    "### <a href=#ParentProcMap>Adding Parent Process Name to the process tree data frame</a>\n",
    "Adding a parent process name \"ParentName\" column to make it more human friendly.Please note that certain processes may not contain a parent process name. This is due to early exit of such parent processes."
   ]
  },
  {
   "cell_type": "code",
   "execution_count": 5,
   "id": "a0dd0a8c",
   "metadata": {},
   "outputs": [],
   "source": [
    "dfppidtxt = dfprocs[['PID', 'ImageFileName']].drop_duplicates()\n",
    "dfppidtxt.columns = ['PPID', 'ParentName']\n",
    "dfprocs = dfprocs.merge(dfppidtxt, on='PPID', how='left')"
   ]
  },
  {
   "cell_type": "markdown",
   "id": "af4f0254",
   "metadata": {},
   "source": [
    "<a href=#typesquat>Widely Targeted Windows processes</a>\n",
    "This array contains commonly targeted Windows processes that are often used by type squatted by threat actors."
   ]
  },
  {
   "cell_type": "code",
   "execution_count": 6,
   "id": "882dde66",
   "metadata": {},
   "outputs": [],
   "source": [
    "actprocsbaselst =[\"svchost.exe\",\"wininit.exe\",\"lsass.exe\",\"explorer.exe\",\"iexplore.exe\",\"powershell.exe\",\"cmd.exe\",\"services.exe\",\"csrss.exe\",\"smss.exe\",\"silhost.exe\",\"taskhost.exe\"]"
   ]
  },
  {
   "cell_type": "markdown",
   "id": "32cb22e1",
   "metadata": {},
   "source": [
    "<a href=#singleprocs>Windows processes that should only have a single instance</a>\n",
    "This array contains a list of processes which should only have a single instance of itself during normal operation of Windows."
   ]
  },
  {
   "cell_type": "code",
   "execution_count": 43,
   "id": "bd93ea85",
   "metadata": {},
   "outputs": [],
   "source": [
    "singleprocs = [\"system\",\"wininit.exe\",\"lsass.exe\",\"lsm.exe\",\"services.exe\",\"lsaiso.exe\"]"
   ]
  },
  {
   "cell_type": "markdown",
   "id": "a4f25eac",
   "metadata": {},
   "source": [
    "### <a href=#pr1>PR1 - Identifying processes that should not have more than one instance</a>\n",
    "Checks to see if there are more than one process for processes listed in singleprocs array."
   ]
  },
  {
   "cell_type": "code",
   "execution_count": 44,
   "id": "83557058",
   "metadata": {},
   "outputs": [
    {
     "name": "stdout",
     "output_type": "stream",
     "text": [
      "\u001b[32m[✓]No multiple instance(s) of system found\n",
      "\u001b[32m[✓]No multiple instance(s) of wininit.exe found\n",
      "\u001b[32m[✓]No multiple instance(s) of lsass.exe found\n",
      "\u001b[32m[✓]No multiple instance(s) of services.exe found\n"
     ]
    }
   ],
   "source": [
    "for procs in singleprocs:\n",
    "    p_count = dfprocs[dfprocs.ImageFileName.str.lower() == procs].shape[0]\n",
    "    if p_count == 1:\n",
    "        print(Fore.GREEN + \"[✓]No multiple instance(s) of \" + procs + \" found\")\n",
    "    elif p_count > 1:\n",
    "        print(Fore.RED + \"[!]Multiple instance(s) of \" + procs + \" found!\")\n",
    "        print(dfprocs[dfprocs.ImageFileName.str.lower() == procs][['ImageFileName','PID','PPID','ParentName']].to_string(index = False))"
   ]
  },
  {
   "cell_type": "markdown",
   "id": "1ecba7a5",
   "metadata": {},
   "source": [
    "### <a href=#pr2>PR2 - Identifying suspicious parent-child process lineage</a>\n",
    "\n",
    "Parent processes of services.exe, iexplore.exe, svchost.exe, cmd.exe and powershell.exe are usually known. This search tries to identify when they are spawned from unusual parent processes."
   ]
  },
  {
   "cell_type": "code",
   "execution_count": 10,
   "id": "e0d4391e",
   "metadata": {},
   "outputs": [
    {
     "name": "stdout",
     "output_type": "stream",
     "text": [
      "\u001b[32m[✓]No suspicious instances of services.exe were found\n",
      "\u001b[32m[✓]No suspicious instances of iexplore.exe were found\n",
      "\u001b[32m[✓]No suspicious instances of svchost.exe were found\n",
      "\u001b[32m[✓]No suspicious instances of cmd.exe or powershell.exe were found\n"
     ]
    }
   ],
   "source": [
    "sus_services = dfprocs[(dfprocs.ImageFileName.str.lower() == \"services.exe\") & (dfprocs.ParentName.str.lower() != \"wininit.exe\")][['ImageFileName','PID','PPID','ParentName']]\n",
    "if(sus_services.empty):\n",
    "    print(Fore.GREEN + \"[✓]No suspicious instances of services.exe were found\")\n",
    "else:\n",
    "    print(Fore.RED + \"[!]Suspicious services.exe process(s) found\")\n",
    "    print(sus_services.to_string(index = False))\n",
    "    \n",
    "sus_iexplorer = dfprocs[(dfprocs.ImageFileName.str.lower() == \"iexplore.exe\") & (dfprocs.ParentName.str.lower() != \"explorer.exe\")][['ImageFileName','PID','PPID','ParentName']]\n",
    "if (sus_iexplorer.empty): \n",
    "    print(Fore.GREEN + \"[✓]No suspicious instances of iexplore.exe were found\")\n",
    "else:\n",
    "    print(Fore.RED + \"[!]iexplore.exe spawned from a suspicious parent\")\n",
    "    print(sus_iexplorer.to_string(index = False))\n",
    "sus_svchost= dfprocs[(dfprocs.ImageFileName.str.lower() == \"svchost.exe\") & (dfprocs.ParentName.str.lower() != \"services.exe\")][['ImageFileName','PID','PPID','ParentName']]\n",
    "if (sus_svchost.empty):\n",
    "    print(Fore.GREEN + \"[✓]No suspicious instances of svchost.exe were found\")\n",
    "else:\n",
    "    print(Fore.RED + \"[!]svchost.exe spawned from a suspicious parent\")\n",
    "    print(sus_svchost.to_string(index = False))\n",
    "sus_cli = dfprocs[((dfprocs.ImageFileName.str.lower() == \"cmd.exe\") | (dfprocs.ImageFileName.str.lower() == \"powershell.exe\")) & (dfprocs.ParentName.str.lower() != \"explorer.exe\")][['ImageFileName','PID','PPID','ParentName']]\n",
    "if (sus_cli.empty):\n",
    "    print(Fore.GREEN + \"[✓]No suspicious instances of cmd.exe or powershell.exe were found\")\n",
    "else:\n",
    "    print(Fore.RED + \"[!]cmd.exe or powershell.exe spawned by an unusual parent!\")\n",
    "    print(sus_cli.to_string(index = False))"
   ]
  },
  {
   "cell_type": "markdown",
   "id": "b13c7008",
   "metadata": {},
   "source": [
    "### <a href=#pr3>PR3 - Identifying suspicious processes using Damerau-Levenshtein distance</a>\n",
    "This compares the Damerau-Levenshtein value between a legitimate process (in actprocsbaselst array) and existing processes available in the memory image. The Damerau–Levenshtein distance works on the distance between two words, which is the least number of operations needed to change one word into another. Currently we are looking at 2 or fewer changes. Please note that the output of this task needs to be further optimised."
   ]
  },
  {
   "cell_type": "code",
   "execution_count": 11,
   "id": "eb291161",
   "metadata": {},
   "outputs": [
    {
     "name": "stdout",
     "output_type": "stream",
     "text": [
      "\u001b[31m[!]Suspicious processes were identified\n"
     ]
    },
    {
     "data": {
      "text/html": [
       "<div>\n",
       "<style scoped>\n",
       "    .dataframe tbody tr th:only-of-type {\n",
       "        vertical-align: middle;\n",
       "    }\n",
       "\n",
       "    .dataframe tbody tr th {\n",
       "        vertical-align: top;\n",
       "    }\n",
       "\n",
       "    .dataframe thead th {\n",
       "        text-align: right;\n",
       "    }\n",
       "</style>\n",
       "<table border=\"1\" class=\"dataframe\">\n",
       "  <thead>\n",
       "    <tr style=\"text-align: right;\">\n",
       "      <th></th>\n",
       "      <th>LiveProcess</th>\n",
       "      <th>BaseProcess</th>\n",
       "      <th>Damerau–Levenshtein distance</th>\n",
       "    </tr>\n",
       "  </thead>\n",
       "  <tbody>\n",
       "    <tr>\n",
       "      <th>9</th>\n",
       "      <td>taskhostw.exe</td>\n",
       "      <td>taskhost.exe</td>\n",
       "      <td>1</td>\n",
       "    </tr>\n",
       "  </tbody>\n",
       "</table>\n",
       "</div>"
      ],
      "text/plain": [
       "     LiveProcess   BaseProcess  Damerau–Levenshtein distance\n",
       "9  taskhostw.exe  taskhost.exe                             1"
      ]
     },
     "metadata": {},
     "output_type": "display_data"
    }
   ],
   "source": [
    "#http://detect-respond.blogspot.com/2016/11/hunting-for-malware-critical-process.html\n",
    "#Following adds live processes to a list and deduplicates it\n",
    "liveprocs=[]\n",
    "levratedprocs = []\n",
    "for susproc in dfprocs[\"ImageFileName\"].str.lower():\n",
    "    if susproc not in liveprocs:\n",
    "        liveprocs.append(susproc)\n",
    "\n",
    "for x,y in [(x,y) for x in liveprocs for y in actprocsbaselst]:\n",
    "    levdistance = (jellyfish.damerau_levenshtein_distance(x,y))\n",
    "    if 0 < levdistance <= 2:\n",
    "        #print(x,y,levdistance)\n",
    "        levratedprocs.append([x, y,levdistance])\n",
    "\n",
    "#Convert list to a dataframe\n",
    "dflevprocs = pd.DataFrame(levratedprocs, columns = ['LiveProcess', 'BaseProcess','Damerau–Levenshtein distance'])\n",
    "\n",
    "#Reduce false positives by removing known process pairs\n",
    "procfpredux = dflevprocs[((dflevprocs.LiveProcess.str.lower().isin(['lsass.exe', 'csrss.exe','smss.exe','dllhost.exe','explorer.exe','svchost.exe','sihost.exe'])) & (dflevprocs.BaseProcess.str.lower().isin(['lsass.exe', 'csrss.exe','smss.exe','silhost.exe','iexplore.exe','svchost.exe']))) == False]\n",
    "\n",
    "if (procfpredux.empty):\n",
    "    print(Fore.GREEN + \"[✓]No processes were identified for Damerau-Levenshtein analysis\")\n",
    "else:\n",
    "    print(Fore.RED + \"[!]Suspicious processes were identified\")\n",
    "    display(procfpredux)"
   ]
  },
  {
   "cell_type": "markdown",
   "id": "10d5ee25",
   "metadata": {},
   "source": [
    "### <a href=#pr4>PR4 - Identifying svchost.exe or rundll32.exe without any command line arguments</a>\n",
    "svchost.exe or rundll32.exe should always command line arguments. If it doesn't, then it is highly suspicious. rundll32.exe without command line arguments is one of the behaviours associated with Cobalt Strike. svchost.exe without parameters is highly abnormal and often used by an adversary to blend in."
   ]
  },
  {
   "cell_type": "code",
   "execution_count": 12,
   "id": "9ecaa837",
   "metadata": {
    "scrolled": true
   },
   "outputs": [
    {
     "name": "stdout",
     "output_type": "stream",
     "text": [
      "\u001b[32m[✓]No svchost.exe or rundll32.exe instance(s) identified without commandline arguments\n"
     ]
    }
   ],
   "source": [
    "nocmdargs_svc = (dfcmdline[dfcmdline[\"Args\"].str.match(r'^(.*(svchost|rundll32)\\.exe)$')])[['PID','Process','Args']]\n",
    "if (nocmdargs_svc.empty):\n",
    "    print(Fore.GREEN + \"[✓]No svchost.exe or rundll32.exe instance(s) identified without commandline arguments\")\n",
    "else:\n",
    "    print(Fore.RED + \"[!]svchost.exe or rundll32.exe without command line was detected!\")\n",
    "    print(nocmdargs_svc.to_string(index = False))\n",
    "    "
   ]
  },
  {
   "cell_type": "markdown",
   "id": "cbe002ba",
   "metadata": {},
   "source": [
    "### <a href=#pr5>PR5 - Processes spawned from suspicious folder locations</a>\n",
    "Processes spawned from directories such as Desktop, Public, Documents, Downloads, Temp, ProgramData (root) are often suspicious."
   ]
  },
  {
   "cell_type": "code",
   "execution_count": 13,
   "id": "e9badc25",
   "metadata": {},
   "outputs": [
    {
     "name": "stdout",
     "output_type": "stream",
     "text": [
      "\u001b[31m[!]Suspicious processes identified!\n",
      " PID        Process                                                                      Args\n",
      "  32   PSclient.exe \"C:\\Users\\Public\\PSclient.exe\" -autorestart -relayserver 13.54.35.87:5555\n",
      "6580 winpmem_mini_x             \"C:\\Users\\dadmin\\Desktop\\winpmem_mini_x64_rc2.exe\" memory.raw\n"
     ]
    }
   ],
   "source": [
    "sus_procspawn = (dfcmdline[dfcmdline[\"Args\"].str.match(r'.*[A-Za-z]:\\\\.*(Desktop|Public|Documents|Downloads|Temp|ProgramData)\\\\\\w+\\.exe.*')])[['PID','Process','Args']]\n",
    "if (sus_procspawn.empty):\n",
    "    print(Fore.GREEN + \"[✓]No processes were found to have been spawned from suspicious locations\")\n",
    "else:\n",
    "    print(Fore.RED + \"[!]Suspicious processes identified!\")\n",
    "    print(sus_procspawn.to_string(index = False))"
   ]
  },
  {
   "cell_type": "markdown",
   "id": "cb2eefad",
   "metadata": {},
   "source": [
    "### <a href=#pr6>PR6 - Process network graph</a>\n",
    "Graph visualisation can assist in identifying suspicious processes using parent-child relationships. Use the interactive options within the data graph to zoom in/out."
   ]
  },
  {
   "cell_type": "code",
   "execution_count": 15,
   "id": "9ce332d6",
   "metadata": {},
   "outputs": [
    {
     "data": {
      "text/html": [
       "<div class=\"bk-root\">\n",
       "        <a href=\"https://bokeh.org\" target=\"_blank\" class=\"bk-logo bk-logo-small bk-logo-notebook\"></a>\n",
       "        <span id=\"1282\">Loading BokehJS ...</span>\n",
       "    </div>\n"
      ]
     },
     "metadata": {},
     "output_type": "display_data"
    },
    {
     "data": {
      "application/javascript": [
       "(function(root) {\n",
       "  function now() {\n",
       "    return new Date();\n",
       "  }\n",
       "\n",
       "  const force = true;\n",
       "\n",
       "  if (typeof root._bokeh_onload_callbacks === \"undefined\" || force === true) {\n",
       "    root._bokeh_onload_callbacks = [];\n",
       "    root._bokeh_is_loading = undefined;\n",
       "  }\n",
       "\n",
       "const JS_MIME_TYPE = 'application/javascript';\n",
       "  const HTML_MIME_TYPE = 'text/html';\n",
       "  const EXEC_MIME_TYPE = 'application/vnd.bokehjs_exec.v0+json';\n",
       "  const CLASS_NAME = 'output_bokeh rendered_html';\n",
       "\n",
       "  /**\n",
       "   * Render data to the DOM node\n",
       "   */\n",
       "  function render(props, node) {\n",
       "    const script = document.createElement(\"script\");\n",
       "    node.appendChild(script);\n",
       "  }\n",
       "\n",
       "  /**\n",
       "   * Handle when an output is cleared or removed\n",
       "   */\n",
       "  function handleClearOutput(event, handle) {\n",
       "    const cell = handle.cell;\n",
       "\n",
       "    const id = cell.output_area._bokeh_element_id;\n",
       "    const server_id = cell.output_area._bokeh_server_id;\n",
       "    // Clean up Bokeh references\n",
       "    if (id != null && id in Bokeh.index) {\n",
       "      Bokeh.index[id].model.document.clear();\n",
       "      delete Bokeh.index[id];\n",
       "    }\n",
       "\n",
       "    if (server_id !== undefined) {\n",
       "      // Clean up Bokeh references\n",
       "      const cmd_clean = \"from bokeh.io.state import curstate; print(curstate().uuid_to_server['\" + server_id + \"'].get_sessions()[0].document.roots[0]._id)\";\n",
       "      cell.notebook.kernel.execute(cmd_clean, {\n",
       "        iopub: {\n",
       "          output: function(msg) {\n",
       "            const id = msg.content.text.trim();\n",
       "            if (id in Bokeh.index) {\n",
       "              Bokeh.index[id].model.document.clear();\n",
       "              delete Bokeh.index[id];\n",
       "            }\n",
       "          }\n",
       "        }\n",
       "      });\n",
       "      // Destroy server and session\n",
       "      const cmd_destroy = \"import bokeh.io.notebook as ion; ion.destroy_server('\" + server_id + \"')\";\n",
       "      cell.notebook.kernel.execute(cmd_destroy);\n",
       "    }\n",
       "  }\n",
       "\n",
       "  /**\n",
       "   * Handle when a new output is added\n",
       "   */\n",
       "  function handleAddOutput(event, handle) {\n",
       "    const output_area = handle.output_area;\n",
       "    const output = handle.output;\n",
       "\n",
       "    // limit handleAddOutput to display_data with EXEC_MIME_TYPE content only\n",
       "    if ((output.output_type != \"display_data\") || (!Object.prototype.hasOwnProperty.call(output.data, EXEC_MIME_TYPE))) {\n",
       "      return\n",
       "    }\n",
       "\n",
       "    const toinsert = output_area.element.find(\".\" + CLASS_NAME.split(' ')[0]);\n",
       "\n",
       "    if (output.metadata[EXEC_MIME_TYPE][\"id\"] !== undefined) {\n",
       "      toinsert[toinsert.length - 1].firstChild.textContent = output.data[JS_MIME_TYPE];\n",
       "      // store reference to embed id on output_area\n",
       "      output_area._bokeh_element_id = output.metadata[EXEC_MIME_TYPE][\"id\"];\n",
       "    }\n",
       "    if (output.metadata[EXEC_MIME_TYPE][\"server_id\"] !== undefined) {\n",
       "      const bk_div = document.createElement(\"div\");\n",
       "      bk_div.innerHTML = output.data[HTML_MIME_TYPE];\n",
       "      const script_attrs = bk_div.children[0].attributes;\n",
       "      for (let i = 0; i < script_attrs.length; i++) {\n",
       "        toinsert[toinsert.length - 1].firstChild.setAttribute(script_attrs[i].name, script_attrs[i].value);\n",
       "        toinsert[toinsert.length - 1].firstChild.textContent = bk_div.children[0].textContent\n",
       "      }\n",
       "      // store reference to server id on output_area\n",
       "      output_area._bokeh_server_id = output.metadata[EXEC_MIME_TYPE][\"server_id\"];\n",
       "    }\n",
       "  }\n",
       "\n",
       "  function register_renderer(events, OutputArea) {\n",
       "\n",
       "    function append_mime(data, metadata, element) {\n",
       "      // create a DOM node to render to\n",
       "      const toinsert = this.create_output_subarea(\n",
       "        metadata,\n",
       "        CLASS_NAME,\n",
       "        EXEC_MIME_TYPE\n",
       "      );\n",
       "      this.keyboard_manager.register_events(toinsert);\n",
       "      // Render to node\n",
       "      const props = {data: data, metadata: metadata[EXEC_MIME_TYPE]};\n",
       "      render(props, toinsert[toinsert.length - 1]);\n",
       "      element.append(toinsert);\n",
       "      return toinsert\n",
       "    }\n",
       "\n",
       "    /* Handle when an output is cleared or removed */\n",
       "    events.on('clear_output.CodeCell', handleClearOutput);\n",
       "    events.on('delete.Cell', handleClearOutput);\n",
       "\n",
       "    /* Handle when a new output is added */\n",
       "    events.on('output_added.OutputArea', handleAddOutput);\n",
       "\n",
       "    /**\n",
       "     * Register the mime type and append_mime function with output_area\n",
       "     */\n",
       "    OutputArea.prototype.register_mime_type(EXEC_MIME_TYPE, append_mime, {\n",
       "      /* Is output safe? */\n",
       "      safe: true,\n",
       "      /* Index of renderer in `output_area.display_order` */\n",
       "      index: 0\n",
       "    });\n",
       "  }\n",
       "\n",
       "  // register the mime type if in Jupyter Notebook environment and previously unregistered\n",
       "  if (root.Jupyter !== undefined) {\n",
       "    const events = require('base/js/events');\n",
       "    const OutputArea = require('notebook/js/outputarea').OutputArea;\n",
       "\n",
       "    if (OutputArea.prototype.mime_types().indexOf(EXEC_MIME_TYPE) == -1) {\n",
       "      register_renderer(events, OutputArea);\n",
       "    }\n",
       "  }\n",
       "  if (typeof (root._bokeh_timeout) === \"undefined\" || force === true) {\n",
       "    root._bokeh_timeout = Date.now() + 5000;\n",
       "    root._bokeh_failed_load = false;\n",
       "  }\n",
       "\n",
       "  const NB_LOAD_WARNING = {'data': {'text/html':\n",
       "     \"<div style='background-color: #fdd'>\\n\"+\n",
       "     \"<p>\\n\"+\n",
       "     \"BokehJS does not appear to have successfully loaded. If loading BokehJS from CDN, this \\n\"+\n",
       "     \"may be due to a slow or bad network connection. Possible fixes:\\n\"+\n",
       "     \"</p>\\n\"+\n",
       "     \"<ul>\\n\"+\n",
       "     \"<li>re-rerun `output_notebook()` to attempt to load from CDN again, or</li>\\n\"+\n",
       "     \"<li>use INLINE resources instead, as so:</li>\\n\"+\n",
       "     \"</ul>\\n\"+\n",
       "     \"<code>\\n\"+\n",
       "     \"from bokeh.resources import INLINE\\n\"+\n",
       "     \"output_notebook(resources=INLINE)\\n\"+\n",
       "     \"</code>\\n\"+\n",
       "     \"</div>\"}};\n",
       "\n",
       "  function display_loaded() {\n",
       "    const el = document.getElementById(\"1282\");\n",
       "    if (el != null) {\n",
       "      el.textContent = \"BokehJS is loading...\";\n",
       "    }\n",
       "    if (root.Bokeh !== undefined) {\n",
       "      if (el != null) {\n",
       "        el.textContent = \"BokehJS \" + root.Bokeh.version + \" successfully loaded.\";\n",
       "      }\n",
       "    } else if (Date.now() < root._bokeh_timeout) {\n",
       "      setTimeout(display_loaded, 100)\n",
       "    }\n",
       "  }\n",
       "\n",
       "  function run_callbacks() {\n",
       "    try {\n",
       "      root._bokeh_onload_callbacks.forEach(function(callback) {\n",
       "        if (callback != null)\n",
       "          callback();\n",
       "      });\n",
       "    } finally {\n",
       "      delete root._bokeh_onload_callbacks\n",
       "    }\n",
       "    console.debug(\"Bokeh: all callbacks have finished\");\n",
       "  }\n",
       "\n",
       "  function load_libs(css_urls, js_urls, callback) {\n",
       "    if (css_urls == null) css_urls = [];\n",
       "    if (js_urls == null) js_urls = [];\n",
       "\n",
       "    root._bokeh_onload_callbacks.push(callback);\n",
       "    if (root._bokeh_is_loading > 0) {\n",
       "      console.debug(\"Bokeh: BokehJS is being loaded, scheduling callback at\", now());\n",
       "      return null;\n",
       "    }\n",
       "    if (js_urls == null || js_urls.length === 0) {\n",
       "      run_callbacks();\n",
       "      return null;\n",
       "    }\n",
       "    console.debug(\"Bokeh: BokehJS not loaded, scheduling load and callback at\", now());\n",
       "    root._bokeh_is_loading = css_urls.length + js_urls.length;\n",
       "\n",
       "    function on_load() {\n",
       "      root._bokeh_is_loading--;\n",
       "      if (root._bokeh_is_loading === 0) {\n",
       "        console.debug(\"Bokeh: all BokehJS libraries/stylesheets loaded\");\n",
       "        run_callbacks()\n",
       "      }\n",
       "    }\n",
       "\n",
       "    function on_error(url) {\n",
       "      console.error(\"failed to load \" + url);\n",
       "    }\n",
       "\n",
       "    for (let i = 0; i < css_urls.length; i++) {\n",
       "      const url = css_urls[i];\n",
       "      const element = document.createElement(\"link\");\n",
       "      element.onload = on_load;\n",
       "      element.onerror = on_error.bind(null, url);\n",
       "      element.rel = \"stylesheet\";\n",
       "      element.type = \"text/css\";\n",
       "      element.href = url;\n",
       "      console.debug(\"Bokeh: injecting link tag for BokehJS stylesheet: \", url);\n",
       "      document.body.appendChild(element);\n",
       "    }\n",
       "\n",
       "    for (let i = 0; i < js_urls.length; i++) {\n",
       "      const url = js_urls[i];\n",
       "      const element = document.createElement('script');\n",
       "      element.onload = on_load;\n",
       "      element.onerror = on_error.bind(null, url);\n",
       "      element.async = false;\n",
       "      element.src = url;\n",
       "      console.debug(\"Bokeh: injecting script tag for BokehJS library: \", url);\n",
       "      document.head.appendChild(element);\n",
       "    }\n",
       "  };\n",
       "\n",
       "  function inject_raw_css(css) {\n",
       "    const element = document.createElement(\"style\");\n",
       "    element.appendChild(document.createTextNode(css));\n",
       "    document.body.appendChild(element);\n",
       "  }\n",
       "\n",
       "  const js_urls = [\"https://cdn.bokeh.org/bokeh/release/bokeh-2.4.3.min.js\", \"https://cdn.bokeh.org/bokeh/release/bokeh-gl-2.4.3.min.js\", \"https://cdn.bokeh.org/bokeh/release/bokeh-widgets-2.4.3.min.js\", \"https://cdn.bokeh.org/bokeh/release/bokeh-tables-2.4.3.min.js\", \"https://cdn.bokeh.org/bokeh/release/bokeh-mathjax-2.4.3.min.js\"];\n",
       "  const css_urls = [];\n",
       "\n",
       "  const inline_js = [    function(Bokeh) {\n",
       "      Bokeh.set_log_level(\"info\");\n",
       "    },\n",
       "function(Bokeh) {\n",
       "    }\n",
       "  ];\n",
       "\n",
       "  function run_inline_js() {\n",
       "    if (root.Bokeh !== undefined || force === true) {\n",
       "          for (let i = 0; i < inline_js.length; i++) {\n",
       "      inline_js[i].call(root, root.Bokeh);\n",
       "    }\n",
       "if (force === true) {\n",
       "        display_loaded();\n",
       "      }} else if (Date.now() < root._bokeh_timeout) {\n",
       "      setTimeout(run_inline_js, 100);\n",
       "    } else if (!root._bokeh_failed_load) {\n",
       "      console.log(\"Bokeh: BokehJS failed to load within specified timeout.\");\n",
       "      root._bokeh_failed_load = true;\n",
       "    } else if (force !== true) {\n",
       "      const cell = $(document.getElementById(\"1282\")).parents('.cell').data().cell;\n",
       "      cell.output_area.append_execute_result(NB_LOAD_WARNING)\n",
       "    }\n",
       "  }\n",
       "\n",
       "  if (root._bokeh_is_loading === 0) {\n",
       "    console.debug(\"Bokeh: BokehJS loaded, going straight to plotting\");\n",
       "    run_inline_js();\n",
       "  } else {\n",
       "    load_libs(css_urls, js_urls, function() {\n",
       "      console.debug(\"Bokeh: BokehJS plotting callback run at\", now());\n",
       "      run_inline_js();\n",
       "    });\n",
       "  }\n",
       "}(window));"
      ],
      "application/vnd.bokehjs_load.v0+json": "(function(root) {\n  function now() {\n    return new Date();\n  }\n\n  const force = true;\n\n  if (typeof root._bokeh_onload_callbacks === \"undefined\" || force === true) {\n    root._bokeh_onload_callbacks = [];\n    root._bokeh_is_loading = undefined;\n  }\n\n\n  if (typeof (root._bokeh_timeout) === \"undefined\" || force === true) {\n    root._bokeh_timeout = Date.now() + 5000;\n    root._bokeh_failed_load = false;\n  }\n\n  const NB_LOAD_WARNING = {'data': {'text/html':\n     \"<div style='background-color: #fdd'>\\n\"+\n     \"<p>\\n\"+\n     \"BokehJS does not appear to have successfully loaded. If loading BokehJS from CDN, this \\n\"+\n     \"may be due to a slow or bad network connection. Possible fixes:\\n\"+\n     \"</p>\\n\"+\n     \"<ul>\\n\"+\n     \"<li>re-rerun `output_notebook()` to attempt to load from CDN again, or</li>\\n\"+\n     \"<li>use INLINE resources instead, as so:</li>\\n\"+\n     \"</ul>\\n\"+\n     \"<code>\\n\"+\n     \"from bokeh.resources import INLINE\\n\"+\n     \"output_notebook(resources=INLINE)\\n\"+\n     \"</code>\\n\"+\n     \"</div>\"}};\n\n  function display_loaded() {\n    const el = document.getElementById(\"1282\");\n    if (el != null) {\n      el.textContent = \"BokehJS is loading...\";\n    }\n    if (root.Bokeh !== undefined) {\n      if (el != null) {\n        el.textContent = \"BokehJS \" + root.Bokeh.version + \" successfully loaded.\";\n      }\n    } else if (Date.now() < root._bokeh_timeout) {\n      setTimeout(display_loaded, 100)\n    }\n  }\n\n  function run_callbacks() {\n    try {\n      root._bokeh_onload_callbacks.forEach(function(callback) {\n        if (callback != null)\n          callback();\n      });\n    } finally {\n      delete root._bokeh_onload_callbacks\n    }\n    console.debug(\"Bokeh: all callbacks have finished\");\n  }\n\n  function load_libs(css_urls, js_urls, callback) {\n    if (css_urls == null) css_urls = [];\n    if (js_urls == null) js_urls = [];\n\n    root._bokeh_onload_callbacks.push(callback);\n    if (root._bokeh_is_loading > 0) {\n      console.debug(\"Bokeh: BokehJS is being loaded, scheduling callback at\", now());\n      return null;\n    }\n    if (js_urls == null || js_urls.length === 0) {\n      run_callbacks();\n      return null;\n    }\n    console.debug(\"Bokeh: BokehJS not loaded, scheduling load and callback at\", now());\n    root._bokeh_is_loading = css_urls.length + js_urls.length;\n\n    function on_load() {\n      root._bokeh_is_loading--;\n      if (root._bokeh_is_loading === 0) {\n        console.debug(\"Bokeh: all BokehJS libraries/stylesheets loaded\");\n        run_callbacks()\n      }\n    }\n\n    function on_error(url) {\n      console.error(\"failed to load \" + url);\n    }\n\n    for (let i = 0; i < css_urls.length; i++) {\n      const url = css_urls[i];\n      const element = document.createElement(\"link\");\n      element.onload = on_load;\n      element.onerror = on_error.bind(null, url);\n      element.rel = \"stylesheet\";\n      element.type = \"text/css\";\n      element.href = url;\n      console.debug(\"Bokeh: injecting link tag for BokehJS stylesheet: \", url);\n      document.body.appendChild(element);\n    }\n\n    for (let i = 0; i < js_urls.length; i++) {\n      const url = js_urls[i];\n      const element = document.createElement('script');\n      element.onload = on_load;\n      element.onerror = on_error.bind(null, url);\n      element.async = false;\n      element.src = url;\n      console.debug(\"Bokeh: injecting script tag for BokehJS library: \", url);\n      document.head.appendChild(element);\n    }\n  };\n\n  function inject_raw_css(css) {\n    const element = document.createElement(\"style\");\n    element.appendChild(document.createTextNode(css));\n    document.body.appendChild(element);\n  }\n\n  const js_urls = [\"https://cdn.bokeh.org/bokeh/release/bokeh-2.4.3.min.js\", \"https://cdn.bokeh.org/bokeh/release/bokeh-gl-2.4.3.min.js\", \"https://cdn.bokeh.org/bokeh/release/bokeh-widgets-2.4.3.min.js\", \"https://cdn.bokeh.org/bokeh/release/bokeh-tables-2.4.3.min.js\", \"https://cdn.bokeh.org/bokeh/release/bokeh-mathjax-2.4.3.min.js\"];\n  const css_urls = [];\n\n  const inline_js = [    function(Bokeh) {\n      Bokeh.set_log_level(\"info\");\n    },\nfunction(Bokeh) {\n    }\n  ];\n\n  function run_inline_js() {\n    if (root.Bokeh !== undefined || force === true) {\n          for (let i = 0; i < inline_js.length; i++) {\n      inline_js[i].call(root, root.Bokeh);\n    }\nif (force === true) {\n        display_loaded();\n      }} else if (Date.now() < root._bokeh_timeout) {\n      setTimeout(run_inline_js, 100);\n    } else if (!root._bokeh_failed_load) {\n      console.log(\"Bokeh: BokehJS failed to load within specified timeout.\");\n      root._bokeh_failed_load = true;\n    } else if (force !== true) {\n      const cell = $(document.getElementById(\"1282\")).parents('.cell').data().cell;\n      cell.output_area.append_execute_result(NB_LOAD_WARNING)\n    }\n  }\n\n  if (root._bokeh_is_loading === 0) {\n    console.debug(\"Bokeh: BokehJS loaded, going straight to plotting\");\n    run_inline_js();\n  } else {\n    load_libs(css_urls, js_urls, function() {\n      console.debug(\"Bokeh: BokehJS plotting callback run at\", now());\n      run_inline_js();\n    });\n  }\n}(window));"
     },
     "metadata": {},
     "output_type": "display_data"
    },
    {
     "data": {
      "text/html": [
       "\n",
       "  <div class=\"bk-root\" id=\"76caf9f3-391c-40ce-819f-ecd27bcec43f\" data-root-id=\"1283\"></div>\n"
      ]
     },
     "metadata": {},
     "output_type": "display_data"
    },
    {
     "data": {
      "application/javascript": [
       "(function(root) {\n",
       "  function embed_document(root) {\n",
       "  const docs_json = {\"f3c118c3-a2eb-4472-b54c-a91501cd76ca\":{\"defs\":[],\"roots\":{\"references\":[{\"attributes\":{\"below\":[{\"id\":\"1294\"}],\"center\":[{\"id\":\"1297\"},{\"id\":\"1301\"},{\"id\":\"1382\"},{\"id\":\"1383\"},{\"id\":\"1384\"},{\"id\":\"1385\"},{\"id\":\"1386\"},{\"id\":\"1387\"},{\"id\":\"1388\"},{\"id\":\"1389\"},{\"id\":\"1390\"},{\"id\":\"1391\"},{\"id\":\"1392\"},{\"id\":\"1393\"},{\"id\":\"1394\"},{\"id\":\"1395\"},{\"id\":\"1396\"},{\"id\":\"1397\"},{\"id\":\"1398\"},{\"id\":\"1399\"},{\"id\":\"1400\"},{\"id\":\"1401\"},{\"id\":\"1402\"},{\"id\":\"1403\"},{\"id\":\"1404\"},{\"id\":\"1405\"},{\"id\":\"1406\"},{\"id\":\"1407\"},{\"id\":\"1408\"},{\"id\":\"1409\"},{\"id\":\"1410\"},{\"id\":\"1411\"},{\"id\":\"1412\"},{\"id\":\"1413\"},{\"id\":\"1414\"},{\"id\":\"1415\"},{\"id\":\"1416\"},{\"id\":\"1417\"},{\"id\":\"1418\"},{\"id\":\"1419\"},{\"id\":\"1420\"}],\"height\":800,\"left\":[{\"id\":\"1298\"}],\"renderers\":[{\"id\":\"1316\"}],\"title\":{\"id\":\"1284\"},\"toolbar\":{\"id\":\"1309\"},\"width\":800,\"x_range\":{\"id\":\"1286\"},\"x_scale\":{\"id\":\"1290\"},\"y_range\":{\"id\":\"1288\"},\"y_scale\":{\"id\":\"1292\"}},\"id\":\"1283\",\"subtype\":\"Figure\",\"type\":\"Plot\"},{\"attributes\":{\"callback\":null,\"renderers\":[{\"id\":\"1319\"}],\"tooltips\":[[\"node_type\",\"@node_type\"],[\"CreateTime\",\"@{CreateTime}\"],[\"PID\",\"@{PID}\"],[\"ParentName\",\"@{ParentName}\"],[\"ExitTime\",\"@{ExitTime}\"]]},\"id\":\"1368\",\"type\":\"HoverTool\"},{\"attributes\":{\"line_color\":{\"value\":\"#abdda4\"},\"line_width\":{\"value\":5}},\"id\":\"1330\",\"type\":\"MultiLine\"},{\"attributes\":{\"callback\":null,\"renderers\":[{\"id\":\"1323\"}],\"tooltips\":[[\"CreateTime\",\"@{CreateTime}\"]]},\"id\":\"1373\",\"type\":\"HoverTool\"},{\"attributes\":{},\"id\":\"1360\",\"type\":\"NodesAndLinkedEdges\"},{\"attributes\":{},\"id\":\"1290\",\"type\":\"LinearScale\"},{\"attributes\":{},\"id\":\"1362\",\"type\":\"EdgesAndLinkedNodes\"},{\"attributes\":{\"coordinates\":null,\"group\":null,\"text\":\"LiteAgent.exe\",\"text_font_size\":\"10pt\",\"x\":0.3040893059620851,\"x_offset\":5,\"y\":0.33061672017916965,\"y_offset\":5},\"id\":\"1396\",\"type\":\"Label\"},{\"attributes\":{\"coordinates\":null,\"group\":null,\"text\":\"backgroundTask\",\"text_font_size\":\"10pt\",\"x\":-0.2892107447992739,\"x_offset\":5,\"y\":-0.06038528249344189,\"y_offset\":5},\"id\":\"1418\",\"type\":\"Label\"},{\"attributes\":{},\"id\":\"1303\",\"type\":\"WheelZoomTool\"},{\"attributes\":{\"coordinates\":null,\"group\":null,\"text\":\"RuntimeBroker.\",\"text_font_size\":\"10pt\",\"x\":-0.09459682964146741,\"x_offset\":5,\"y\":-0.13212635655868404,\"y_offset\":5},\"id\":\"1413\",\"type\":\"Label\"},{\"attributes\":{\"coordinates\":null,\"group\":null,\"text\":\"PSclient.exe\",\"text_font_size\":\"10pt\",\"x\":0.24397697542200794,\"x_offset\":5,\"y\":-0.20545202968703297,\"y_offset\":5},\"id\":\"1416\",\"type\":\"Label\"},{\"attributes\":{\"coordinates\":null,\"group\":null,\"text\":\"smartscreen.ex\",\"text_font_size\":\"10pt\",\"x\":-0.13178069384930122,\"x_offset\":5,\"y\":0.11375373654841119,\"y_offset\":5},\"id\":\"1417\",\"type\":\"Label\"},{\"attributes\":{\"graph_layout\":{\"LiteAgent.exe\":[0.3040893059620851,0.33061672017916965],\"LogonUI.exe\":[-0.0850388739874346,0.38500301616807725],\"MsMpEng.exe\":[0.35116227248760934,0.28587233698721426],\"NisSrv.exe\":[0.2689510116163509,0.3848563413957106],\"PSclient.exe\":[0.24397697542200794,-0.20545202968703297],\"Registry\":[-0.435655479682671,-0.7778441864985609],\"RuntimeBroker.\":[-0.09459682964146741,-0.13212635655868404],\"SearchUI.exe\":[-0.2469655407574805,-0.11995361733936977],\"ShellExperienc\":[-0.04560230186983248,-0.05622405767674566],\"System\":[-0.49496656805532424,-0.8936106151348612],\"TabTip.exe\":[-0.3812502472588529,-0.01859591174383253],\"TabTip32.exe\":[-0.5492683159302675,-0.03414016494182094],\"amazon-ssm-age\":[0.3546313199080535,0.10753580301475642],\"backgroundTask\":[-0.2892107447992739,-0.06038528249344189],\"conhost.exe\":[0.4109961412845568,-0.17882156434557825],\"csrss.exe\":[-0.17398863332078118,-0.12063129391855744],\"ctfmon.exe\":[-0.21440152544199695,0.1371432097922262],\"dllhost.exe\":[-0.23779683761426662,-0.010800513853799891],\"dwm.exe\":[-0.14638427689499986,0.3460904439222913],\"explorer.exe\":[0.35189596564673364,-0.04449108726891948],\"fontdrvhost.ex\":[0.0331041098146005,0.3920971997010097],\"lsass.exe\":[0.19327967095367965,0.605372860052573],\"msdtc.exe\":[0.3114029656494654,0.22556402106479082],\"powershell.exe\":[0.5122086532635551,-0.164461339002715],\"rdpclip.exe\":[-0.1771489418357851,-0.22586591852654866],\"rdpinput.exe\":[-0.20583425279233106,-0.3883836645510282],\"services.exe\":[0.18000688581791568,0.2322658313765021],\"sihost.exe\":[-0.27680704458409305,0.11042683348534281],\"smartscreen.ex\":[-0.13178069384930122,0.11375373654841119],\"smss.exe\":[-0.5497101321095184,-1.0],\"spoolsv.exe\":[0.19729762506124507,0.3575166512895953],\"ssm-agent-work\":[0.4544233443515432,-0.03536066330920607],\"svchost.exe\":[-0.13193744659588,0.010904869067085404],\"taskhostw.exe\":[-0.29528877532766584,0.04461247510708531],\"userinit.exe\":[0.16640761678628832,0.0892796578562417],\"wininit.exe\":[0.1501935768853336,0.44608664952184746],\"winlogon.exe\":[-0.02950313701504473,0.22819674910393778],\"winpmem_mini_x\":[0.6477398257203145,-0.23706863806272463],\"wsmprovhost.ex\":[0.06136933273293018,-0.12897850072043943]}},\"id\":\"1329\",\"type\":\"StaticLayoutProvider\"},{\"attributes\":{\"coordinates\":null,\"group\":null,\"text\":\"dllhost.exe\",\"text_font_size\":\"10pt\",\"x\":-0.23779683761426662,\"x_offset\":5,\"y\":-0.010800513853799891,\"y_offset\":5},\"id\":\"1414\",\"type\":\"Label\"},{\"attributes\":{\"coordinates\":null,\"group\":null,\"text\":\"wsmprovhost.ex\",\"text_font_size\":\"10pt\",\"x\":0.06136933273293018,\"x_offset\":5,\"y\":-0.12897850072043943,\"y_offset\":5},\"id\":\"1415\",\"type\":\"Label\"},{\"attributes\":{\"coordinates\":null,\"group\":null,\"text\":\"smss.exe\",\"text_font_size\":\"10pt\",\"x\":-0.5497101321095184,\"x_offset\":5,\"y\":-1.0,\"y_offset\":5},\"id\":\"1384\",\"type\":\"Label\"},{\"attributes\":{\"coordinates\":null,\"group\":null,\"text\":\"amazon-ssm-age\",\"text_font_size\":\"10pt\",\"x\":0.3546313199080535,\"x_offset\":5,\"y\":0.10753580301475642,\"y_offset\":5},\"id\":\"1395\",\"type\":\"Label\"},{\"attributes\":{\"coordinates\":null,\"group\":null,\"text\":\"ShellExperienc\",\"text_font_size\":\"10pt\",\"x\":-0.04560230186983248,\"x_offset\":5,\"y\":-0.05622405767674566,\"y_offset\":5},\"id\":\"1411\",\"type\":\"Label\"},{\"attributes\":{\"bottom_units\":\"screen\",\"coordinates\":null,\"fill_alpha\":0.5,\"fill_color\":\"lightgrey\",\"group\":null,\"left_units\":\"screen\",\"level\":\"overlay\",\"line_alpha\":1.0,\"line_color\":\"black\",\"line_dash\":[4,4],\"line_width\":2,\"right_units\":\"screen\",\"syncable\":false,\"top_units\":\"screen\"},\"id\":\"1458\",\"type\":\"BoxAnnotation\"},{\"attributes\":{\"source\":{\"id\":\"1318\"}},\"id\":\"1320\",\"type\":\"CDSView\"},{\"attributes\":{\"fill_color\":{\"value\":\"#fdae61\"},\"size\":{\"value\":25}},\"id\":\"1355\",\"type\":\"Circle\"},{\"attributes\":{\"coordinates\":null,\"group\":null,\"text\":\"dwm.exe\",\"text_font_size\":\"10pt\",\"x\":-0.14638427689499986,\"x_offset\":5,\"y\":0.3460904439222913,\"y_offset\":5},\"id\":\"1393\",\"type\":\"Label\"},{\"attributes\":{\"coordinates\":null,\"group\":null,\"text\":\"winpmem_mini_x\",\"text_font_size\":\"10pt\",\"x\":0.6477398257203145,\"x_offset\":5,\"y\":-0.23706863806272463,\"y_offset\":5},\"id\":\"1420\",\"type\":\"Label\"},{\"attributes\":{},\"id\":\"1306\",\"type\":\"ResetTool\"},{\"attributes\":{\"coordinates\":null,\"group\":null,\"text\":\"Registry\",\"text_font_size\":\"10pt\",\"x\":-0.435655479682671,\"x_offset\":5,\"y\":-0.7778441864985609,\"y_offset\":5},\"id\":\"1382\",\"type\":\"Label\"},{\"attributes\":{\"coordinates\":null,\"group\":null,\"text\":\"powershell.exe\",\"text_font_size\":\"10pt\",\"x\":0.5122086532635551,\"x_offset\":5,\"y\":-0.164461339002715,\"y_offset\":5},\"id\":\"1419\",\"type\":\"Label\"},{\"attributes\":{\"coordinates\":null,\"data_source\":{\"id\":\"1318\"},\"glyph\":{\"id\":\"1345\"},\"group\":null,\"hover_glyph\":{\"id\":\"1350\"},\"selection_glyph\":{\"id\":\"1355\"},\"view\":{\"id\":\"1320\"}},\"id\":\"1319\",\"type\":\"GlyphRenderer\"},{\"attributes\":{},\"id\":\"1374\",\"type\":\"WheelZoomTool\"},{\"attributes\":{\"coordinates\":null,\"group\":null,\"text\":\"explorer.exe\",\"text_font_size\":\"10pt\",\"x\":0.35189596564673364,\"x_offset\":5,\"y\":-0.04449108726891948,\"y_offset\":5},\"id\":\"1408\",\"type\":\"Label\"},{\"attributes\":{\"coordinates\":null,\"group\":null,\"text\":\"rdpinput.exe\",\"text_font_size\":\"10pt\",\"x\":-0.20583425279233106,\"x_offset\":5,\"y\":-0.3883836645510282,\"y_offset\":5},\"id\":\"1407\",\"type\":\"Label\"},{\"attributes\":{\"callback\":null},\"id\":\"1375\",\"type\":\"TapTool\"},{\"attributes\":{\"bottom_units\":\"screen\",\"coordinates\":null,\"fill_alpha\":0.5,\"fill_color\":\"lightgrey\",\"group\":null,\"left_units\":\"screen\",\"level\":\"overlay\",\"line_alpha\":1.0,\"line_color\":\"black\",\"line_dash\":[4,4],\"line_width\":2,\"right_units\":\"screen\",\"syncable\":false,\"top_units\":\"screen\"},\"id\":\"1308\",\"type\":\"BoxAnnotation\"},{\"attributes\":{},\"id\":\"1295\",\"type\":\"BasicTicker\"},{\"attributes\":{\"coordinates\":null,\"data_source\":{\"id\":\"1322\"},\"glyph\":{\"id\":\"1335\"},\"group\":null,\"hover_glyph\":{\"id\":\"1330\"},\"selection_glyph\":{\"id\":\"1340\"},\"view\":{\"id\":\"1324\"}},\"id\":\"1323\",\"type\":\"GlyphRenderer\"},{\"attributes\":{\"overlay\":{\"id\":\"1308\"}},\"id\":\"1304\",\"type\":\"BoxZoomTool\"},{\"attributes\":{\"coordinates\":null,\"group\":null,\"text\":\"LogonUI.exe\",\"text_font_size\":\"10pt\",\"x\":-0.0850388739874346,\"x_offset\":5,\"y\":0.38500301616807725,\"y_offset\":5},\"id\":\"1392\",\"type\":\"Label\"},{\"attributes\":{\"coordinates\":null,\"group\":null,\"text\":\"spoolsv.exe\",\"text_font_size\":\"10pt\",\"x\":0.19729762506124507,\"x_offset\":5,\"y\":0.3575166512895953,\"y_offset\":5},\"id\":\"1394\",\"type\":\"Label\"},{\"attributes\":{\"coordinates\":null,\"group\":null,\"text\":\"ctfmon.exe\",\"text_font_size\":\"10pt\",\"x\":-0.21440152544199695,\"x_offset\":5,\"y\":0.1371432097922262,\"y_offset\":5},\"id\":\"1405\",\"type\":\"Label\"},{\"attributes\":{\"data\":{\"CreateTime\":[\"2021-04-01 05:04:54.000000 \",\"2021-04-01 05:04:58.000000 \",\"2021-04-01 05:05:00.000000 \",\"2021-04-01 05:05:00.000000 \",\"2021-04-06 01:56:17.000000 \",\"2021-04-01 05:48:23.000000 \",\"2021-04-01 05:48:24.000000 \",\"2021-04-01 05:48:24.000000 \",\"2021-04-01 05:48:24.000000 \",\"2021-04-06 01:56:26.000000 \",\"2021-04-01 05:48:31.000000 \",\"2021-04-01 05:48:32.000000 \",\"2021-04-01 05:48:43.000000 \",\"2021-04-06 01:56:58.000000 \",\"2021-04-06 01:02:25.000000 \",\"2021-04-06 01:56:17.000000 \",\"2021-04-06 01:56:18.000000 \",\"2021-04-01 05:48:16.000000 \",\"2021-04-01 05:05:02.000000 \",\"2021-04-01 05:48:17.000000 \",\"2021-04-01 05:48:25.000000 \",\"2021-04-01 05:05:01.000000 \",\"2021-04-01 05:05:03.000000 \",\"2021-04-01 05:05:03.000000 \",\"2021-04-01 05:05:03.000000 \",\"2021-04-01 05:05:04.000000 \",\"2021-04-01 05:05:06.000000 \",\"2021-04-01 05:07:04.000000 \",\"2021-04-01 05:05:01.000000 \",\"2021-04-01 05:05:01.000000 \",\"2021-04-01 05:05:09.000000 \",\"2021-04-01 05:05:09.000000 \",\"2021-04-06 01:02:26.000000 \",\"2021-04-06 01:56:26.000000 \",\"2021-04-01 05:48:25.000000 \",\"2021-04-01 05:48:25.000000 \",\"2021-04-06 01:56:26.000000 \",\"2021-04-01 05:48:25.000000 \",\"2021-04-06 01:02:26.000000 \",\"2021-04-06 01:56:57.000000 \"],\"end\":[\"System\",\"smss.exe\",\"svchost.exe\",\"winlogon.exe\",\"services.exe\",\"rdpclip.exe\",\"sihost.exe\",\"taskhostw.exe\",\"ctfmon.exe\",\"TabTip.exe\",\"ShellExperienc\",\"SearchUI.exe\",\"RuntimeBroker.\",\"dllhost.exe\",\"wsmprovhost.ex\",\"smartscreen.ex\",\"backgroundTask\",\"fontdrvhost.ex\",\"LogonUI.exe\",\"dwm.exe\",\"userinit.exe\",\"wininit.exe\",\"spoolsv.exe\",\"amazon-ssm-age\",\"LiteAgent.exe\",\"MsMpEng.exe\",\"NisSrv.exe\",\"msdtc.exe\",\"lsass.exe\",\"fontdrvhost.ex\",\"ssm-agent-work\",\"conhost.exe\",\"PSclient.exe\",\"powershell.exe\",\"rdpinput.exe\",\"explorer.exe\",\"powershell.exe\",\"TabTip32.exe\",\"PSclient.exe\",\"winpmem_mini_x\"],\"start\":[\"Registry\",\"System\",\"csrss.exe\",\"svchost.exe\",\"svchost.exe\",\"svchost.exe\",\"svchost.exe\",\"svchost.exe\",\"svchost.exe\",\"svchost.exe\",\"svchost.exe\",\"svchost.exe\",\"svchost.exe\",\"svchost.exe\",\"svchost.exe\",\"svchost.exe\",\"svchost.exe\",\"winlogon.exe\",\"winlogon.exe\",\"winlogon.exe\",\"winlogon.exe\",\"services.exe\",\"services.exe\",\"services.exe\",\"services.exe\",\"services.exe\",\"services.exe\",\"services.exe\",\"wininit.exe\",\"wininit.exe\",\"amazon-ssm-age\",\"ssm-agent-work\",\"conhost.exe\",\"conhost.exe\",\"rdpclip.exe\",\"userinit.exe\",\"explorer.exe\",\"TabTip.exe\",\"wsmprovhost.ex\",\"powershell.exe\"]},\"selected\":{\"id\":\"1462\"},\"selection_policy\":{\"id\":\"1461\"}},\"id\":\"1322\",\"type\":\"ColumnDataSource\"},{\"attributes\":{\"coordinates\":null,\"group\":null,\"text\":\"SearchUI.exe\",\"text_font_size\":\"10pt\",\"x\":-0.2469655407574805,\"x_offset\":5,\"y\":-0.11995361733936977,\"y_offset\":5},\"id\":\"1412\",\"type\":\"Label\"},{\"attributes\":{},\"id\":\"1459\",\"type\":\"UnionRenderers\"},{\"attributes\":{\"tools\":[{\"id\":\"1302\"},{\"id\":\"1303\"},{\"id\":\"1304\"},{\"id\":\"1305\"},{\"id\":\"1306\"},{\"id\":\"1307\"},{\"id\":\"1368\"},{\"id\":\"1373\"},{\"id\":\"1374\"},{\"id\":\"1375\"},{\"id\":\"1376\"}]},\"id\":\"1309\",\"type\":\"Toolbar\"},{\"attributes\":{\"coordinates\":null,\"group\":null,\"text\":\"conhost.exe\",\"text_font_size\":\"10pt\",\"x\":0.4109961412845568,\"x_offset\":5,\"y\":-0.17882156434557825,\"y_offset\":5},\"id\":\"1400\",\"type\":\"Label\"},{\"attributes\":{\"coordinates\":null,\"group\":null,\"text\":\"TabTip32.exe\",\"text_font_size\":\"10pt\",\"x\":-0.5492683159302675,\"x_offset\":5,\"y\":-0.03414016494182094,\"y_offset\":5},\"id\":\"1410\",\"type\":\"Label\"},{\"attributes\":{},\"id\":\"1302\",\"type\":\"PanTool\"},{\"attributes\":{},\"id\":\"1460\",\"type\":\"Selection\"},{\"attributes\":{\"coordinates\":null,\"group\":null,\"text\":\"userinit.exe\",\"text_font_size\":\"10pt\",\"x\":0.16640761678628832,\"x_offset\":5,\"y\":0.0892796578562417,\"y_offset\":5},\"id\":\"1406\",\"type\":\"Label\"},{\"attributes\":{},\"id\":\"1299\",\"type\":\"BasicTicker\"},{\"attributes\":{\"overlay\":{\"id\":\"1458\"}},\"id\":\"1376\",\"type\":\"BoxSelectTool\"},{\"attributes\":{\"coordinates\":null,\"group\":null,\"text\":\"wininit.exe\",\"text_font_size\":\"10pt\",\"x\":0.1501935768853336,\"x_offset\":5,\"y\":0.44608664952184746,\"y_offset\":5},\"id\":\"1389\",\"type\":\"Label\"},{\"attributes\":{\"coordinates\":null,\"group\":null,\"text\":\"lsass.exe\",\"text_font_size\":\"10pt\",\"x\":0.19327967095367965,\"x_offset\":5,\"y\":0.605372860052573,\"y_offset\":5},\"id\":\"1390\",\"type\":\"Label\"},{\"attributes\":{\"fill_color\":{\"field\":\"node_color\"},\"size\":{\"value\":25}},\"id\":\"1345\",\"type\":\"Circle\"},{\"attributes\":{\"coordinates\":null,\"group\":null,\"text\":\"sihost.exe\",\"text_font_size\":\"10pt\",\"x\":-0.27680704458409305,\"x_offset\":5,\"y\":0.11042683348534281,\"y_offset\":5},\"id\":\"1403\",\"type\":\"Label\"},{\"attributes\":{\"coordinates\":null,\"group\":null,\"text\":\"TabTip.exe\",\"text_font_size\":\"10pt\",\"x\":-0.3812502472588529,\"x_offset\":5,\"y\":-0.01859591174383253,\"y_offset\":5},\"id\":\"1409\",\"type\":\"Label\"},{\"attributes\":{\"coordinates\":null,\"group\":null,\"text\":\"System\",\"text_font_size\":\"10pt\",\"x\":-0.49496656805532424,\"x_offset\":5,\"y\":-0.8936106151348612,\"y_offset\":5},\"id\":\"1383\",\"type\":\"Label\"},{\"attributes\":{},\"id\":\"1452\",\"type\":\"BasicTickFormatter\"},{\"attributes\":{},\"id\":\"1453\",\"type\":\"AllLabels\"},{\"attributes\":{\"source\":{\"id\":\"1322\"}},\"id\":\"1324\",\"type\":\"CDSView\"},{\"attributes\":{\"coordinates\":null,\"group\":null,\"text\":\"services.exe\",\"text_font_size\":\"10pt\",\"x\":0.18000688581791568,\"x_offset\":5,\"y\":0.2322658313765021,\"y_offset\":5},\"id\":\"1388\",\"type\":\"Label\"},{\"attributes\":{\"line_alpha\":{\"value\":0.8}},\"id\":\"1335\",\"type\":\"MultiLine\"},{\"attributes\":{},\"id\":\"1461\",\"type\":\"UnionRenderers\"},{\"attributes\":{},\"id\":\"1455\",\"type\":\"BasicTickFormatter\"},{\"attributes\":{},\"id\":\"1462\",\"type\":\"Selection\"},{\"attributes\":{\"coordinates\":null,\"edge_renderer\":{\"id\":\"1323\"},\"group\":null,\"inspection_policy\":{\"id\":\"1362\"},\"layout_provider\":{\"id\":\"1329\"},\"node_renderer\":{\"id\":\"1319\"},\"selection_policy\":{\"id\":\"1360\"}},\"id\":\"1316\",\"type\":\"GraphRenderer\"},{\"attributes\":{\"coordinates\":null,\"group\":null,\"text\":\"rdpclip.exe\",\"text_font_size\":\"10pt\",\"x\":-0.1771489418357851,\"x_offset\":5,\"y\":-0.22586591852654866,\"y_offset\":5},\"id\":\"1402\",\"type\":\"Label\"},{\"attributes\":{},\"id\":\"1456\",\"type\":\"AllLabels\"},{\"attributes\":{\"line_color\":{\"value\":\"#fdae61\"},\"line_width\":{\"value\":5}},\"id\":\"1340\",\"type\":\"MultiLine\"},{\"attributes\":{\"coordinates\":null,\"group\":null,\"text\":\"Data Graph\"},\"id\":\"1284\",\"type\":\"Title\"},{\"attributes\":{\"coordinates\":null,\"group\":null,\"text\":\"winlogon.exe\",\"text_font_size\":\"10pt\",\"x\":-0.02950313701504473,\"x_offset\":5,\"y\":0.22819674910393778,\"y_offset\":5},\"id\":\"1387\",\"type\":\"Label\"},{\"attributes\":{},\"id\":\"1307\",\"type\":\"HelpTool\"},{\"attributes\":{\"end\":3,\"start\":-3},\"id\":\"1288\",\"type\":\"Range1d\"},{\"attributes\":{\"coordinates\":null,\"group\":null,\"text\":\"svchost.exe\",\"text_font_size\":\"10pt\",\"x\":-0.13193744659588,\"x_offset\":5,\"y\":0.010904869067085404,\"y_offset\":5},\"id\":\"1386\",\"type\":\"Label\"},{\"attributes\":{\"coordinates\":null,\"group\":null,\"text\":\"ssm-agent-work\",\"text_font_size\":\"10pt\",\"x\":0.4544233443515432,\"x_offset\":5,\"y\":-0.03536066330920607,\"y_offset\":5},\"id\":\"1399\",\"type\":\"Label\"},{\"attributes\":{},\"id\":\"1292\",\"type\":\"LinearScale\"},{\"attributes\":{\"coordinates\":null,\"group\":null,\"text\":\"csrss.exe\",\"text_font_size\":\"10pt\",\"x\":-0.17398863332078118,\"x_offset\":5,\"y\":-0.12063129391855744,\"y_offset\":5},\"id\":\"1385\",\"type\":\"Label\"},{\"attributes\":{\"end\":3,\"start\":-3},\"id\":\"1286\",\"type\":\"Range1d\"},{\"attributes\":{\"coordinates\":null,\"group\":null,\"text\":\"MsMpEng.exe\",\"text_font_size\":\"10pt\",\"x\":0.35116227248760934,\"x_offset\":5,\"y\":0.28587233698721426,\"y_offset\":5},\"id\":\"1397\",\"type\":\"Label\"},{\"attributes\":{},\"id\":\"1305\",\"type\":\"SaveTool\"},{\"attributes\":{\"coordinates\":null,\"group\":null,\"text\":\"taskhostw.exe\",\"text_font_size\":\"10pt\",\"x\":-0.29528877532766584,\"x_offset\":5,\"y\":0.04461247510708531,\"y_offset\":5},\"id\":\"1404\",\"type\":\"Label\"},{\"attributes\":{\"data\":{\"CreateTime\":[\"2021-04-01 05:04:54.000000 \",null,\"2021-04-01 05:04:58.000000 \",\"2021-04-01 05:05:00.000000 \",\"2021-04-01 05:05:01.000000 , 2021-04-01 05:05:02.000000 , 2021-04-01 05:05:03.000000 , 2021-04-01 05:05:04.000000 , 2021-04-01 05:07:04.000000 , 2021-04-01 05:07:05.000000 , 2021-04-01 05:07:07.000000 , 2021-04-01 05:48:24.000000 , 2021-04-01 05:48:25.000000 , 2021-04-01 05:48:28.000000 , 2021-04-01 05:58:48.000000 , 2021-04-02 01:20:04.000000 , 2021-04-05 21:59:50.000000 , 2021-04-06 01:30:54.000000 , 2021-04-06 01:56:17.000000 \",\"2021-04-01 05:05:00.000000 \",\"2021-04-01 05:05:01.000000 \",null,\"2021-04-01 05:05:01.000000 \",\"2021-04-01 05:05:01.000000 , 2021-04-01 05:48:16.000000 \",\"2021-04-01 05:05:02.000000 \",\"2021-04-01 05:05:02.000000 , 2021-04-01 05:48:17.000000 \",\"2021-04-01 05:05:03.000000 \",\"2021-04-01 05:05:03.000000 \",\"2021-04-01 05:05:03.000000 \",\"2021-04-01 05:05:04.000000 \",\"2021-04-01 05:05:06.000000 \",\"2021-04-01 05:05:09.000000 \",\"2021-04-01 05:05:09.000000 , 2021-04-06 01:02:26.000000 , 2021-04-06 01:56:26.000000 \",\"2021-04-01 05:07:04.000000 \",\"2021-04-01 05:48:23.000000 \",\"2021-04-01 05:48:24.000000 \",\"2021-04-01 05:48:24.000000 \",\"2021-04-01 05:48:24.000000 \",\"2021-04-01 05:48:25.000000 \",\"2021-04-01 05:48:25.000000 \",\"2021-04-01 05:48:25.000000 \",\"2021-04-01 05:48:25.000000 , 2021-04-06 01:56:26.000000 \",\"2021-04-01 05:48:25.000000 \",\"2021-04-01 05:48:31.000000 \",\"2021-04-01 05:48:32.000000 \",\"2021-04-01 05:48:32.000000 , 2021-04-01 05:48:43.000000 \",\"2021-04-01 05:49:08.000000 , 2021-04-06 01:56:58.000000 \",\"2021-04-06 01:02:25.000000 \",\"2021-04-06 01:02:26.000000 \",\"2021-04-06 01:56:17.000000 \",\"2021-04-06 01:56:18.000000 \",\"2021-04-06 01:56:26.000000 \",\"2021-04-06 01:56:57.000000 \"],\"ExitTime\":[\"NaN\",null,\"NaN\",\"NaN\",\"NaN\",\"NaN\",\"NaN\",null,\"NaN\",\"NaN\",\"NaN\",\"NaN\",\"NaN\",\"NaN\",\"NaN\",\"NaN\",\"NaN\",\"NaN\",\"NaN\",\"NaN\",\"NaN\",\"NaN\",\"NaN\",\"NaN\",\"2021-04-01 05:48:54.000000 \",\"NaN\",\"NaN\",\"nan, 2021-04-06 01:56:26.000000 \",\"NaN\",\"NaN\",\"NaN\",\"NaN\",\"NaN\",\"NaN\",\"NaN\",\"NaN\",\"NaN\",\"NaN\",\"NaN\"],\"PID\":[88,null,404,640,\"908, 928, 496, 624, 1092, 1152, 1164, 1172, 1180, 1192, 1264, 1312, 1384, 1476, 1576, 1612, 1660, 1668, 1680, 1712, 1824, 1848, 1888, 1924, 2004, 2032, 1260, 2092, 2336, 2352, 2396, 2456, 2560, 2784, 2848, 2896, 2904, 2956, 2964, 3036, 3112, 2472, 4012, 1524, 1884, 1456, 1328, 2716, 1688, 4128, 4500, 4140, 4292, 2196, 7032, 652, 6828, 6484\",700,768,null,776,\"952, 960, 1636\",512,\"1028, 2660\",2588,2728,2768,2992,3904,3992,\"4004, 3064, 1736\",1104,2392,1956,2236,4192,4604,4628,4636,\"4680, 3964\",4756,5504,5588,\"5620, 5688, 1588\",\"560, 5772\",4076,32,5184,904,2844,6580],\"ParentName\":[\"System\",null,\"System\",\"svchost.exe\",\"services.exe\",\"svchost.exe\",\"wininit.exe\",null,\"wininit.exe\",\"wininit.exe, winlogon.exe\",\"winlogon.exe\",\"winlogon.exe\",\"services.exe\",\"services.exe\",\"services.exe\",\"services.exe\",\"services.exe\",\"amazon-ssm-age\",\"ssm-agent-work, PSclient.exe, powershell.exe\",\"services.exe\",\"svchost.exe\",\"svchost.exe\",\"svchost.exe\",\"svchost.exe\",\"winlogon.exe\",\"rdpclip.exe\",\"userinit.exe\",\"svchost.exe\",\"TabTip.exe\",\"svchost.exe\",\"svchost.exe\",\"svchost.exe\",\"svchost.exe\",\"svchost.exe\",\"wsmprovhost.ex\",\"svchost.exe\",\"svchost.exe\",\"explorer.exe\",\"powershell.exe\"],\"index\":[\"Registry\",\"System\",\"smss.exe\",\"csrss.exe\",\"svchost.exe\",\"winlogon.exe\",\"services.exe\",\"wininit.exe\",\"lsass.exe\",\"fontdrvhost.ex\",\"LogonUI.exe\",\"dwm.exe\",\"spoolsv.exe\",\"amazon-ssm-age\",\"LiteAgent.exe\",\"MsMpEng.exe\",\"NisSrv.exe\",\"ssm-agent-work\",\"conhost.exe\",\"msdtc.exe\",\"rdpclip.exe\",\"sihost.exe\",\"taskhostw.exe\",\"ctfmon.exe\",\"userinit.exe\",\"rdpinput.exe\",\"explorer.exe\",\"TabTip.exe\",\"TabTip32.exe\",\"ShellExperienc\",\"SearchUI.exe\",\"RuntimeBroker.\",\"dllhost.exe\",\"wsmprovhost.ex\",\"PSclient.exe\",\"smartscreen.ex\",\"backgroundTask\",\"powershell.exe\",\"winpmem_mini_x\"],\"node_color\":[\"lightblue\",\"lightgreen\",\"lightblue\",\"lightblue\",\"lightgreen\",\"lightgreen\",\"lightgreen\",\"lightgreen\",\"lightblue\",\"lightblue\",\"lightblue\",\"lightblue\",\"lightblue\",\"lightgreen\",\"lightblue\",\"lightblue\",\"lightblue\",\"lightgreen\",\"lightblue\",\"lightblue\",\"lightgreen\",\"lightblue\",\"lightblue\",\"lightblue\",\"lightgreen\",\"lightblue\",\"lightgreen\",\"lightgreen\",\"lightblue\",\"lightblue\",\"lightblue\",\"lightblue\",\"lightblue\",\"lightgreen\",\"lightgreen\",\"lightblue\",\"lightblue\",\"lightgreen\",\"lightblue\"],\"node_role\":[\"source\",\"target\",\"source\",\"source\",\"target\",\"target\",\"target\",\"target\",\"source\",\"source\",\"source\",\"source\",\"source\",\"target\",\"source\",\"source\",\"source\",\"target\",\"source\",\"source\",\"target\",\"source\",\"source\",\"source\",\"target\",\"source\",\"target\",\"target\",\"source\",\"source\",\"source\",\"source\",\"source\",\"target\",\"target\",\"source\",\"source\",\"target\",\"source\"],\"node_type\":[\"ImageFileName\",\"ParentName\",\"ImageFileName\",\"ImageFileName\",\"ParentName\",\"ParentName\",\"ParentName\",\"ParentName\",\"ImageFileName\",\"ImageFileName\",\"ImageFileName\",\"ImageFileName\",\"ImageFileName\",\"ParentName\",\"ImageFileName\",\"ImageFileName\",\"ImageFileName\",\"ParentName\",\"ImageFileName\",\"ImageFileName\",\"ParentName\",\"ImageFileName\",\"ImageFileName\",\"ImageFileName\",\"ParentName\",\"ImageFileName\",\"ParentName\",\"ParentName\",\"ImageFileName\",\"ImageFileName\",\"ImageFileName\",\"ImageFileName\",\"ImageFileName\",\"ParentName\",\"ParentName\",\"ImageFileName\",\"ImageFileName\",\"ParentName\",\"ImageFileName\"]},\"selected\":{\"id\":\"1460\"},\"selection_policy\":{\"id\":\"1459\"}},\"id\":\"1318\",\"type\":\"ColumnDataSource\"},{\"attributes\":{\"coordinates\":null,\"group\":null,\"text\":\"msdtc.exe\",\"text_font_size\":\"10pt\",\"x\":0.3114029656494654,\"x_offset\":5,\"y\":0.22556402106479082,\"y_offset\":5},\"id\":\"1401\",\"type\":\"Label\"},{\"attributes\":{\"fill_color\":{\"value\":\"#abdda4\"},\"size\":{\"value\":25}},\"id\":\"1350\",\"type\":\"Circle\"},{\"attributes\":{\"axis\":{\"id\":\"1294\"},\"coordinates\":null,\"group\":null,\"ticker\":null},\"id\":\"1297\",\"type\":\"Grid\"},{\"attributes\":{\"coordinates\":null,\"group\":null,\"text\":\"NisSrv.exe\",\"text_font_size\":\"10pt\",\"x\":0.2689510116163509,\"x_offset\":5,\"y\":0.3848563413957106,\"y_offset\":5},\"id\":\"1398\",\"type\":\"Label\"},{\"attributes\":{\"coordinates\":null,\"formatter\":{\"id\":\"1452\"},\"group\":null,\"major_label_policy\":{\"id\":\"1453\"},\"ticker\":{\"id\":\"1299\"}},\"id\":\"1298\",\"type\":\"LinearAxis\"},{\"attributes\":{\"coordinates\":null,\"formatter\":{\"id\":\"1455\"},\"group\":null,\"major_label_policy\":{\"id\":\"1456\"},\"ticker\":{\"id\":\"1295\"}},\"id\":\"1294\",\"type\":\"LinearAxis\"},{\"attributes\":{\"axis\":{\"id\":\"1298\"},\"coordinates\":null,\"dimension\":1,\"group\":null,\"ticker\":null},\"id\":\"1301\",\"type\":\"Grid\"},{\"attributes\":{\"coordinates\":null,\"group\":null,\"text\":\"fontdrvhost.ex\",\"text_font_size\":\"10pt\",\"x\":0.0331041098146005,\"x_offset\":5,\"y\":0.3920971997010097,\"y_offset\":5},\"id\":\"1391\",\"type\":\"Label\"}],\"root_ids\":[\"1283\"]},\"title\":\"Bokeh Application\",\"version\":\"2.4.3\"}};\n",
       "  const render_items = [{\"docid\":\"f3c118c3-a2eb-4472-b54c-a91501cd76ca\",\"root_ids\":[\"1283\"],\"roots\":{\"1283\":\"76caf9f3-391c-40ce-819f-ecd27bcec43f\"}}];\n",
       "  root.Bokeh.embed.embed_items_notebook(docs_json, render_items);\n",
       "  }\n",
       "  if (root.Bokeh !== undefined) {\n",
       "    embed_document(root);\n",
       "  } else {\n",
       "    let attempts = 0;\n",
       "    const timer = setInterval(function(root) {\n",
       "      if (root.Bokeh !== undefined) {\n",
       "        clearInterval(timer);\n",
       "        embed_document(root);\n",
       "      } else {\n",
       "        attempts++;\n",
       "        if (attempts > 100) {\n",
       "          clearInterval(timer);\n",
       "          console.log(\"Bokeh: ERROR: Unable to run BokehJS code because BokehJS library is missing\");\n",
       "        }\n",
       "      }\n",
       "    }, 10, root)\n",
       "  }\n",
       "})(window);"
      ],
      "application/vnd.bokehjs_exec.v0+json": ""
     },
     "metadata": {
      "application/vnd.bokehjs_exec.v0+json": {
       "id": "1283"
      }
     },
     "output_type": "display_data"
    },
    {
     "data": {
      "text/html": [
       "<div style=\"display: table;\"><div style=\"display: table-row;\"><div style=\"display: table-cell;\"><b title=\"bokeh.plotting.figure.Figure\">Figure</b>(</div><div style=\"display: table-cell;\">id&nbsp;=&nbsp;'1283', <span id=\"1581\" style=\"cursor: pointer;\">&hellip;)</span></div></div><div class=\"1580\" style=\"display: none;\"><div style=\"display: table-cell;\"></div><div style=\"display: table-cell;\">above&nbsp;=&nbsp;[],</div></div><div class=\"1580\" style=\"display: none;\"><div style=\"display: table-cell;\"></div><div style=\"display: table-cell;\">align&nbsp;=&nbsp;'start',</div></div><div class=\"1580\" style=\"display: none;\"><div style=\"display: table-cell;\"></div><div style=\"display: table-cell;\">aspect_ratio&nbsp;=&nbsp;None,</div></div><div class=\"1580\" style=\"display: none;\"><div style=\"display: table-cell;\"></div><div style=\"display: table-cell;\">aspect_scale&nbsp;=&nbsp;1,</div></div><div class=\"1580\" style=\"display: none;\"><div style=\"display: table-cell;\"></div><div style=\"display: table-cell;\">background&nbsp;=&nbsp;None,</div></div><div class=\"1580\" style=\"display: none;\"><div style=\"display: table-cell;\"></div><div style=\"display: table-cell;\">background_fill_alpha&nbsp;=&nbsp;1.0,</div></div><div class=\"1580\" style=\"display: none;\"><div style=\"display: table-cell;\"></div><div style=\"display: table-cell;\">background_fill_color&nbsp;=&nbsp;'#ffffff',</div></div><div class=\"1580\" style=\"display: none;\"><div style=\"display: table-cell;\"></div><div style=\"display: table-cell;\">below&nbsp;=&nbsp;[LinearAxis(id='1294', ...)],</div></div><div class=\"1580\" style=\"display: none;\"><div style=\"display: table-cell;\"></div><div style=\"display: table-cell;\">border_fill_alpha&nbsp;=&nbsp;1.0,</div></div><div class=\"1580\" style=\"display: none;\"><div style=\"display: table-cell;\"></div><div style=\"display: table-cell;\">border_fill_color&nbsp;=&nbsp;'#ffffff',</div></div><div class=\"1580\" style=\"display: none;\"><div style=\"display: table-cell;\"></div><div style=\"display: table-cell;\">center&nbsp;=&nbsp;[Grid(id='1297', ...), Grid(id='1301', ...), Label(id='1382', ...), Label(id='1383', ...), Label(id='1384', ...), Label(id='1385', ...), Label(id='1386', ...), Label(id='1387', ...), Label(id='1388', ...), Label(id='1389', ...), Label(id='1390', ...), Label(id='1391', ...), Label(id='1392', ...), Label(id='1393', ...), Label(id='1394', ...), Label(id='1395', ...), Label(id='1396', ...), Label(id='1397', ...), Label(id='1398', ...), Label(id='1399', ...), Label(id='1400', ...), Label(id='1401', ...), Label(id='1402', ...), Label(id='1403', ...), Label(id='1404', ...), Label(id='1405', ...), Label(id='1406', ...), Label(id='1407', ...), Label(id='1408', ...), Label(id='1409', ...), Label(id='1410', ...), Label(id='1411', ...), Label(id='1412', ...), Label(id='1413', ...), Label(id='1414', ...), Label(id='1415', ...), Label(id='1416', ...), Label(id='1417', ...), Label(id='1418', ...), Label(id='1419', ...), Label(id='1420', ...)],</div></div><div class=\"1580\" style=\"display: none;\"><div style=\"display: table-cell;\"></div><div style=\"display: table-cell;\">css_classes&nbsp;=&nbsp;[],</div></div><div class=\"1580\" style=\"display: none;\"><div style=\"display: table-cell;\"></div><div style=\"display: table-cell;\">disabled&nbsp;=&nbsp;False,</div></div><div class=\"1580\" style=\"display: none;\"><div style=\"display: table-cell;\"></div><div style=\"display: table-cell;\">extra_x_ranges&nbsp;=&nbsp;{},</div></div><div class=\"1580\" style=\"display: none;\"><div style=\"display: table-cell;\"></div><div style=\"display: table-cell;\">extra_x_scales&nbsp;=&nbsp;{},</div></div><div class=\"1580\" style=\"display: none;\"><div style=\"display: table-cell;\"></div><div style=\"display: table-cell;\">extra_y_ranges&nbsp;=&nbsp;{},</div></div><div class=\"1580\" style=\"display: none;\"><div style=\"display: table-cell;\"></div><div style=\"display: table-cell;\">extra_y_scales&nbsp;=&nbsp;{},</div></div><div class=\"1580\" style=\"display: none;\"><div style=\"display: table-cell;\"></div><div style=\"display: table-cell;\">frame_height&nbsp;=&nbsp;None,</div></div><div class=\"1580\" style=\"display: none;\"><div style=\"display: table-cell;\"></div><div style=\"display: table-cell;\">frame_width&nbsp;=&nbsp;None,</div></div><div class=\"1580\" style=\"display: none;\"><div style=\"display: table-cell;\"></div><div style=\"display: table-cell;\">height&nbsp;=&nbsp;800,</div></div><div class=\"1580\" style=\"display: none;\"><div style=\"display: table-cell;\"></div><div style=\"display: table-cell;\">height_policy&nbsp;=&nbsp;'auto',</div></div><div class=\"1580\" style=\"display: none;\"><div style=\"display: table-cell;\"></div><div style=\"display: table-cell;\">hidpi&nbsp;=&nbsp;True,</div></div><div class=\"1580\" style=\"display: none;\"><div style=\"display: table-cell;\"></div><div style=\"display: table-cell;\">inner_height&nbsp;=&nbsp;0,</div></div><div class=\"1580\" style=\"display: none;\"><div style=\"display: table-cell;\"></div><div style=\"display: table-cell;\">inner_width&nbsp;=&nbsp;0,</div></div><div class=\"1580\" style=\"display: none;\"><div style=\"display: table-cell;\"></div><div style=\"display: table-cell;\">js_event_callbacks&nbsp;=&nbsp;{},</div></div><div class=\"1580\" style=\"display: none;\"><div style=\"display: table-cell;\"></div><div style=\"display: table-cell;\">js_property_callbacks&nbsp;=&nbsp;{},</div></div><div class=\"1580\" style=\"display: none;\"><div style=\"display: table-cell;\"></div><div style=\"display: table-cell;\">left&nbsp;=&nbsp;[LinearAxis(id='1298', ...)],</div></div><div class=\"1580\" style=\"display: none;\"><div style=\"display: table-cell;\"></div><div style=\"display: table-cell;\">lod_factor&nbsp;=&nbsp;10,</div></div><div class=\"1580\" style=\"display: none;\"><div style=\"display: table-cell;\"></div><div style=\"display: table-cell;\">lod_interval&nbsp;=&nbsp;300,</div></div><div class=\"1580\" style=\"display: none;\"><div style=\"display: table-cell;\"></div><div style=\"display: table-cell;\">lod_threshold&nbsp;=&nbsp;2000,</div></div><div class=\"1580\" style=\"display: none;\"><div style=\"display: table-cell;\"></div><div style=\"display: table-cell;\">lod_timeout&nbsp;=&nbsp;500,</div></div><div class=\"1580\" style=\"display: none;\"><div style=\"display: table-cell;\"></div><div style=\"display: table-cell;\">margin&nbsp;=&nbsp;(0, 0, 0, 0),</div></div><div class=\"1580\" style=\"display: none;\"><div style=\"display: table-cell;\"></div><div style=\"display: table-cell;\">match_aspect&nbsp;=&nbsp;False,</div></div><div class=\"1580\" style=\"display: none;\"><div style=\"display: table-cell;\"></div><div style=\"display: table-cell;\">max_height&nbsp;=&nbsp;None,</div></div><div class=\"1580\" style=\"display: none;\"><div style=\"display: table-cell;\"></div><div style=\"display: table-cell;\">max_width&nbsp;=&nbsp;None,</div></div><div class=\"1580\" style=\"display: none;\"><div style=\"display: table-cell;\"></div><div style=\"display: table-cell;\">min_border&nbsp;=&nbsp;5,</div></div><div class=\"1580\" style=\"display: none;\"><div style=\"display: table-cell;\"></div><div style=\"display: table-cell;\">min_border_bottom&nbsp;=&nbsp;None,</div></div><div class=\"1580\" style=\"display: none;\"><div style=\"display: table-cell;\"></div><div style=\"display: table-cell;\">min_border_left&nbsp;=&nbsp;None,</div></div><div class=\"1580\" style=\"display: none;\"><div style=\"display: table-cell;\"></div><div style=\"display: table-cell;\">min_border_right&nbsp;=&nbsp;None,</div></div><div class=\"1580\" style=\"display: none;\"><div style=\"display: table-cell;\"></div><div style=\"display: table-cell;\">min_border_top&nbsp;=&nbsp;None,</div></div><div class=\"1580\" style=\"display: none;\"><div style=\"display: table-cell;\"></div><div style=\"display: table-cell;\">min_height&nbsp;=&nbsp;None,</div></div><div class=\"1580\" style=\"display: none;\"><div style=\"display: table-cell;\"></div><div style=\"display: table-cell;\">min_width&nbsp;=&nbsp;None,</div></div><div class=\"1580\" style=\"display: none;\"><div style=\"display: table-cell;\"></div><div style=\"display: table-cell;\">name&nbsp;=&nbsp;None,</div></div><div class=\"1580\" style=\"display: none;\"><div style=\"display: table-cell;\"></div><div style=\"display: table-cell;\">outer_height&nbsp;=&nbsp;0,</div></div><div class=\"1580\" style=\"display: none;\"><div style=\"display: table-cell;\"></div><div style=\"display: table-cell;\">outer_width&nbsp;=&nbsp;0,</div></div><div class=\"1580\" style=\"display: none;\"><div style=\"display: table-cell;\"></div><div style=\"display: table-cell;\">outline_line_alpha&nbsp;=&nbsp;1.0,</div></div><div class=\"1580\" style=\"display: none;\"><div style=\"display: table-cell;\"></div><div style=\"display: table-cell;\">outline_line_cap&nbsp;=&nbsp;'butt',</div></div><div class=\"1580\" style=\"display: none;\"><div style=\"display: table-cell;\"></div><div style=\"display: table-cell;\">outline_line_color&nbsp;=&nbsp;'#e5e5e5',</div></div><div class=\"1580\" style=\"display: none;\"><div style=\"display: table-cell;\"></div><div style=\"display: table-cell;\">outline_line_dash&nbsp;=&nbsp;[],</div></div><div class=\"1580\" style=\"display: none;\"><div style=\"display: table-cell;\"></div><div style=\"display: table-cell;\">outline_line_dash_offset&nbsp;=&nbsp;0,</div></div><div class=\"1580\" style=\"display: none;\"><div style=\"display: table-cell;\"></div><div style=\"display: table-cell;\">outline_line_join&nbsp;=&nbsp;'bevel',</div></div><div class=\"1580\" style=\"display: none;\"><div style=\"display: table-cell;\"></div><div style=\"display: table-cell;\">outline_line_width&nbsp;=&nbsp;1,</div></div><div class=\"1580\" style=\"display: none;\"><div style=\"display: table-cell;\"></div><div style=\"display: table-cell;\">output_backend&nbsp;=&nbsp;'canvas',</div></div><div class=\"1580\" style=\"display: none;\"><div style=\"display: table-cell;\"></div><div style=\"display: table-cell;\">renderers&nbsp;=&nbsp;[GraphRenderer(id='1316', ...)],</div></div><div class=\"1580\" style=\"display: none;\"><div style=\"display: table-cell;\"></div><div style=\"display: table-cell;\">reset_policy&nbsp;=&nbsp;'standard',</div></div><div class=\"1580\" style=\"display: none;\"><div style=\"display: table-cell;\"></div><div style=\"display: table-cell;\">right&nbsp;=&nbsp;[],</div></div><div class=\"1580\" style=\"display: none;\"><div style=\"display: table-cell;\"></div><div style=\"display: table-cell;\">sizing_mode&nbsp;=&nbsp;None,</div></div><div class=\"1580\" style=\"display: none;\"><div style=\"display: table-cell;\"></div><div style=\"display: table-cell;\">subscribed_events&nbsp;=&nbsp;[],</div></div><div class=\"1580\" style=\"display: none;\"><div style=\"display: table-cell;\"></div><div style=\"display: table-cell;\">syncable&nbsp;=&nbsp;True,</div></div><div class=\"1580\" style=\"display: none;\"><div style=\"display: table-cell;\"></div><div style=\"display: table-cell;\">tags&nbsp;=&nbsp;[],</div></div><div class=\"1580\" style=\"display: none;\"><div style=\"display: table-cell;\"></div><div style=\"display: table-cell;\">title&nbsp;=&nbsp;Title(id='1284', ...),</div></div><div class=\"1580\" style=\"display: none;\"><div style=\"display: table-cell;\"></div><div style=\"display: table-cell;\">title_location&nbsp;=&nbsp;'above',</div></div><div class=\"1580\" style=\"display: none;\"><div style=\"display: table-cell;\"></div><div style=\"display: table-cell;\">toolbar&nbsp;=&nbsp;Toolbar(id='1309', ...),</div></div><div class=\"1580\" style=\"display: none;\"><div style=\"display: table-cell;\"></div><div style=\"display: table-cell;\">toolbar_location&nbsp;=&nbsp;'right',</div></div><div class=\"1580\" style=\"display: none;\"><div style=\"display: table-cell;\"></div><div style=\"display: table-cell;\">toolbar_sticky&nbsp;=&nbsp;True,</div></div><div class=\"1580\" style=\"display: none;\"><div style=\"display: table-cell;\"></div><div style=\"display: table-cell;\">visible&nbsp;=&nbsp;True,</div></div><div class=\"1580\" style=\"display: none;\"><div style=\"display: table-cell;\"></div><div style=\"display: table-cell;\">width&nbsp;=&nbsp;800,</div></div><div class=\"1580\" style=\"display: none;\"><div style=\"display: table-cell;\"></div><div style=\"display: table-cell;\">width_policy&nbsp;=&nbsp;'auto',</div></div><div class=\"1580\" style=\"display: none;\"><div style=\"display: table-cell;\"></div><div style=\"display: table-cell;\">x_range&nbsp;=&nbsp;Range1d(id='1286', ...),</div></div><div class=\"1580\" style=\"display: none;\"><div style=\"display: table-cell;\"></div><div style=\"display: table-cell;\">x_scale&nbsp;=&nbsp;LinearScale(id='1290', ...),</div></div><div class=\"1580\" style=\"display: none;\"><div style=\"display: table-cell;\"></div><div style=\"display: table-cell;\">y_range&nbsp;=&nbsp;Range1d(id='1288', ...),</div></div><div class=\"1580\" style=\"display: none;\"><div style=\"display: table-cell;\"></div><div style=\"display: table-cell;\">y_scale&nbsp;=&nbsp;LinearScale(id='1292', ...))</div></div></div>\n",
       "<script>\n",
       "(function() {\n",
       "  let expanded = false;\n",
       "  const ellipsis = document.getElementById(\"1581\");\n",
       "  ellipsis.addEventListener(\"click\", function() {\n",
       "    const rows = document.getElementsByClassName(\"1580\");\n",
       "    for (let i = 0; i < rows.length; i++) {\n",
       "      const el = rows[i];\n",
       "      el.style.display = expanded ? \"none\" : \"table-row\";\n",
       "    }\n",
       "    ellipsis.innerHTML = expanded ? \"&hellip;)\" : \"&lsaquo;&lsaquo;&lsaquo;\";\n",
       "    expanded = !expanded;\n",
       "  });\n",
       "})();\n",
       "</script>\n"
      ],
      "text/plain": [
       "Figure(id='1283', ...)"
      ]
     },
     "execution_count": 15,
     "metadata": {},
     "output_type": "execute_result"
    }
   ],
   "source": [
    "dfprocs.mp_plot.network(\n",
    "    source_col=\"ImageFileName\",\n",
    "    target_col=\"ParentName\",\n",
    "    source_attrs=[\"PID\", \"ParentName\",\"CreateTime\",\"ExitTime\"],\n",
    "    edge_attrs=[\"CreateTime\"],\n",
    ")\n",
    "\n"
   ]
  },
  {
   "cell_type": "markdown",
   "id": "159fd327",
   "metadata": {},
   "source": [
    "### <a href=#pr7>PR7 - Anomalous Process Detection using time duration</a>\n",
    "This analyst task involves visually observing the life timeline, a process at the time the memory dump was taken. Processes which have a shorter lifespan are suspicious and may require further analysis. In addition, you may also detect malicious or suspicious process behaviour just by visually observing the spawn time as time goes by. First we create a new dataframe containing processes that has exit timestamps. This way we are reducing the noise. Then we create a \"Timeline Duration\" visualisation using the msticpy library."
   ]
  },
  {
   "cell_type": "code",
   "execution_count": 16,
   "id": "5ffc5072",
   "metadata": {},
   "outputs": [
    {
     "data": {
      "text/html": [
       "<div class=\"bk-root\">\n",
       "        <a href=\"https://bokeh.org\" target=\"_blank\" class=\"bk-logo bk-logo-small bk-logo-notebook\"></a>\n",
       "        <span id=\"1583\">Loading BokehJS ...</span>\n",
       "    </div>\n"
      ]
     },
     "metadata": {},
     "output_type": "display_data"
    },
    {
     "data": {
      "application/javascript": [
       "(function(root) {\n",
       "  function now() {\n",
       "    return new Date();\n",
       "  }\n",
       "\n",
       "  const force = true;\n",
       "\n",
       "  if (typeof root._bokeh_onload_callbacks === \"undefined\" || force === true) {\n",
       "    root._bokeh_onload_callbacks = [];\n",
       "    root._bokeh_is_loading = undefined;\n",
       "  }\n",
       "\n",
       "const JS_MIME_TYPE = 'application/javascript';\n",
       "  const HTML_MIME_TYPE = 'text/html';\n",
       "  const EXEC_MIME_TYPE = 'application/vnd.bokehjs_exec.v0+json';\n",
       "  const CLASS_NAME = 'output_bokeh rendered_html';\n",
       "\n",
       "  /**\n",
       "   * Render data to the DOM node\n",
       "   */\n",
       "  function render(props, node) {\n",
       "    const script = document.createElement(\"script\");\n",
       "    node.appendChild(script);\n",
       "  }\n",
       "\n",
       "  /**\n",
       "   * Handle when an output is cleared or removed\n",
       "   */\n",
       "  function handleClearOutput(event, handle) {\n",
       "    const cell = handle.cell;\n",
       "\n",
       "    const id = cell.output_area._bokeh_element_id;\n",
       "    const server_id = cell.output_area._bokeh_server_id;\n",
       "    // Clean up Bokeh references\n",
       "    if (id != null && id in Bokeh.index) {\n",
       "      Bokeh.index[id].model.document.clear();\n",
       "      delete Bokeh.index[id];\n",
       "    }\n",
       "\n",
       "    if (server_id !== undefined) {\n",
       "      // Clean up Bokeh references\n",
       "      const cmd_clean = \"from bokeh.io.state import curstate; print(curstate().uuid_to_server['\" + server_id + \"'].get_sessions()[0].document.roots[0]._id)\";\n",
       "      cell.notebook.kernel.execute(cmd_clean, {\n",
       "        iopub: {\n",
       "          output: function(msg) {\n",
       "            const id = msg.content.text.trim();\n",
       "            if (id in Bokeh.index) {\n",
       "              Bokeh.index[id].model.document.clear();\n",
       "              delete Bokeh.index[id];\n",
       "            }\n",
       "          }\n",
       "        }\n",
       "      });\n",
       "      // Destroy server and session\n",
       "      const cmd_destroy = \"import bokeh.io.notebook as ion; ion.destroy_server('\" + server_id + \"')\";\n",
       "      cell.notebook.kernel.execute(cmd_destroy);\n",
       "    }\n",
       "  }\n",
       "\n",
       "  /**\n",
       "   * Handle when a new output is added\n",
       "   */\n",
       "  function handleAddOutput(event, handle) {\n",
       "    const output_area = handle.output_area;\n",
       "    const output = handle.output;\n",
       "\n",
       "    // limit handleAddOutput to display_data with EXEC_MIME_TYPE content only\n",
       "    if ((output.output_type != \"display_data\") || (!Object.prototype.hasOwnProperty.call(output.data, EXEC_MIME_TYPE))) {\n",
       "      return\n",
       "    }\n",
       "\n",
       "    const toinsert = output_area.element.find(\".\" + CLASS_NAME.split(' ')[0]);\n",
       "\n",
       "    if (output.metadata[EXEC_MIME_TYPE][\"id\"] !== undefined) {\n",
       "      toinsert[toinsert.length - 1].firstChild.textContent = output.data[JS_MIME_TYPE];\n",
       "      // store reference to embed id on output_area\n",
       "      output_area._bokeh_element_id = output.metadata[EXEC_MIME_TYPE][\"id\"];\n",
       "    }\n",
       "    if (output.metadata[EXEC_MIME_TYPE][\"server_id\"] !== undefined) {\n",
       "      const bk_div = document.createElement(\"div\");\n",
       "      bk_div.innerHTML = output.data[HTML_MIME_TYPE];\n",
       "      const script_attrs = bk_div.children[0].attributes;\n",
       "      for (let i = 0; i < script_attrs.length; i++) {\n",
       "        toinsert[toinsert.length - 1].firstChild.setAttribute(script_attrs[i].name, script_attrs[i].value);\n",
       "        toinsert[toinsert.length - 1].firstChild.textContent = bk_div.children[0].textContent\n",
       "      }\n",
       "      // store reference to server id on output_area\n",
       "      output_area._bokeh_server_id = output.metadata[EXEC_MIME_TYPE][\"server_id\"];\n",
       "    }\n",
       "  }\n",
       "\n",
       "  function register_renderer(events, OutputArea) {\n",
       "\n",
       "    function append_mime(data, metadata, element) {\n",
       "      // create a DOM node to render to\n",
       "      const toinsert = this.create_output_subarea(\n",
       "        metadata,\n",
       "        CLASS_NAME,\n",
       "        EXEC_MIME_TYPE\n",
       "      );\n",
       "      this.keyboard_manager.register_events(toinsert);\n",
       "      // Render to node\n",
       "      const props = {data: data, metadata: metadata[EXEC_MIME_TYPE]};\n",
       "      render(props, toinsert[toinsert.length - 1]);\n",
       "      element.append(toinsert);\n",
       "      return toinsert\n",
       "    }\n",
       "\n",
       "    /* Handle when an output is cleared or removed */\n",
       "    events.on('clear_output.CodeCell', handleClearOutput);\n",
       "    events.on('delete.Cell', handleClearOutput);\n",
       "\n",
       "    /* Handle when a new output is added */\n",
       "    events.on('output_added.OutputArea', handleAddOutput);\n",
       "\n",
       "    /**\n",
       "     * Register the mime type and append_mime function with output_area\n",
       "     */\n",
       "    OutputArea.prototype.register_mime_type(EXEC_MIME_TYPE, append_mime, {\n",
       "      /* Is output safe? */\n",
       "      safe: true,\n",
       "      /* Index of renderer in `output_area.display_order` */\n",
       "      index: 0\n",
       "    });\n",
       "  }\n",
       "\n",
       "  // register the mime type if in Jupyter Notebook environment and previously unregistered\n",
       "  if (root.Jupyter !== undefined) {\n",
       "    const events = require('base/js/events');\n",
       "    const OutputArea = require('notebook/js/outputarea').OutputArea;\n",
       "\n",
       "    if (OutputArea.prototype.mime_types().indexOf(EXEC_MIME_TYPE) == -1) {\n",
       "      register_renderer(events, OutputArea);\n",
       "    }\n",
       "  }\n",
       "  if (typeof (root._bokeh_timeout) === \"undefined\" || force === true) {\n",
       "    root._bokeh_timeout = Date.now() + 5000;\n",
       "    root._bokeh_failed_load = false;\n",
       "  }\n",
       "\n",
       "  const NB_LOAD_WARNING = {'data': {'text/html':\n",
       "     \"<div style='background-color: #fdd'>\\n\"+\n",
       "     \"<p>\\n\"+\n",
       "     \"BokehJS does not appear to have successfully loaded. If loading BokehJS from CDN, this \\n\"+\n",
       "     \"may be due to a slow or bad network connection. Possible fixes:\\n\"+\n",
       "     \"</p>\\n\"+\n",
       "     \"<ul>\\n\"+\n",
       "     \"<li>re-rerun `output_notebook()` to attempt to load from CDN again, or</li>\\n\"+\n",
       "     \"<li>use INLINE resources instead, as so:</li>\\n\"+\n",
       "     \"</ul>\\n\"+\n",
       "     \"<code>\\n\"+\n",
       "     \"from bokeh.resources import INLINE\\n\"+\n",
       "     \"output_notebook(resources=INLINE)\\n\"+\n",
       "     \"</code>\\n\"+\n",
       "     \"</div>\"}};\n",
       "\n",
       "  function display_loaded() {\n",
       "    const el = document.getElementById(\"1583\");\n",
       "    if (el != null) {\n",
       "      el.textContent = \"BokehJS is loading...\";\n",
       "    }\n",
       "    if (root.Bokeh !== undefined) {\n",
       "      if (el != null) {\n",
       "        el.textContent = \"BokehJS \" + root.Bokeh.version + \" successfully loaded.\";\n",
       "      }\n",
       "    } else if (Date.now() < root._bokeh_timeout) {\n",
       "      setTimeout(display_loaded, 100)\n",
       "    }\n",
       "  }\n",
       "\n",
       "  function run_callbacks() {\n",
       "    try {\n",
       "      root._bokeh_onload_callbacks.forEach(function(callback) {\n",
       "        if (callback != null)\n",
       "          callback();\n",
       "      });\n",
       "    } finally {\n",
       "      delete root._bokeh_onload_callbacks\n",
       "    }\n",
       "    console.debug(\"Bokeh: all callbacks have finished\");\n",
       "  }\n",
       "\n",
       "  function load_libs(css_urls, js_urls, callback) {\n",
       "    if (css_urls == null) css_urls = [];\n",
       "    if (js_urls == null) js_urls = [];\n",
       "\n",
       "    root._bokeh_onload_callbacks.push(callback);\n",
       "    if (root._bokeh_is_loading > 0) {\n",
       "      console.debug(\"Bokeh: BokehJS is being loaded, scheduling callback at\", now());\n",
       "      return null;\n",
       "    }\n",
       "    if (js_urls == null || js_urls.length === 0) {\n",
       "      run_callbacks();\n",
       "      return null;\n",
       "    }\n",
       "    console.debug(\"Bokeh: BokehJS not loaded, scheduling load and callback at\", now());\n",
       "    root._bokeh_is_loading = css_urls.length + js_urls.length;\n",
       "\n",
       "    function on_load() {\n",
       "      root._bokeh_is_loading--;\n",
       "      if (root._bokeh_is_loading === 0) {\n",
       "        console.debug(\"Bokeh: all BokehJS libraries/stylesheets loaded\");\n",
       "        run_callbacks()\n",
       "      }\n",
       "    }\n",
       "\n",
       "    function on_error(url) {\n",
       "      console.error(\"failed to load \" + url);\n",
       "    }\n",
       "\n",
       "    for (let i = 0; i < css_urls.length; i++) {\n",
       "      const url = css_urls[i];\n",
       "      const element = document.createElement(\"link\");\n",
       "      element.onload = on_load;\n",
       "      element.onerror = on_error.bind(null, url);\n",
       "      element.rel = \"stylesheet\";\n",
       "      element.type = \"text/css\";\n",
       "      element.href = url;\n",
       "      console.debug(\"Bokeh: injecting link tag for BokehJS stylesheet: \", url);\n",
       "      document.body.appendChild(element);\n",
       "    }\n",
       "\n",
       "    for (let i = 0; i < js_urls.length; i++) {\n",
       "      const url = js_urls[i];\n",
       "      const element = document.createElement('script');\n",
       "      element.onload = on_load;\n",
       "      element.onerror = on_error.bind(null, url);\n",
       "      element.async = false;\n",
       "      element.src = url;\n",
       "      console.debug(\"Bokeh: injecting script tag for BokehJS library: \", url);\n",
       "      document.head.appendChild(element);\n",
       "    }\n",
       "  };\n",
       "\n",
       "  function inject_raw_css(css) {\n",
       "    const element = document.createElement(\"style\");\n",
       "    element.appendChild(document.createTextNode(css));\n",
       "    document.body.appendChild(element);\n",
       "  }\n",
       "\n",
       "  const js_urls = [\"https://cdn.bokeh.org/bokeh/release/bokeh-2.4.3.min.js\", \"https://cdn.bokeh.org/bokeh/release/bokeh-gl-2.4.3.min.js\", \"https://cdn.bokeh.org/bokeh/release/bokeh-widgets-2.4.3.min.js\", \"https://cdn.bokeh.org/bokeh/release/bokeh-tables-2.4.3.min.js\", \"https://cdn.bokeh.org/bokeh/release/bokeh-mathjax-2.4.3.min.js\"];\n",
       "  const css_urls = [];\n",
       "\n",
       "  const inline_js = [    function(Bokeh) {\n",
       "      Bokeh.set_log_level(\"info\");\n",
       "    },\n",
       "function(Bokeh) {\n",
       "    }\n",
       "  ];\n",
       "\n",
       "  function run_inline_js() {\n",
       "    if (root.Bokeh !== undefined || force === true) {\n",
       "          for (let i = 0; i < inline_js.length; i++) {\n",
       "      inline_js[i].call(root, root.Bokeh);\n",
       "    }\n",
       "if (force === true) {\n",
       "        display_loaded();\n",
       "      }} else if (Date.now() < root._bokeh_timeout) {\n",
       "      setTimeout(run_inline_js, 100);\n",
       "    } else if (!root._bokeh_failed_load) {\n",
       "      console.log(\"Bokeh: BokehJS failed to load within specified timeout.\");\n",
       "      root._bokeh_failed_load = true;\n",
       "    } else if (force !== true) {\n",
       "      const cell = $(document.getElementById(\"1583\")).parents('.cell').data().cell;\n",
       "      cell.output_area.append_execute_result(NB_LOAD_WARNING)\n",
       "    }\n",
       "  }\n",
       "\n",
       "  if (root._bokeh_is_loading === 0) {\n",
       "    console.debug(\"Bokeh: BokehJS loaded, going straight to plotting\");\n",
       "    run_inline_js();\n",
       "  } else {\n",
       "    load_libs(css_urls, js_urls, function() {\n",
       "      console.debug(\"Bokeh: BokehJS plotting callback run at\", now());\n",
       "      run_inline_js();\n",
       "    });\n",
       "  }\n",
       "}(window));"
      ],
      "application/vnd.bokehjs_load.v0+json": "(function(root) {\n  function now() {\n    return new Date();\n  }\n\n  const force = true;\n\n  if (typeof root._bokeh_onload_callbacks === \"undefined\" || force === true) {\n    root._bokeh_onload_callbacks = [];\n    root._bokeh_is_loading = undefined;\n  }\n\n\n  if (typeof (root._bokeh_timeout) === \"undefined\" || force === true) {\n    root._bokeh_timeout = Date.now() + 5000;\n    root._bokeh_failed_load = false;\n  }\n\n  const NB_LOAD_WARNING = {'data': {'text/html':\n     \"<div style='background-color: #fdd'>\\n\"+\n     \"<p>\\n\"+\n     \"BokehJS does not appear to have successfully loaded. If loading BokehJS from CDN, this \\n\"+\n     \"may be due to a slow or bad network connection. Possible fixes:\\n\"+\n     \"</p>\\n\"+\n     \"<ul>\\n\"+\n     \"<li>re-rerun `output_notebook()` to attempt to load from CDN again, or</li>\\n\"+\n     \"<li>use INLINE resources instead, as so:</li>\\n\"+\n     \"</ul>\\n\"+\n     \"<code>\\n\"+\n     \"from bokeh.resources import INLINE\\n\"+\n     \"output_notebook(resources=INLINE)\\n\"+\n     \"</code>\\n\"+\n     \"</div>\"}};\n\n  function display_loaded() {\n    const el = document.getElementById(\"1583\");\n    if (el != null) {\n      el.textContent = \"BokehJS is loading...\";\n    }\n    if (root.Bokeh !== undefined) {\n      if (el != null) {\n        el.textContent = \"BokehJS \" + root.Bokeh.version + \" successfully loaded.\";\n      }\n    } else if (Date.now() < root._bokeh_timeout) {\n      setTimeout(display_loaded, 100)\n    }\n  }\n\n  function run_callbacks() {\n    try {\n      root._bokeh_onload_callbacks.forEach(function(callback) {\n        if (callback != null)\n          callback();\n      });\n    } finally {\n      delete root._bokeh_onload_callbacks\n    }\n    console.debug(\"Bokeh: all callbacks have finished\");\n  }\n\n  function load_libs(css_urls, js_urls, callback) {\n    if (css_urls == null) css_urls = [];\n    if (js_urls == null) js_urls = [];\n\n    root._bokeh_onload_callbacks.push(callback);\n    if (root._bokeh_is_loading > 0) {\n      console.debug(\"Bokeh: BokehJS is being loaded, scheduling callback at\", now());\n      return null;\n    }\n    if (js_urls == null || js_urls.length === 0) {\n      run_callbacks();\n      return null;\n    }\n    console.debug(\"Bokeh: BokehJS not loaded, scheduling load and callback at\", now());\n    root._bokeh_is_loading = css_urls.length + js_urls.length;\n\n    function on_load() {\n      root._bokeh_is_loading--;\n      if (root._bokeh_is_loading === 0) {\n        console.debug(\"Bokeh: all BokehJS libraries/stylesheets loaded\");\n        run_callbacks()\n      }\n    }\n\n    function on_error(url) {\n      console.error(\"failed to load \" + url);\n    }\n\n    for (let i = 0; i < css_urls.length; i++) {\n      const url = css_urls[i];\n      const element = document.createElement(\"link\");\n      element.onload = on_load;\n      element.onerror = on_error.bind(null, url);\n      element.rel = \"stylesheet\";\n      element.type = \"text/css\";\n      element.href = url;\n      console.debug(\"Bokeh: injecting link tag for BokehJS stylesheet: \", url);\n      document.body.appendChild(element);\n    }\n\n    for (let i = 0; i < js_urls.length; i++) {\n      const url = js_urls[i];\n      const element = document.createElement('script');\n      element.onload = on_load;\n      element.onerror = on_error.bind(null, url);\n      element.async = false;\n      element.src = url;\n      console.debug(\"Bokeh: injecting script tag for BokehJS library: \", url);\n      document.head.appendChild(element);\n    }\n  };\n\n  function inject_raw_css(css) {\n    const element = document.createElement(\"style\");\n    element.appendChild(document.createTextNode(css));\n    document.body.appendChild(element);\n  }\n\n  const js_urls = [\"https://cdn.bokeh.org/bokeh/release/bokeh-2.4.3.min.js\", \"https://cdn.bokeh.org/bokeh/release/bokeh-gl-2.4.3.min.js\", \"https://cdn.bokeh.org/bokeh/release/bokeh-widgets-2.4.3.min.js\", \"https://cdn.bokeh.org/bokeh/release/bokeh-tables-2.4.3.min.js\", \"https://cdn.bokeh.org/bokeh/release/bokeh-mathjax-2.4.3.min.js\"];\n  const css_urls = [];\n\n  const inline_js = [    function(Bokeh) {\n      Bokeh.set_log_level(\"info\");\n    },\nfunction(Bokeh) {\n    }\n  ];\n\n  function run_inline_js() {\n    if (root.Bokeh !== undefined || force === true) {\n          for (let i = 0; i < inline_js.length; i++) {\n      inline_js[i].call(root, root.Bokeh);\n    }\nif (force === true) {\n        display_loaded();\n      }} else if (Date.now() < root._bokeh_timeout) {\n      setTimeout(run_inline_js, 100);\n    } else if (!root._bokeh_failed_load) {\n      console.log(\"Bokeh: BokehJS failed to load within specified timeout.\");\n      root._bokeh_failed_load = true;\n    } else if (force !== true) {\n      const cell = $(document.getElementById(\"1583\")).parents('.cell').data().cell;\n      cell.output_area.append_execute_result(NB_LOAD_WARNING)\n    }\n  }\n\n  if (root._bokeh_is_loading === 0) {\n    console.debug(\"Bokeh: BokehJS loaded, going straight to plotting\");\n    run_inline_js();\n  } else {\n    load_libs(css_urls, js_urls, function() {\n      console.debug(\"Bokeh: BokehJS plotting callback run at\", now());\n      run_inline_js();\n    });\n  }\n}(window));"
     },
     "metadata": {},
     "output_type": "display_data"
    },
    {
     "data": {
      "text/html": [
       "\n",
       "  <div class=\"bk-root\" id=\"f9854df1-0097-4375-9920-19782b2a6d9c\" data-root-id=\"1665\"></div>\n"
      ]
     },
     "metadata": {},
     "output_type": "display_data"
    },
    {
     "data": {
      "application/javascript": [
       "(function(root) {\n",
       "  function embed_document(root) {\n",
       "  const docs_json = {\"29b27e99-ffe9-430c-bfc7-5d238823b94b\":{\"defs\":[],\"roots\":{\"references\":[{\"attributes\":{\"children\":[{\"id\":\"1587\"},{\"id\":\"1632\"}]},\"id\":\"1665\",\"type\":\"Column\"},{\"attributes\":{},\"id\":\"1676\",\"type\":\"Selection\"},{\"attributes\":{},\"id\":\"1672\",\"type\":\"AllLabels\"},{\"attributes\":{},\"id\":\"1675\",\"type\":\"UnionRenderers\"},{\"attributes\":{},\"id\":\"1670\",\"type\":\"AllLabels\"},{\"attributes\":{},\"id\":\"1669\",\"type\":\"CategoricalTickFormatter\"},{\"attributes\":{\"days\":[\"%m-%d %H:%M\"],\"hours\":[\"%H:%M:%S\"],\"milliseconds\":[\"%H:%M:%S.%3N\"],\"minutes\":[\"%H:%M:%S\"],\"seconds\":[\"%H:%M:%S\"]},\"id\":\"1649\",\"type\":\"DatetimeTickFormatter\"},{\"attributes\":{\"data\":{\"Center\":{\"__ndarray__\":\"AMDMn7+Id0IAgP9VR4p3QgCA/1VHindCAID/VUeKd0IAgP9VR4p3QgCA/1VHindCAID/VUeKd0IAgP9VR4p3QgCA/1VHindCAADRUk6Kd0I=\",\"dtype\":\"float64\",\"order\":\"little\",\"shape\":[10]},\"CreateTime\":{\"__ndarray__\":\"AIBCnL+Id0IAgGbXQIp3QgAAy5tCindCAABNLUOKd0IAgJrmQ4p3QgAALNZHindCAADVHEmKd0IAgDYsSYp3QgCAjNxMindCAADRUk6Kd0I=\",\"dtype\":\"float64\",\"order\":\"little\",\"shape\":[10]},\"ExitTime\":{\"__ndarray__\":\"AABXo7+Id0IAANAsQ4p3QgAA1S5GindCAADPQUOKd0IAAGQsRop3QgCAnvdHindCAACBKkmKd0IAAH5pSYp3QgCAmNRNindCAADRUk6Kd0I=\",\"dtype\":\"float64\",\"order\":\"little\",\"shape\":[10]},\"File output\":[\"Disabled\",\"Disabled\",\"Disabled\",\"Disabled\",\"Disabled\",\"Disabled\",\"Disabled\",\"Disabled\",\"Disabled\",\"Disabled\"],\"Handles\":[\"-\",\"-\",\"-\",\"-\",\"-\",\"-\",\"-\",\"-\",\"-\",\"-\"],\"ImageFileName\":[\"userinit.exe\",\"mstsc.exe\",\"mstsc.exe\",\"mstsc.exe\",\"mstsc.exe\",\"mstsc.exe\",\"mstsc.exe\",\"mstsc.exe\",\"mstsc.exe\",\"TabTip.exe\"],\"Offset(V)\":[\"0xac81927b2080\",\"0xac81937e72c0\",\"0xac81928ce080\",\"0xac81959b9080\",\"0xac8192b8c080\",\"0xac819605d400\",\"0xac81947ef080\",\"0xac8192f7a080\",\"0xac81960ac080\",\"0xac81928ca080\"],\"PID\":[4604,5208,4104,3392,3508,876,5704,6404,2344,3964],\"PPID\":[1532,4276,6236,6236,6236,3624,6012,6276,6276,4128],\"ParentName\":[\"winlogon.exe\",\"NaN\",\"NaN\",\"NaN\",\"NaN\",\"NaN\",\"NaN\",\"NaN\",\"NaN\",\"svchost.exe\"],\"Row\":[2,1,1,1,1,1,1,1,1,0],\"SessionId\":{\"__ndarray__\":\"AAAAAAAAAEAAAAAAAAAIQAAAAAAAAAhAAAAAAAAACEAAAAAAAAAIQAAAAAAAABBAAAAAAAAAFEAAAAAAAAAUQAAAAAAAABRAAAAAAAAAAEA=\",\"dtype\":\"float64\",\"order\":\"little\",\"shape\":[10]},\"Threads\":[0,0,0,0,0,0,0,0,0,0],\"TreeDepth\":[0,0,0,0,0,0,0,0,0,0],\"Width\":{\"__ndarray__\":\"AAAAAABS3EAAAAAAZPppQQAAAABk+mlBAAAAAGT6aUEAAAAAZPppQQAAAABk+mlBAAAAAGT6aUEAAAAAZPppQQAAAABk+mlBAAAAAAAAAAA=\",\"dtype\":\"float64\",\"order\":\"little\",\"shape\":[10]},\"Wow64\":[false,false,false,false,false,false,false,false,false,false],\"end_time\":{\"__ndarray__\":\"AABXo7+Id0IAgJjUTYp3QgCAmNRNindCAICY1E2Kd0IAgJjUTYp3QgCAmNRNindCAICY1E2Kd0IAgJjUTYp3QgCAmNRNindCAADRUk6Kd0I=\",\"dtype\":\"float64\",\"order\":\"little\",\"shape\":[10]},\"index\":[0,1,2,3,4,5,6,7,8,9],\"start_time\":{\"__ndarray__\":\"AIBCnL+Id0IAgGbXQIp3QgCAZtdAindCAIBm10CKd0IAgGbXQIp3QgCAZtdAindCAIBm10CKd0IAgGbXQIp3QgCAZtdAindCAADRUk6Kd0I=\",\"dtype\":\"float64\",\"order\":\"little\",\"shape\":[10]}},\"selected\":{\"id\":\"1693\"},\"selection_policy\":{\"id\":\"1692\"}},\"id\":\"1651\",\"type\":\"ColumnDataSource\"},{\"attributes\":{\"active_multi\":{\"id\":\"1658\"},\"tools\":[{\"id\":\"1658\"}]},\"id\":\"1647\",\"type\":\"Toolbar\"},{\"attributes\":{},\"id\":\"1677\",\"type\":\"UnionRenderers\"},{\"attributes\":{},\"id\":\"1678\",\"type\":\"Selection\"},{\"attributes\":{\"coordinates\":null,\"formatter\":{\"id\":\"1649\"},\"group\":null,\"major_label_policy\":{\"id\":\"1674\"},\"ticker\":{\"id\":\"1644\"}},\"id\":\"1643\",\"type\":\"DatetimeAxis\"},{\"attributes\":{},\"id\":\"1637\",\"type\":\"DataRange1d\"},{\"attributes\":{\"num_minor_ticks\":5,\"tickers\":[{\"id\":\"1695\"},{\"id\":\"1696\"},{\"id\":\"1697\"},{\"id\":\"1698\"},{\"id\":\"1699\"},{\"id\":\"1700\"},{\"id\":\"1701\"},{\"id\":\"1702\"},{\"id\":\"1703\"},{\"id\":\"1704\"},{\"id\":\"1705\"},{\"id\":\"1706\"}]},\"id\":\"1644\",\"type\":\"DatetimeTicker\"},{\"attributes\":{\"coordinates\":null,\"group\":null,\"text\":\"Range Selector\"},\"id\":\"1633\",\"type\":\"Title\"},{\"attributes\":{},\"id\":\"1639\",\"type\":\"LinearScale\"},{\"attributes\":{\"end\":1617736898150.0002,\"start\":1617193392849.9998},\"id\":\"1635\",\"type\":\"Range1d\"},{\"attributes\":{},\"id\":\"1641\",\"type\":\"LinearScale\"},{\"attributes\":{\"below\":[{\"id\":\"1643\"},{\"id\":\"1648\"}],\"center\":[{\"id\":\"1646\"}],\"height\":120,\"renderers\":[{\"id\":\"1656\"}],\"title\":{\"id\":\"1633\"},\"toolbar\":{\"id\":\"1647\"},\"toolbar_location\":null,\"width\":900,\"x_range\":{\"id\":\"1635\"},\"x_scale\":{\"id\":\"1639\"},\"y_range\":{\"id\":\"1637\"},\"y_scale\":{\"id\":\"1641\"}},\"id\":\"1632\",\"subtype\":\"Figure\",\"type\":\"Plot\"},{\"attributes\":{\"align\":\"right\",\"coordinates\":null,\"group\":null,\"text\":\"Drag the middle or edges of the selection box to change the range in the main chart\",\"text_font_size\":\"10px\"},\"id\":\"1648\",\"type\":\"Title\"},{\"attributes\":{\"coordinates\":null,\"data_source\":{\"id\":\"1585\"},\"glyph\":{\"id\":\"1627\"},\"group\":null,\"hover_glyph\":null,\"muted_glyph\":{\"id\":\"1629\"},\"nonselection_glyph\":{\"id\":\"1628\"},\"view\":{\"id\":\"1631\"}},\"id\":\"1630\",\"type\":\"GlyphRenderer\"},{\"attributes\":{\"fill_alpha\":{\"value\":0.2},\"fill_color\":{\"value\":\"navy\"},\"hatch_alpha\":{\"value\":0.2},\"hatch_color\":{\"value\":\"navy\"},\"line_alpha\":{\"value\":0.2},\"line_color\":{\"value\":\"navy\"},\"marker\":{\"value\":\"diamond\"},\"size\":{\"value\":5},\"x\":{\"field\":\"CreateTime\"},\"y\":{\"field\":\"Row\",\"transform\":{\"id\":\"1625\"}}},\"id\":\"1629\",\"type\":\"Scatter\"},{\"attributes\":{\"fill_alpha\":{\"value\":0.1},\"fill_color\":{\"value\":\"navy\"},\"hatch_alpha\":{\"value\":0.1},\"hatch_color\":{\"value\":\"navy\"},\"line_alpha\":{\"value\":0.1},\"line_color\":{\"value\":\"navy\"},\"marker\":{\"value\":\"diamond\"},\"size\":{\"value\":5},\"x\":{\"field\":\"CreateTime\"},\"y\":{\"field\":\"Row\",\"transform\":{\"id\":\"1625\"}}},\"id\":\"1628\",\"type\":\"Scatter\"},{\"attributes\":{\"axis\":{\"id\":\"1643\"},\"coordinates\":null,\"group\":null,\"ticker\":null},\"id\":\"1646\",\"type\":\"Grid\"},{\"attributes\":{\"source\":{\"id\":\"1584\"}},\"id\":\"1624\",\"type\":\"CDSView\"},{\"attributes\":{\"source\":{\"id\":\"1585\"}},\"id\":\"1631\",\"type\":\"CDSView\"},{\"attributes\":{\"range\":null,\"value\":0.5},\"id\":\"1625\",\"type\":\"Dodge\"},{\"attributes\":{\"mantissas\":[1,2,5],\"max_interval\":500.0,\"num_minor_ticks\":0},\"id\":\"1680\",\"type\":\"AdaptiveTicker\"},{\"attributes\":{\"base\":60,\"mantissas\":[1,2,5,10,15,20,30],\"max_interval\":1800000.0,\"min_interval\":1000.0,\"num_minor_ticks\":0},\"id\":\"1681\",\"type\":\"AdaptiveTicker\"},{\"attributes\":{\"fill_alpha\":{\"value\":0.5},\"fill_color\":{\"value\":\"navy\"},\"hatch_alpha\":{\"value\":0.5},\"hatch_color\":{\"value\":\"navy\"},\"line_alpha\":{\"value\":0.5},\"line_color\":{\"value\":\"navy\"},\"marker\":{\"value\":\"diamond\"},\"size\":{\"value\":5},\"x\":{\"field\":\"CreateTime\"},\"y\":{\"field\":\"Row\",\"transform\":{\"id\":\"1625\"}}},\"id\":\"1627\",\"type\":\"Scatter\"},{\"attributes\":{\"days\":[1,2,3,4,5,6,7,8,9,10,11,12,13,14,15,16,17,18,19,20,21,22,23,24,25,26,27,28,29,30,31]},\"id\":\"1683\",\"type\":\"DaysTicker\"},{\"attributes\":{\"base\":24,\"mantissas\":[1,2,4,6,8,12],\"max_interval\":43200000.0,\"min_interval\":3600000.0,\"num_minor_ticks\":0},\"id\":\"1682\",\"type\":\"AdaptiveTicker\"},{\"attributes\":{\"months\":[0,1,2,3,4,5,6,7,8,9,10,11]},\"id\":\"1687\",\"type\":\"MonthsTicker\"},{\"attributes\":{\"data\":{\"Center\":{\"__ndarray__\":\"AMDMn7+Id0IAgP9VR4p3QgCA/1VHindCAID/VUeKd0IAgP9VR4p3QgCA/1VHindCAID/VUeKd0IAgP9VR4p3QgCA/1VHindCAADRUk6Kd0I=\",\"dtype\":\"float64\",\"order\":\"little\",\"shape\":[10]},\"CreateTime\":{\"__ndarray__\":\"AIBCnL+Id0IAgGbXQIp3QgAAy5tCindCAABNLUOKd0IAgJrmQ4p3QgAALNZHindCAADVHEmKd0IAgDYsSYp3QgCAjNxMindCAADRUk6Kd0I=\",\"dtype\":\"float64\",\"order\":\"little\",\"shape\":[10]},\"ExitTime\":{\"__ndarray__\":\"AABXo7+Id0IAANAsQ4p3QgAA1S5GindCAADPQUOKd0IAAGQsRop3QgCAnvdHindCAACBKkmKd0IAAH5pSYp3QgCAmNRNindCAADRUk6Kd0I=\",\"dtype\":\"float64\",\"order\":\"little\",\"shape\":[10]},\"File output\":[\"Disabled\",\"Disabled\",\"Disabled\",\"Disabled\",\"Disabled\",\"Disabled\",\"Disabled\",\"Disabled\",\"Disabled\",\"Disabled\"],\"Handles\":[\"-\",\"-\",\"-\",\"-\",\"-\",\"-\",\"-\",\"-\",\"-\",\"-\"],\"ImageFileName\":[\"userinit.exe\",\"mstsc.exe\",\"mstsc.exe\",\"mstsc.exe\",\"mstsc.exe\",\"mstsc.exe\",\"mstsc.exe\",\"mstsc.exe\",\"mstsc.exe\",\"TabTip.exe\"],\"Offset(V)\":[\"0xac81927b2080\",\"0xac81937e72c0\",\"0xac81928ce080\",\"0xac81959b9080\",\"0xac8192b8c080\",\"0xac819605d400\",\"0xac81947ef080\",\"0xac8192f7a080\",\"0xac81960ac080\",\"0xac81928ca080\"],\"PID\":[4604,5208,4104,3392,3508,876,5704,6404,2344,3964],\"PPID\":[1532,4276,6236,6236,6236,3624,6012,6276,6276,4128],\"ParentName\":[\"winlogon.exe\",\"NaN\",\"NaN\",\"NaN\",\"NaN\",\"NaN\",\"NaN\",\"NaN\",\"NaN\",\"svchost.exe\"],\"Row\":[2,1,1,1,1,1,1,1,1,0],\"SessionId\":{\"__ndarray__\":\"AAAAAAAAAEAAAAAAAAAIQAAAAAAAAAhAAAAAAAAACEAAAAAAAAAIQAAAAAAAABBAAAAAAAAAFEAAAAAAAAAUQAAAAAAAABRAAAAAAAAAAEA=\",\"dtype\":\"float64\",\"order\":\"little\",\"shape\":[10]},\"Threads\":[0,0,0,0,0,0,0,0,0,0],\"TreeDepth\":[0,0,0,0,0,0,0,0,0,0],\"Width\":{\"__ndarray__\":\"AAAAAABS3EAAAAAAZPppQQAAAABk+mlBAAAAAGT6aUEAAAAAZPppQQAAAABk+mlBAAAAAGT6aUEAAAAAZPppQQAAAABk+mlBAAAAAAAAAAA=\",\"dtype\":\"float64\",\"order\":\"little\",\"shape\":[10]},\"Wow64\":[false,false,false,false,false,false,false,false,false,false],\"end_time\":{\"__ndarray__\":\"AABXo7+Id0IAgJjUTYp3QgCAmNRNindCAICY1E2Kd0IAgJjUTYp3QgCAmNRNindCAICY1E2Kd0IAgJjUTYp3QgCAmNRNindCAADRUk6Kd0I=\",\"dtype\":\"float64\",\"order\":\"little\",\"shape\":[10]},\"index\":[0,1,2,3,4,5,6,7,8,9],\"start_time\":{\"__ndarray__\":\"AIBCnL+Id0IAgGbXQIp3QgCAZtdAindCAIBm10CKd0IAgGbXQIp3QgCAZtdAindCAIBm10CKd0IAgGbXQIp3QgCAZtdAindCAADRUk6Kd0I=\",\"dtype\":\"float64\",\"order\":\"little\",\"shape\":[10]}},\"selected\":{\"id\":\"1678\"},\"selection_policy\":{\"id\":\"1677\"}},\"id\":\"1585\",\"type\":\"ColumnDataSource\"},{\"attributes\":{\"months\":[0,2,4,6,8,10]},\"id\":\"1688\",\"type\":\"MonthsTicker\"},{\"attributes\":{\"days\":[1,4,7,10,13,16,19,22,25,28]},\"id\":\"1684\",\"type\":\"DaysTicker\"},{\"attributes\":{\"days\":[1,15]},\"id\":\"1686\",\"type\":\"DaysTicker\"},{\"attributes\":{\"months\":[0,6]},\"id\":\"1690\",\"type\":\"MonthsTicker\"},{\"attributes\":{\"days\":[\"%m-%d %H:%M\"],\"hours\":[\"%H:%M:%S\"],\"milliseconds\":[\"%H:%M:%S.%3N\"],\"minutes\":[\"%H:%M:%S\"],\"seconds\":[\"%H:%M:%S\"]},\"id\":\"1663\",\"type\":\"DatetimeTickFormatter\"},{\"attributes\":{\"days\":[1,8,15,22]},\"id\":\"1685\",\"type\":\"DaysTicker\"},{\"attributes\":{},\"id\":\"1691\",\"type\":\"YearsTicker\"},{\"attributes\":{\"source\":{\"id\":\"1651\"}},\"id\":\"1657\",\"type\":\"CDSView\"},{\"attributes\":{\"months\":[0,4,8]},\"id\":\"1689\",\"type\":\"MonthsTicker\"},{\"attributes\":{\"coordinates\":null,\"fill_alpha\":0.2,\"fill_color\":\"navy\",\"group\":null,\"level\":\"overlay\",\"line_alpha\":1.0,\"line_color\":\"black\",\"line_dash\":[2,2],\"line_width\":0.5,\"syncable\":false},\"id\":\"1659\",\"type\":\"BoxAnnotation\"},{\"attributes\":{\"coordinates\":null,\"data_source\":{\"id\":\"1651\"},\"glyph\":{\"id\":\"1653\"},\"group\":null,\"hover_glyph\":null,\"muted_glyph\":{\"id\":\"1655\"},\"nonselection_glyph\":{\"id\":\"1654\"},\"view\":{\"id\":\"1657\"}},\"id\":\"1656\",\"type\":\"GlyphRenderer\"},{\"attributes\":{\"fill_alpha\":{\"value\":0.1},\"fill_color\":{\"value\":\"blue\"},\"hatch_alpha\":{\"value\":0.1},\"hatch_color\":{\"value\":\"blue\"},\"line_alpha\":{\"value\":0.1},\"line_color\":{\"value\":\"blue\"},\"x\":{\"field\":\"CreateTime\"},\"y\":{\"field\":\"Row\"}},\"id\":\"1654\",\"type\":\"Circle\"},{\"attributes\":{\"fill_alpha\":{\"value\":0.2},\"fill_color\":{\"value\":\"blue\"},\"hatch_alpha\":{\"value\":0.2},\"hatch_color\":{\"value\":\"blue\"},\"line_alpha\":{\"value\":0.2},\"line_color\":{\"value\":\"blue\"},\"x\":{\"field\":\"CreateTime\"},\"y\":{\"field\":\"Row\"}},\"id\":\"1655\",\"type\":\"Circle\"},{\"attributes\":{},\"id\":\"1692\",\"type\":\"UnionRenderers\"},{\"attributes\":{\"fill_color\":{\"value\":\"blue\"},\"hatch_color\":{\"value\":\"blue\"},\"line_color\":{\"value\":\"blue\"},\"x\":{\"field\":\"CreateTime\"},\"y\":{\"field\":\"Row\"}},\"id\":\"1653\",\"type\":\"Circle\"},{\"attributes\":{},\"id\":\"1693\",\"type\":\"Selection\"},{\"attributes\":{},\"id\":\"1674\",\"type\":\"AllLabels\"},{\"attributes\":{\"overlay\":{\"id\":\"1659\"},\"x_range\":{\"id\":\"1590\"},\"y_range\":null},\"id\":\"1658\",\"type\":\"RangeTool\"},{\"attributes\":{},\"id\":\"1596\",\"type\":\"CategoricalScale\"},{\"attributes\":{\"fill_alpha\":{\"value\":0.1},\"fill_color\":{\"value\":\"navy\"},\"hatch_alpha\":{\"value\":0.1},\"hatch_color\":{\"value\":\"navy\"},\"height\":{\"value\":0.3},\"line_alpha\":{\"value\":0.1},\"line_color\":{\"value\":\"navy\"},\"width\":{\"field\":\"Width\"},\"x\":{\"field\":\"Center\"},\"y\":{\"field\":\"Row\",\"transform\":{\"id\":\"1618\"}}},\"id\":\"1621\",\"type\":\"Rect\"},{\"attributes\":{\"overlay\":{\"id\":\"1610\"}},\"id\":\"1606\",\"type\":\"BoxZoomTool\"},{\"attributes\":{\"coordinates\":null,\"group\":null,\"text\":\"Event Duration Timeline for ImageFileName\"},\"id\":\"1588\",\"type\":\"Title\"},{\"attributes\":{\"dimensions\":\"width\"},\"id\":\"1609\",\"type\":\"PanTool\"},{\"attributes\":{\"callback\":null,\"tooltips\":[[\"ImageFileName\",\"@ImageFileName\"],[\"start_time\",\"@start_time\"],[\"end_time\",\"@end_time\"]]},\"id\":\"1586\",\"type\":\"HoverTool\"},{\"attributes\":{\"mantissas\":[1,2,5],\"max_interval\":500.0,\"num_minor_ticks\":0},\"id\":\"1695\",\"type\":\"AdaptiveTicker\"},{\"attributes\":{\"base\":60,\"mantissas\":[1,2,5,10,15,20,30],\"max_interval\":1800000.0,\"min_interval\":1000.0,\"num_minor_ticks\":0},\"id\":\"1696\",\"type\":\"AdaptiveTicker\"},{\"attributes\":{\"days\":[1,2,3,4,5,6,7,8,9,10,11,12,13,14,15,16,17,18,19,20,21,22,23,24,25,26,27,28,29,30,31]},\"id\":\"1698\",\"type\":\"DaysTicker\"},{\"attributes\":{},\"id\":\"1603\",\"type\":\"CategoricalTicker\"},{\"attributes\":{\"base\":24,\"mantissas\":[1,2,4,6,8,12],\"max_interval\":43200000.0,\"min_interval\":3600000.0,\"num_minor_ticks\":0},\"id\":\"1697\",\"type\":\"AdaptiveTicker\"},{\"attributes\":{},\"id\":\"1607\",\"type\":\"ResetTool\"},{\"attributes\":{\"months\":[0,1,2,3,4,5,6,7,8,9,10,11]},\"id\":\"1702\",\"type\":\"MonthsTicker\"},{\"attributes\":{\"months\":[0,2,4,6,8,10]},\"id\":\"1703\",\"type\":\"MonthsTicker\"},{\"attributes\":{\"days\":[1,4,7,10,13,16,19,22,25,28]},\"id\":\"1699\",\"type\":\"DaysTicker\"},{\"attributes\":{\"days\":[1,15]},\"id\":\"1701\",\"type\":\"DaysTicker\"},{\"attributes\":{\"months\":[0,6]},\"id\":\"1705\",\"type\":\"MonthsTicker\"},{\"attributes\":{\"days\":[1,8,15,22]},\"id\":\"1700\",\"type\":\"DaysTicker\"},{\"attributes\":{\"fill_alpha\":{\"value\":0.2},\"fill_color\":{\"value\":\"navy\"},\"hatch_alpha\":{\"value\":0.2},\"hatch_color\":{\"value\":\"navy\"},\"height\":{\"value\":0.3},\"line_alpha\":{\"value\":0.2},\"line_color\":{\"value\":\"navy\"},\"width\":{\"field\":\"Width\"},\"x\":{\"field\":\"Center\"},\"y\":{\"field\":\"Row\",\"transform\":{\"id\":\"1618\"}}},\"id\":\"1622\",\"type\":\"Rect\"},{\"attributes\":{},\"id\":\"1706\",\"type\":\"YearsTicker\"},{\"attributes\":{\"tools\":[{\"id\":\"1586\"},{\"id\":\"1605\"},{\"id\":\"1606\"},{\"id\":\"1607\"},{\"id\":\"1608\"},{\"id\":\"1609\"}]},\"id\":\"1611\",\"type\":\"Toolbar\"},{\"attributes\":{\"months\":[0,4,8]},\"id\":\"1704\",\"type\":\"MonthsTicker\"},{\"attributes\":{\"bottom_units\":\"screen\",\"coordinates\":null,\"fill_alpha\":0.5,\"fill_color\":\"lightgrey\",\"group\":null,\"left_units\":\"screen\",\"level\":\"overlay\",\"line_alpha\":1.0,\"line_color\":\"black\",\"line_dash\":[4,4],\"line_width\":2,\"right_units\":\"screen\",\"syncable\":false,\"top_units\":\"screen\"},\"id\":\"1610\",\"type\":\"BoxAnnotation\"},{\"attributes\":{\"fill_alpha\":{\"value\":0.4},\"fill_color\":{\"value\":\"navy\"},\"hatch_color\":{\"value\":\"navy\"},\"height\":{\"value\":0.3},\"line_color\":{\"value\":\"navy\"},\"width\":{\"field\":\"Width\"},\"x\":{\"field\":\"Center\"},\"y\":{\"field\":\"Row\",\"transform\":{\"id\":\"1618\"}}},\"id\":\"1620\",\"type\":\"Rect\"},{\"attributes\":{},\"id\":\"1594\",\"type\":\"LinearScale\"},{\"attributes\":{\"axis_label\":\"ImageFileName\",\"coordinates\":null,\"formatter\":{\"id\":\"1669\"},\"group\":null,\"major_label_policy\":{\"id\":\"1670\"},\"ticker\":{\"id\":\"1603\"}},\"id\":\"1602\",\"type\":\"CategoricalAxis\"},{\"attributes\":{\"factors\":[\"TabTip.exe\",\"mstsc.exe\",\"userinit.exe\"]},\"id\":\"1592\",\"type\":\"FactorRange\"},{\"attributes\":{\"below\":[{\"id\":\"1598\"}],\"center\":[{\"id\":\"1601\"},{\"id\":\"1604\"}],\"height\":300,\"left\":[{\"id\":\"1602\"}],\"min_border_left\":50,\"renderers\":[{\"id\":\"1623\"},{\"id\":\"1630\"}],\"title\":{\"id\":\"1588\"},\"toolbar\":{\"id\":\"1611\"},\"width\":900,\"x_range\":{\"id\":\"1590\"},\"x_scale\":{\"id\":\"1594\"},\"y_range\":{\"id\":\"1592\"},\"y_scale\":{\"id\":\"1596\"}},\"id\":\"1587\",\"subtype\":\"Figure\",\"type\":\"Plot\"},{\"attributes\":{\"end\":1617715994100.0,\"start\":1617214296900.0},\"id\":\"1590\",\"type\":\"Range1d\"},{\"attributes\":{\"data\":{\"Center\":{\"__ndarray__\":\"AADRUk6Kd0IAgP9VR4p3QgDAzJ+/iHdC\",\"dtype\":\"float64\",\"order\":\"little\",\"shape\":[3]},\"ImageFileName\":[\"TabTip.exe\",\"mstsc.exe\",\"userinit.exe\"],\"Row\":[0,1,2],\"Width\":{\"__ndarray__\":\"AAAAAAAAAAAAAAAAZPppQQAAAAAAUtxA\",\"dtype\":\"float64\",\"order\":\"little\",\"shape\":[3]},\"end_time\":{\"__ndarray__\":\"AADRUk6Kd0IAgJjUTYp3QgAAV6O/iHdC\",\"dtype\":\"float64\",\"order\":\"little\",\"shape\":[3]},\"index\":[0,1,2],\"start_time\":{\"__ndarray__\":\"AADRUk6Kd0IAgGbXQIp3QgCAQpy/iHdC\",\"dtype\":\"float64\",\"order\":\"little\",\"shape\":[3]}},\"selected\":{\"id\":\"1676\"},\"selection_policy\":{\"id\":\"1675\"}},\"id\":\"1584\",\"type\":\"ColumnDataSource\"},{\"attributes\":{\"num_minor_ticks\":10,\"tickers\":[{\"id\":\"1680\"},{\"id\":\"1681\"},{\"id\":\"1682\"},{\"id\":\"1683\"},{\"id\":\"1684\"},{\"id\":\"1685\"},{\"id\":\"1686\"},{\"id\":\"1687\"},{\"id\":\"1688\"},{\"id\":\"1689\"},{\"id\":\"1690\"},{\"id\":\"1691\"}]},\"id\":\"1599\",\"type\":\"DatetimeTicker\"},{\"attributes\":{},\"id\":\"1608\",\"type\":\"SaveTool\"},{\"attributes\":{\"axis\":{\"id\":\"1598\"},\"coordinates\":null,\"group\":null,\"minor_grid_line_alpha\":0.3,\"minor_grid_line_color\":\"navy\",\"ticker\":null},\"id\":\"1601\",\"type\":\"Grid\"},{\"attributes\":{\"range\":null,\"value\":0.5},\"id\":\"1618\",\"type\":\"Dodge\"},{\"attributes\":{\"coordinates\":null,\"data_source\":{\"id\":\"1584\"},\"glyph\":{\"id\":\"1620\"},\"group\":null,\"hover_glyph\":null,\"muted_glyph\":{\"id\":\"1622\"},\"nonselection_glyph\":{\"id\":\"1621\"},\"view\":{\"id\":\"1624\"}},\"id\":\"1623\",\"type\":\"GlyphRenderer\"},{\"attributes\":{\"axis_label\":\"Event Time\",\"coordinates\":null,\"formatter\":{\"id\":\"1663\"},\"group\":null,\"major_label_policy\":{\"id\":\"1672\"},\"ticker\":{\"id\":\"1599\"}},\"id\":\"1598\",\"type\":\"DatetimeAxis\"},{\"attributes\":{\"axis\":{\"id\":\"1602\"},\"coordinates\":null,\"dimension\":1,\"grid_line_color\":null,\"group\":null,\"ticker\":null},\"id\":\"1604\",\"type\":\"Grid\"},{\"attributes\":{\"dimensions\":\"width\"},\"id\":\"1605\",\"type\":\"WheelZoomTool\"}],\"root_ids\":[\"1665\"]},\"title\":\"Bokeh Application\",\"version\":\"2.4.3\"}};\n",
       "  const render_items = [{\"docid\":\"29b27e99-ffe9-430c-bfc7-5d238823b94b\",\"root_ids\":[\"1665\"],\"roots\":{\"1665\":\"f9854df1-0097-4375-9920-19782b2a6d9c\"}}];\n",
       "  root.Bokeh.embed.embed_items_notebook(docs_json, render_items);\n",
       "  }\n",
       "  if (root.Bokeh !== undefined) {\n",
       "    embed_document(root);\n",
       "  } else {\n",
       "    let attempts = 0;\n",
       "    const timer = setInterval(function(root) {\n",
       "      if (root.Bokeh !== undefined) {\n",
       "        clearInterval(timer);\n",
       "        embed_document(root);\n",
       "      } else {\n",
       "        attempts++;\n",
       "        if (attempts > 100) {\n",
       "          clearInterval(timer);\n",
       "          console.log(\"Bokeh: ERROR: Unable to run BokehJS code because BokehJS library is missing\");\n",
       "        }\n",
       "      }\n",
       "    }, 10, root)\n",
       "  }\n",
       "})(window);"
      ],
      "application/vnd.bokehjs_exec.v0+json": ""
     },
     "metadata": {
      "application/vnd.bokehjs_exec.v0+json": {
       "id": "1665"
      }
     },
     "output_type": "display_data"
    },
    {
     "data": {
      "text/html": [
       "<div style=\"display: table;\"><div style=\"display: table-row;\"><div style=\"display: table-cell;\"><b title=\"bokeh.models.layouts.Column\">Column</b>(</div><div style=\"display: table-cell;\">id&nbsp;=&nbsp;'1665', <span id=\"1913\" style=\"cursor: pointer;\">&hellip;)</span></div></div><div class=\"1912\" style=\"display: none;\"><div style=\"display: table-cell;\"></div><div style=\"display: table-cell;\">align&nbsp;=&nbsp;'start',</div></div><div class=\"1912\" style=\"display: none;\"><div style=\"display: table-cell;\"></div><div style=\"display: table-cell;\">aspect_ratio&nbsp;=&nbsp;None,</div></div><div class=\"1912\" style=\"display: none;\"><div style=\"display: table-cell;\"></div><div style=\"display: table-cell;\">background&nbsp;=&nbsp;None,</div></div><div class=\"1912\" style=\"display: none;\"><div style=\"display: table-cell;\"></div><div style=\"display: table-cell;\">children&nbsp;=&nbsp;[Figure(id='1587', ...), Figure(id='1632', ...)],</div></div><div class=\"1912\" style=\"display: none;\"><div style=\"display: table-cell;\"></div><div style=\"display: table-cell;\">css_classes&nbsp;=&nbsp;[],</div></div><div class=\"1912\" style=\"display: none;\"><div style=\"display: table-cell;\"></div><div style=\"display: table-cell;\">disabled&nbsp;=&nbsp;False,</div></div><div class=\"1912\" style=\"display: none;\"><div style=\"display: table-cell;\"></div><div style=\"display: table-cell;\">height&nbsp;=&nbsp;None,</div></div><div class=\"1912\" style=\"display: none;\"><div style=\"display: table-cell;\"></div><div style=\"display: table-cell;\">height_policy&nbsp;=&nbsp;'auto',</div></div><div class=\"1912\" style=\"display: none;\"><div style=\"display: table-cell;\"></div><div style=\"display: table-cell;\">js_event_callbacks&nbsp;=&nbsp;{},</div></div><div class=\"1912\" style=\"display: none;\"><div style=\"display: table-cell;\"></div><div style=\"display: table-cell;\">js_property_callbacks&nbsp;=&nbsp;{},</div></div><div class=\"1912\" style=\"display: none;\"><div style=\"display: table-cell;\"></div><div style=\"display: table-cell;\">margin&nbsp;=&nbsp;(0, 0, 0, 0),</div></div><div class=\"1912\" style=\"display: none;\"><div style=\"display: table-cell;\"></div><div style=\"display: table-cell;\">max_height&nbsp;=&nbsp;None,</div></div><div class=\"1912\" style=\"display: none;\"><div style=\"display: table-cell;\"></div><div style=\"display: table-cell;\">max_width&nbsp;=&nbsp;None,</div></div><div class=\"1912\" style=\"display: none;\"><div style=\"display: table-cell;\"></div><div style=\"display: table-cell;\">min_height&nbsp;=&nbsp;None,</div></div><div class=\"1912\" style=\"display: none;\"><div style=\"display: table-cell;\"></div><div style=\"display: table-cell;\">min_width&nbsp;=&nbsp;None,</div></div><div class=\"1912\" style=\"display: none;\"><div style=\"display: table-cell;\"></div><div style=\"display: table-cell;\">name&nbsp;=&nbsp;None,</div></div><div class=\"1912\" style=\"display: none;\"><div style=\"display: table-cell;\"></div><div style=\"display: table-cell;\">rows&nbsp;=&nbsp;'auto',</div></div><div class=\"1912\" style=\"display: none;\"><div style=\"display: table-cell;\"></div><div style=\"display: table-cell;\">sizing_mode&nbsp;=&nbsp;None,</div></div><div class=\"1912\" style=\"display: none;\"><div style=\"display: table-cell;\"></div><div style=\"display: table-cell;\">spacing&nbsp;=&nbsp;0,</div></div><div class=\"1912\" style=\"display: none;\"><div style=\"display: table-cell;\"></div><div style=\"display: table-cell;\">subscribed_events&nbsp;=&nbsp;[],</div></div><div class=\"1912\" style=\"display: none;\"><div style=\"display: table-cell;\"></div><div style=\"display: table-cell;\">syncable&nbsp;=&nbsp;True,</div></div><div class=\"1912\" style=\"display: none;\"><div style=\"display: table-cell;\"></div><div style=\"display: table-cell;\">tags&nbsp;=&nbsp;[],</div></div><div class=\"1912\" style=\"display: none;\"><div style=\"display: table-cell;\"></div><div style=\"display: table-cell;\">visible&nbsp;=&nbsp;True,</div></div><div class=\"1912\" style=\"display: none;\"><div style=\"display: table-cell;\"></div><div style=\"display: table-cell;\">width&nbsp;=&nbsp;None,</div></div><div class=\"1912\" style=\"display: none;\"><div style=\"display: table-cell;\"></div><div style=\"display: table-cell;\">width_policy&nbsp;=&nbsp;'auto')</div></div></div>\n",
       "<script>\n",
       "(function() {\n",
       "  let expanded = false;\n",
       "  const ellipsis = document.getElementById(\"1913\");\n",
       "  ellipsis.addEventListener(\"click\", function() {\n",
       "    const rows = document.getElementsByClassName(\"1912\");\n",
       "    for (let i = 0; i < rows.length; i++) {\n",
       "      const el = rows[i];\n",
       "      el.style.display = expanded ? \"none\" : \"table-row\";\n",
       "    }\n",
       "    ellipsis.innerHTML = expanded ? \"&hellip;)\" : \"&lsaquo;&lsaquo;&lsaquo;\";\n",
       "    expanded = !expanded;\n",
       "  });\n",
       "})();\n",
       "</script>\n"
      ],
      "text/plain": [
       "Column(id='1665', ...)"
      ]
     },
     "execution_count": 16,
     "metadata": {},
     "output_type": "execute_result"
    }
   ],
   "source": [
    "dfprocs_exit = dfprocs[dfprocs.ExitTime.notnull()]\n",
    "mp.vis.timeline_duration.display_timeline_duration(dfprocs_exit, group_by=\"ImageFileName\", time_column=\"CreateTime\", end_time_column=\"ExitTime\")"
   ]
  },
  {
   "cell_type": "markdown",
   "id": "eb6643c1",
   "metadata": {},
   "source": [
    "### <a href=#PR8>PR8 - Suspicious commandline arguments</a>\n",
    "Checks to identify suspicious commandline arguments which are often observed in intrusions."
   ]
  },
  {
   "cell_type": "code",
   "execution_count": 17,
   "id": "609abfd8",
   "metadata": {},
   "outputs": [
    {
     "name": "stdout",
     "output_type": "stream",
     "text": [
      "\u001b[32m[✓]No suspicious commandline arguments detected\n"
     ]
    }
   ],
   "source": [
    "sus_cmdargs = dfcmdline[dfcmdline[\"Args\"].str.match(r\".*(nop|NoLogo|noni|invoke-expression|WebClient|EncodedCommand|nop|reflection\\.assembly|-enc|IO\\.Compression|DownloadString|System\\.Net\\.WebClient|Hidden|iex|FromBase64|powershell\\.cpl|base64|MemoryStream)|COMSPEC|IABz|SQBFAFgA|aWV4I|aQBlAHgA|SUVYI|(whoami|certutil|bitsadmin|mshta|StartW|MiniDump|comsvcs\\.dll).*\", case=False) == True][['PID','Process','Args']]\n",
    "if (sus_cmdargs.empty):\n",
    "    print(Fore.GREEN + \"[✓]No suspicious commandline arguments detected\")\n",
    "else:\n",
    "    print(Fore.RED + \"[!]Suspicious commandline arguments detected!\")\n",
    "    print(sus_cmdargs.to_string(index = False))"
   ]
  },
  {
   "cell_type": "code",
   "execution_count": 19,
   "id": "0f5b07b3",
   "metadata": {},
   "outputs": [
    {
     "data": {
      "text/plain": [
       "'IoC patterns found in process tree'"
      ]
     },
     "metadata": {},
     "output_type": "display_data"
    },
    {
     "data": {
      "text/html": [
       "<div>\n",
       "<style scoped>\n",
       "    .dataframe tbody tr th:only-of-type {\n",
       "        vertical-align: middle;\n",
       "    }\n",
       "\n",
       "    .dataframe tbody tr th {\n",
       "        vertical-align: top;\n",
       "    }\n",
       "\n",
       "    .dataframe thead th {\n",
       "        text-align: right;\n",
       "    }\n",
       "</style>\n",
       "<table border=\"1\" class=\"dataframe\">\n",
       "  <thead>\n",
       "    <tr style=\"text-align: right;\">\n",
       "      <th></th>\n",
       "      <th>IoCType</th>\n",
       "      <th>Observable</th>\n",
       "      <th>SourceIndex</th>\n",
       "      <th>Input</th>\n",
       "    </tr>\n",
       "  </thead>\n",
       "  <tbody>\n",
       "    <tr>\n",
       "      <th>0</th>\n",
       "      <td>ipv4</td>\n",
       "      <td>13.54.35.87</td>\n",
       "      <td>104</td>\n",
       "      <td>\"C:\\Users\\Public\\PSclient.exe\" -autorestart -relayserver 13.54.35.87:5555</td>\n",
       "    </tr>\n",
       "  </tbody>\n",
       "</table>\n",
       "</div>"
      ],
      "text/plain": [
       "  IoCType   Observable  SourceIndex  \\\n",
       "0    ipv4  13.54.35.87          104   \n",
       "\n",
       "                                                                       Input  \n",
       "0  \"C:\\Users\\Public\\PSclient.exe\" -autorestart -relayserver 13.54.35.87:5555  "
      ]
     },
     "metadata": {},
     "output_type": "display_data"
    }
   ],
   "source": [
    "ioc_extractor = IoCExtract()\n",
    "ioc_df = ioc_extractor.extract(data=dfcmdline, columns=['Args'])\n",
    "if len(ioc_df):\n",
    "    display(\"IoC patterns found in process tree\")\n",
    "    display(ioc_df)"
   ]
  },
  {
   "cell_type": "markdown",
   "id": "0c8a8870",
   "metadata": {},
   "source": [
    "### <a href=#PR9>PR9 - rundll32.exe spawned by a suspicious parent process</a>\n",
    "Attempting to detect rundll32.exe spawning from suspicious parent processes."
   ]
  },
  {
   "cell_type": "code",
   "execution_count": 20,
   "id": "10e0d90a",
   "metadata": {},
   "outputs": [
    {
     "name": "stdout",
     "output_type": "stream",
     "text": [
      "\u001b[32m[✓]No suspicious rundll32 parent detected\n"
     ]
    }
   ],
   "source": [
    "susdllloc = dfprocs[((dfprocs.ImageFileName.str.lower() == \"rundll32.exe\")) & (dfprocs.ParentName.str.lower().isin(['winword.exe', 'excel.exe','msaccess.exe','lsass.exe','taskeng.exe','winlogon.exe','schtask.exe','regsvr32.exe','wmiprvse.exe','wsmprovhost.exe']))][['ImageFileName','PID','PPID','ParentName']]\n",
    "if (susdllloc.empty):\n",
    "    print(Fore.GREEN + \"[✓]No suspicious rundll32 parent detected\")\n",
    "else:\n",
    "    print(Fore.RED + \"[!]Suspicious rundll32.exe parent detected!\")\n",
    "    print(susdllloc.to_string(index = False))"
   ]
  },
  {
   "cell_type": "markdown",
   "id": "2f5c1739",
   "metadata": {},
   "source": [
    "### <a href=#NT1>NT 1 - Visual network interactions</a>\n",
    "The following matrix plot shows confirmed intersects between source and destination IPs with descending order of connections."
   ]
  },
  {
   "cell_type": "code",
   "execution_count": 21,
   "id": "b318b7c4",
   "metadata": {},
   "outputs": [
    {
     "data": {
      "text/html": [
       "<div class=\"bk-root\">\n",
       "        <a href=\"https://bokeh.org\" target=\"_blank\" class=\"bk-logo bk-logo-small bk-logo-notebook\"></a>\n",
       "        <span id=\"1914\">Loading BokehJS ...</span>\n",
       "    </div>\n"
      ]
     },
     "metadata": {},
     "output_type": "display_data"
    },
    {
     "data": {
      "application/javascript": [
       "(function(root) {\n",
       "  function now() {\n",
       "    return new Date();\n",
       "  }\n",
       "\n",
       "  const force = true;\n",
       "\n",
       "  if (typeof root._bokeh_onload_callbacks === \"undefined\" || force === true) {\n",
       "    root._bokeh_onload_callbacks = [];\n",
       "    root._bokeh_is_loading = undefined;\n",
       "  }\n",
       "\n",
       "const JS_MIME_TYPE = 'application/javascript';\n",
       "  const HTML_MIME_TYPE = 'text/html';\n",
       "  const EXEC_MIME_TYPE = 'application/vnd.bokehjs_exec.v0+json';\n",
       "  const CLASS_NAME = 'output_bokeh rendered_html';\n",
       "\n",
       "  /**\n",
       "   * Render data to the DOM node\n",
       "   */\n",
       "  function render(props, node) {\n",
       "    const script = document.createElement(\"script\");\n",
       "    node.appendChild(script);\n",
       "  }\n",
       "\n",
       "  /**\n",
       "   * Handle when an output is cleared or removed\n",
       "   */\n",
       "  function handleClearOutput(event, handle) {\n",
       "    const cell = handle.cell;\n",
       "\n",
       "    const id = cell.output_area._bokeh_element_id;\n",
       "    const server_id = cell.output_area._bokeh_server_id;\n",
       "    // Clean up Bokeh references\n",
       "    if (id != null && id in Bokeh.index) {\n",
       "      Bokeh.index[id].model.document.clear();\n",
       "      delete Bokeh.index[id];\n",
       "    }\n",
       "\n",
       "    if (server_id !== undefined) {\n",
       "      // Clean up Bokeh references\n",
       "      const cmd_clean = \"from bokeh.io.state import curstate; print(curstate().uuid_to_server['\" + server_id + \"'].get_sessions()[0].document.roots[0]._id)\";\n",
       "      cell.notebook.kernel.execute(cmd_clean, {\n",
       "        iopub: {\n",
       "          output: function(msg) {\n",
       "            const id = msg.content.text.trim();\n",
       "            if (id in Bokeh.index) {\n",
       "              Bokeh.index[id].model.document.clear();\n",
       "              delete Bokeh.index[id];\n",
       "            }\n",
       "          }\n",
       "        }\n",
       "      });\n",
       "      // Destroy server and session\n",
       "      const cmd_destroy = \"import bokeh.io.notebook as ion; ion.destroy_server('\" + server_id + \"')\";\n",
       "      cell.notebook.kernel.execute(cmd_destroy);\n",
       "    }\n",
       "  }\n",
       "\n",
       "  /**\n",
       "   * Handle when a new output is added\n",
       "   */\n",
       "  function handleAddOutput(event, handle) {\n",
       "    const output_area = handle.output_area;\n",
       "    const output = handle.output;\n",
       "\n",
       "    // limit handleAddOutput to display_data with EXEC_MIME_TYPE content only\n",
       "    if ((output.output_type != \"display_data\") || (!Object.prototype.hasOwnProperty.call(output.data, EXEC_MIME_TYPE))) {\n",
       "      return\n",
       "    }\n",
       "\n",
       "    const toinsert = output_area.element.find(\".\" + CLASS_NAME.split(' ')[0]);\n",
       "\n",
       "    if (output.metadata[EXEC_MIME_TYPE][\"id\"] !== undefined) {\n",
       "      toinsert[toinsert.length - 1].firstChild.textContent = output.data[JS_MIME_TYPE];\n",
       "      // store reference to embed id on output_area\n",
       "      output_area._bokeh_element_id = output.metadata[EXEC_MIME_TYPE][\"id\"];\n",
       "    }\n",
       "    if (output.metadata[EXEC_MIME_TYPE][\"server_id\"] !== undefined) {\n",
       "      const bk_div = document.createElement(\"div\");\n",
       "      bk_div.innerHTML = output.data[HTML_MIME_TYPE];\n",
       "      const script_attrs = bk_div.children[0].attributes;\n",
       "      for (let i = 0; i < script_attrs.length; i++) {\n",
       "        toinsert[toinsert.length - 1].firstChild.setAttribute(script_attrs[i].name, script_attrs[i].value);\n",
       "        toinsert[toinsert.length - 1].firstChild.textContent = bk_div.children[0].textContent\n",
       "      }\n",
       "      // store reference to server id on output_area\n",
       "      output_area._bokeh_server_id = output.metadata[EXEC_MIME_TYPE][\"server_id\"];\n",
       "    }\n",
       "  }\n",
       "\n",
       "  function register_renderer(events, OutputArea) {\n",
       "\n",
       "    function append_mime(data, metadata, element) {\n",
       "      // create a DOM node to render to\n",
       "      const toinsert = this.create_output_subarea(\n",
       "        metadata,\n",
       "        CLASS_NAME,\n",
       "        EXEC_MIME_TYPE\n",
       "      );\n",
       "      this.keyboard_manager.register_events(toinsert);\n",
       "      // Render to node\n",
       "      const props = {data: data, metadata: metadata[EXEC_MIME_TYPE]};\n",
       "      render(props, toinsert[toinsert.length - 1]);\n",
       "      element.append(toinsert);\n",
       "      return toinsert\n",
       "    }\n",
       "\n",
       "    /* Handle when an output is cleared or removed */\n",
       "    events.on('clear_output.CodeCell', handleClearOutput);\n",
       "    events.on('delete.Cell', handleClearOutput);\n",
       "\n",
       "    /* Handle when a new output is added */\n",
       "    events.on('output_added.OutputArea', handleAddOutput);\n",
       "\n",
       "    /**\n",
       "     * Register the mime type and append_mime function with output_area\n",
       "     */\n",
       "    OutputArea.prototype.register_mime_type(EXEC_MIME_TYPE, append_mime, {\n",
       "      /* Is output safe? */\n",
       "      safe: true,\n",
       "      /* Index of renderer in `output_area.display_order` */\n",
       "      index: 0\n",
       "    });\n",
       "  }\n",
       "\n",
       "  // register the mime type if in Jupyter Notebook environment and previously unregistered\n",
       "  if (root.Jupyter !== undefined) {\n",
       "    const events = require('base/js/events');\n",
       "    const OutputArea = require('notebook/js/outputarea').OutputArea;\n",
       "\n",
       "    if (OutputArea.prototype.mime_types().indexOf(EXEC_MIME_TYPE) == -1) {\n",
       "      register_renderer(events, OutputArea);\n",
       "    }\n",
       "  }\n",
       "  if (typeof (root._bokeh_timeout) === \"undefined\" || force === true) {\n",
       "    root._bokeh_timeout = Date.now() + 5000;\n",
       "    root._bokeh_failed_load = false;\n",
       "  }\n",
       "\n",
       "  const NB_LOAD_WARNING = {'data': {'text/html':\n",
       "     \"<div style='background-color: #fdd'>\\n\"+\n",
       "     \"<p>\\n\"+\n",
       "     \"BokehJS does not appear to have successfully loaded. If loading BokehJS from CDN, this \\n\"+\n",
       "     \"may be due to a slow or bad network connection. Possible fixes:\\n\"+\n",
       "     \"</p>\\n\"+\n",
       "     \"<ul>\\n\"+\n",
       "     \"<li>re-rerun `output_notebook()` to attempt to load from CDN again, or</li>\\n\"+\n",
       "     \"<li>use INLINE resources instead, as so:</li>\\n\"+\n",
       "     \"</ul>\\n\"+\n",
       "     \"<code>\\n\"+\n",
       "     \"from bokeh.resources import INLINE\\n\"+\n",
       "     \"output_notebook(resources=INLINE)\\n\"+\n",
       "     \"</code>\\n\"+\n",
       "     \"</div>\"}};\n",
       "\n",
       "  function display_loaded() {\n",
       "    const el = document.getElementById(\"1914\");\n",
       "    if (el != null) {\n",
       "      el.textContent = \"BokehJS is loading...\";\n",
       "    }\n",
       "    if (root.Bokeh !== undefined) {\n",
       "      if (el != null) {\n",
       "        el.textContent = \"BokehJS \" + root.Bokeh.version + \" successfully loaded.\";\n",
       "      }\n",
       "    } else if (Date.now() < root._bokeh_timeout) {\n",
       "      setTimeout(display_loaded, 100)\n",
       "    }\n",
       "  }\n",
       "\n",
       "  function run_callbacks() {\n",
       "    try {\n",
       "      root._bokeh_onload_callbacks.forEach(function(callback) {\n",
       "        if (callback != null)\n",
       "          callback();\n",
       "      });\n",
       "    } finally {\n",
       "      delete root._bokeh_onload_callbacks\n",
       "    }\n",
       "    console.debug(\"Bokeh: all callbacks have finished\");\n",
       "  }\n",
       "\n",
       "  function load_libs(css_urls, js_urls, callback) {\n",
       "    if (css_urls == null) css_urls = [];\n",
       "    if (js_urls == null) js_urls = [];\n",
       "\n",
       "    root._bokeh_onload_callbacks.push(callback);\n",
       "    if (root._bokeh_is_loading > 0) {\n",
       "      console.debug(\"Bokeh: BokehJS is being loaded, scheduling callback at\", now());\n",
       "      return null;\n",
       "    }\n",
       "    if (js_urls == null || js_urls.length === 0) {\n",
       "      run_callbacks();\n",
       "      return null;\n",
       "    }\n",
       "    console.debug(\"Bokeh: BokehJS not loaded, scheduling load and callback at\", now());\n",
       "    root._bokeh_is_loading = css_urls.length + js_urls.length;\n",
       "\n",
       "    function on_load() {\n",
       "      root._bokeh_is_loading--;\n",
       "      if (root._bokeh_is_loading === 0) {\n",
       "        console.debug(\"Bokeh: all BokehJS libraries/stylesheets loaded\");\n",
       "        run_callbacks()\n",
       "      }\n",
       "    }\n",
       "\n",
       "    function on_error(url) {\n",
       "      console.error(\"failed to load \" + url);\n",
       "    }\n",
       "\n",
       "    for (let i = 0; i < css_urls.length; i++) {\n",
       "      const url = css_urls[i];\n",
       "      const element = document.createElement(\"link\");\n",
       "      element.onload = on_load;\n",
       "      element.onerror = on_error.bind(null, url);\n",
       "      element.rel = \"stylesheet\";\n",
       "      element.type = \"text/css\";\n",
       "      element.href = url;\n",
       "      console.debug(\"Bokeh: injecting link tag for BokehJS stylesheet: \", url);\n",
       "      document.body.appendChild(element);\n",
       "    }\n",
       "\n",
       "    for (let i = 0; i < js_urls.length; i++) {\n",
       "      const url = js_urls[i];\n",
       "      const element = document.createElement('script');\n",
       "      element.onload = on_load;\n",
       "      element.onerror = on_error.bind(null, url);\n",
       "      element.async = false;\n",
       "      element.src = url;\n",
       "      console.debug(\"Bokeh: injecting script tag for BokehJS library: \", url);\n",
       "      document.head.appendChild(element);\n",
       "    }\n",
       "  };\n",
       "\n",
       "  function inject_raw_css(css) {\n",
       "    const element = document.createElement(\"style\");\n",
       "    element.appendChild(document.createTextNode(css));\n",
       "    document.body.appendChild(element);\n",
       "  }\n",
       "\n",
       "  const js_urls = [\"https://cdn.bokeh.org/bokeh/release/bokeh-2.4.3.min.js\", \"https://cdn.bokeh.org/bokeh/release/bokeh-gl-2.4.3.min.js\", \"https://cdn.bokeh.org/bokeh/release/bokeh-widgets-2.4.3.min.js\", \"https://cdn.bokeh.org/bokeh/release/bokeh-tables-2.4.3.min.js\", \"https://cdn.bokeh.org/bokeh/release/bokeh-mathjax-2.4.3.min.js\"];\n",
       "  const css_urls = [];\n",
       "\n",
       "  const inline_js = [    function(Bokeh) {\n",
       "      Bokeh.set_log_level(\"info\");\n",
       "    },\n",
       "function(Bokeh) {\n",
       "    }\n",
       "  ];\n",
       "\n",
       "  function run_inline_js() {\n",
       "    if (root.Bokeh !== undefined || force === true) {\n",
       "          for (let i = 0; i < inline_js.length; i++) {\n",
       "      inline_js[i].call(root, root.Bokeh);\n",
       "    }\n",
       "if (force === true) {\n",
       "        display_loaded();\n",
       "      }} else if (Date.now() < root._bokeh_timeout) {\n",
       "      setTimeout(run_inline_js, 100);\n",
       "    } else if (!root._bokeh_failed_load) {\n",
       "      console.log(\"Bokeh: BokehJS failed to load within specified timeout.\");\n",
       "      root._bokeh_failed_load = true;\n",
       "    } else if (force !== true) {\n",
       "      const cell = $(document.getElementById(\"1914\")).parents('.cell').data().cell;\n",
       "      cell.output_area.append_execute_result(NB_LOAD_WARNING)\n",
       "    }\n",
       "  }\n",
       "\n",
       "  if (root._bokeh_is_loading === 0) {\n",
       "    console.debug(\"Bokeh: BokehJS loaded, going straight to plotting\");\n",
       "    run_inline_js();\n",
       "  } else {\n",
       "    load_libs(css_urls, js_urls, function() {\n",
       "      console.debug(\"Bokeh: BokehJS plotting callback run at\", now());\n",
       "      run_inline_js();\n",
       "    });\n",
       "  }\n",
       "}(window));"
      ],
      "application/vnd.bokehjs_load.v0+json": "(function(root) {\n  function now() {\n    return new Date();\n  }\n\n  const force = true;\n\n  if (typeof root._bokeh_onload_callbacks === \"undefined\" || force === true) {\n    root._bokeh_onload_callbacks = [];\n    root._bokeh_is_loading = undefined;\n  }\n\n\n  if (typeof (root._bokeh_timeout) === \"undefined\" || force === true) {\n    root._bokeh_timeout = Date.now() + 5000;\n    root._bokeh_failed_load = false;\n  }\n\n  const NB_LOAD_WARNING = {'data': {'text/html':\n     \"<div style='background-color: #fdd'>\\n\"+\n     \"<p>\\n\"+\n     \"BokehJS does not appear to have successfully loaded. If loading BokehJS from CDN, this \\n\"+\n     \"may be due to a slow or bad network connection. Possible fixes:\\n\"+\n     \"</p>\\n\"+\n     \"<ul>\\n\"+\n     \"<li>re-rerun `output_notebook()` to attempt to load from CDN again, or</li>\\n\"+\n     \"<li>use INLINE resources instead, as so:</li>\\n\"+\n     \"</ul>\\n\"+\n     \"<code>\\n\"+\n     \"from bokeh.resources import INLINE\\n\"+\n     \"output_notebook(resources=INLINE)\\n\"+\n     \"</code>\\n\"+\n     \"</div>\"}};\n\n  function display_loaded() {\n    const el = document.getElementById(\"1914\");\n    if (el != null) {\n      el.textContent = \"BokehJS is loading...\";\n    }\n    if (root.Bokeh !== undefined) {\n      if (el != null) {\n        el.textContent = \"BokehJS \" + root.Bokeh.version + \" successfully loaded.\";\n      }\n    } else if (Date.now() < root._bokeh_timeout) {\n      setTimeout(display_loaded, 100)\n    }\n  }\n\n  function run_callbacks() {\n    try {\n      root._bokeh_onload_callbacks.forEach(function(callback) {\n        if (callback != null)\n          callback();\n      });\n    } finally {\n      delete root._bokeh_onload_callbacks\n    }\n    console.debug(\"Bokeh: all callbacks have finished\");\n  }\n\n  function load_libs(css_urls, js_urls, callback) {\n    if (css_urls == null) css_urls = [];\n    if (js_urls == null) js_urls = [];\n\n    root._bokeh_onload_callbacks.push(callback);\n    if (root._bokeh_is_loading > 0) {\n      console.debug(\"Bokeh: BokehJS is being loaded, scheduling callback at\", now());\n      return null;\n    }\n    if (js_urls == null || js_urls.length === 0) {\n      run_callbacks();\n      return null;\n    }\n    console.debug(\"Bokeh: BokehJS not loaded, scheduling load and callback at\", now());\n    root._bokeh_is_loading = css_urls.length + js_urls.length;\n\n    function on_load() {\n      root._bokeh_is_loading--;\n      if (root._bokeh_is_loading === 0) {\n        console.debug(\"Bokeh: all BokehJS libraries/stylesheets loaded\");\n        run_callbacks()\n      }\n    }\n\n    function on_error(url) {\n      console.error(\"failed to load \" + url);\n    }\n\n    for (let i = 0; i < css_urls.length; i++) {\n      const url = css_urls[i];\n      const element = document.createElement(\"link\");\n      element.onload = on_load;\n      element.onerror = on_error.bind(null, url);\n      element.rel = \"stylesheet\";\n      element.type = \"text/css\";\n      element.href = url;\n      console.debug(\"Bokeh: injecting link tag for BokehJS stylesheet: \", url);\n      document.body.appendChild(element);\n    }\n\n    for (let i = 0; i < js_urls.length; i++) {\n      const url = js_urls[i];\n      const element = document.createElement('script');\n      element.onload = on_load;\n      element.onerror = on_error.bind(null, url);\n      element.async = false;\n      element.src = url;\n      console.debug(\"Bokeh: injecting script tag for BokehJS library: \", url);\n      document.head.appendChild(element);\n    }\n  };\n\n  function inject_raw_css(css) {\n    const element = document.createElement(\"style\");\n    element.appendChild(document.createTextNode(css));\n    document.body.appendChild(element);\n  }\n\n  const js_urls = [\"https://cdn.bokeh.org/bokeh/release/bokeh-2.4.3.min.js\", \"https://cdn.bokeh.org/bokeh/release/bokeh-gl-2.4.3.min.js\", \"https://cdn.bokeh.org/bokeh/release/bokeh-widgets-2.4.3.min.js\", \"https://cdn.bokeh.org/bokeh/release/bokeh-tables-2.4.3.min.js\", \"https://cdn.bokeh.org/bokeh/release/bokeh-mathjax-2.4.3.min.js\"];\n  const css_urls = [];\n\n  const inline_js = [    function(Bokeh) {\n      Bokeh.set_log_level(\"info\");\n    },\nfunction(Bokeh) {\n    }\n  ];\n\n  function run_inline_js() {\n    if (root.Bokeh !== undefined || force === true) {\n          for (let i = 0; i < inline_js.length; i++) {\n      inline_js[i].call(root, root.Bokeh);\n    }\nif (force === true) {\n        display_loaded();\n      }} else if (Date.now() < root._bokeh_timeout) {\n      setTimeout(run_inline_js, 100);\n    } else if (!root._bokeh_failed_load) {\n      console.log(\"Bokeh: BokehJS failed to load within specified timeout.\");\n      root._bokeh_failed_load = true;\n    } else if (force !== true) {\n      const cell = $(document.getElementById(\"1914\")).parents('.cell').data().cell;\n      cell.output_area.append_execute_result(NB_LOAD_WARNING)\n    }\n  }\n\n  if (root._bokeh_is_loading === 0) {\n    console.debug(\"Bokeh: BokehJS loaded, going straight to plotting\");\n    run_inline_js();\n  } else {\n    load_libs(css_urls, js_urls, function() {\n      console.debug(\"Bokeh: BokehJS plotting callback run at\", now());\n      run_inline_js();\n    });\n  }\n}(window));"
     },
     "metadata": {},
     "output_type": "display_data"
    },
    {
     "data": {
      "text/html": [
       "\n",
       "  <div class=\"bk-root\" id=\"5d9752f2-efb0-4f83-b5c8-21e92fee3dd8\" data-root-id=\"1916\"></div>\n"
      ]
     },
     "metadata": {},
     "output_type": "display_data"
    },
    {
     "data": {
      "application/javascript": [
       "(function(root) {\n",
       "  function embed_document(root) {\n",
       "  const docs_json = {\"e3c70fa8-9472-4bac-b8f3-d08a95f2ff4e\":{\"defs\":[],\"roots\":{\"references\":[{\"attributes\":{\"below\":[{\"id\":\"1927\"}],\"center\":[{\"id\":\"1929\"},{\"id\":\"1932\"}],\"height\":700,\"left\":[{\"id\":\"1930\"}],\"outline_line_color\":null,\"renderers\":[{\"id\":\"1951\"}],\"title\":{\"id\":\"1917\"},\"toolbar\":{\"id\":\"1939\"},\"toolbar_location\":\"above\",\"width\":900,\"x_range\":{\"id\":\"1919\"},\"x_scale\":{\"id\":\"1923\"},\"y_range\":{\"id\":\"1921\"},\"y_scale\":{\"id\":\"1925\"}},\"id\":\"1916\",\"subtype\":\"Figure\",\"type\":\"Plot\"},{\"attributes\":{\"source\":{\"id\":\"1915\"}},\"id\":\"1952\",\"type\":\"CDSView\"},{\"attributes\":{},\"id\":\"1958\",\"type\":\"CategoricalTickFormatter\"},{\"attributes\":{\"data\":{\"ForeignAddr\":[\"*\",\"*\",\"*\",\"*\",\"0.0.0.0\",\"0.0.0.0\",\"10.1.1.110\",\"10.2.0.196\",\"13.54.35.87\",\"13.75.160.154\",\"184.85.82.102\",\"::\"],\"LocalAddr\":[\"0.0.0.0\",\"10.1.1.182\",\"127.0.0.1\",\"::\",\"0.0.0.0\",\"10.1.1.182\",\"10.1.1.182\",\"10.1.1.182\",\"10.1.1.182\",\"10.1.1.182\",\"10.1.1.182\",\"::\"],\"index\":[0,1,2,3,4,5,6,7,8,9,10,11],\"plt_size\":{\"__ndarray__\":\"WchCFrKQHUC96U1vetPrP73pTW960/s/FrKQhSxkEUAAAAAAAAAkQL3pTW9609s/velNb3rT6z+96U1vetPbP73pTW9609s/Tm9605ve9D+96U1vetPrP+pNb3rTmxZA\",\"dtype\":\"float64\",\"order\":\"little\",\"shape\":[12]},\"row_count\":[17,2,4,10,23,1,2,1,1,3,2,13],\"size\":[17,2,4,10,23,1,2,1,1,3,2,13]},\"selected\":{\"id\":\"1961\"},\"selection_policy\":{\"id\":\"1960\"}},\"id\":\"1915\",\"type\":\"ColumnDataSource\"},{\"attributes\":{},\"id\":\"1959\",\"type\":\"AllLabels\"},{\"attributes\":{},\"id\":\"1925\",\"type\":\"CategoricalScale\"},{\"attributes\":{\"bottom_units\":\"screen\",\"coordinates\":null,\"fill_alpha\":0.5,\"fill_color\":\"lightgrey\",\"group\":null,\"left_units\":\"screen\",\"level\":\"overlay\",\"line_alpha\":1.0,\"line_color\":\"black\",\"line_dash\":[4,4],\"line_width\":2,\"right_units\":\"screen\",\"syncable\":false,\"top_units\":\"screen\"},\"id\":\"1938\",\"type\":\"BoxAnnotation\"},{\"attributes\":{},\"id\":\"1936\",\"type\":\"ResetTool\"},{\"attributes\":{\"coordinates\":null,\"data_source\":{\"id\":\"1915\"},\"glyph\":{\"id\":\"1948\"},\"group\":null,\"hover_glyph\":null,\"muted_glyph\":{\"id\":\"1950\"},\"nonselection_glyph\":{\"id\":\"1949\"},\"view\":{\"id\":\"1952\"}},\"id\":\"1951\",\"type\":\"GlyphRenderer\"},{\"attributes\":{\"overlay\":{\"id\":\"1938\"}},\"id\":\"1934\",\"type\":\"BoxZoomTool\"},{\"attributes\":{\"axis_label\":\"ForeignAddr\",\"axis_line_color\":null,\"coordinates\":null,\"formatter\":{\"id\":\"1958\"},\"group\":null,\"major_label_orientation\":1.5707963267948966,\"major_label_policy\":{\"id\":\"1959\"},\"major_label_standoff\":0,\"major_label_text_font_size\":\"11pt\",\"major_tick_line_color\":null,\"ticker\":{\"id\":\"1928\"}},\"id\":\"1927\",\"type\":\"CategoricalAxis\"},{\"attributes\":{},\"id\":\"1931\",\"type\":\"CategoricalTicker\"},{\"attributes\":{},\"id\":\"1956\",\"type\":\"AllLabels\"},{\"attributes\":{},\"id\":\"1960\",\"type\":\"UnionRenderers\"},{\"attributes\":{\"coordinates\":null,\"group\":null,\"text\":\"IP interactions\",\"text_font_size\":\"15pt\"},\"id\":\"1917\",\"type\":\"Title\"},{\"attributes\":{},\"id\":\"1961\",\"type\":\"Selection\"},{\"attributes\":{},\"id\":\"1955\",\"type\":\"CategoricalTickFormatter\"},{\"attributes\":{\"factors\":[\"::\",\"184.85.82.102\",\"13.75.160.154\",\"13.54.35.87\",\"10.2.0.196\",\"10.1.1.110\",\"0.0.0.0\",\"*\"]},\"id\":\"1919\",\"type\":\"FactorRange\"},{\"attributes\":{\"callback\":null,\"tooltips\":[[\"ForeignAddr\",\"@ForeignAddr\"],[\"LocalAddr\",\"@LocalAddr\"],[\"value\",\"@size\"]]},\"id\":\"1945\",\"type\":\"HoverTool\"},{\"attributes\":{\"factors\":[\"0.0.0.0\",\"10.1.1.182\",\"127.0.0.1\",\"::\"]},\"id\":\"1921\",\"type\":\"FactorRange\"},{\"attributes\":{},\"id\":\"1937\",\"type\":\"SaveTool\"},{\"attributes\":{},\"id\":\"1933\",\"type\":\"WheelZoomTool\"},{\"attributes\":{},\"id\":\"1923\",\"type\":\"CategoricalScale\"},{\"attributes\":{\"axis\":{\"id\":\"1930\"},\"coordinates\":null,\"dimension\":1,\"grid_line_alpha\":0.1,\"grid_line_color\":\"navy\",\"group\":null,\"ticker\":null},\"id\":\"1932\",\"type\":\"Grid\"},{\"attributes\":{\"axis_label\":\"LocalAddr\",\"axis_line_color\":null,\"coordinates\":null,\"formatter\":{\"id\":\"1955\"},\"group\":null,\"major_label_policy\":{\"id\":\"1956\"},\"major_label_standoff\":0,\"major_label_text_font_size\":\"11pt\",\"major_tick_line_color\":null,\"ticker\":{\"id\":\"1931\"}},\"id\":\"1930\",\"type\":\"CategoricalAxis\"},{\"attributes\":{\"fill_alpha\":{\"value\":0.6},\"fill_color\":{\"value\":\"#1f77b4\"},\"line_color\":{\"value\":\"red\"},\"marker\":{\"value\":\"circle_cross\"},\"size\":{\"value\":5},\"x\":{\"field\":\"ForeignAddr\"},\"y\":{\"field\":\"LocalAddr\"}},\"id\":\"1948\",\"type\":\"Scatter\"},{\"attributes\":{\"tools\":[{\"id\":\"1933\"},{\"id\":\"1934\"},{\"id\":\"1935\"},{\"id\":\"1936\"},{\"id\":\"1937\"},{\"id\":\"1945\"}]},\"id\":\"1939\",\"type\":\"Toolbar\"},{\"attributes\":{},\"id\":\"1935\",\"type\":\"PanTool\"},{\"attributes\":{\"fill_alpha\":{\"value\":0.1},\"fill_color\":{\"value\":\"#1f77b4\"},\"hatch_alpha\":{\"value\":0.1},\"line_alpha\":{\"value\":0.1},\"line_color\":{\"value\":\"red\"},\"marker\":{\"value\":\"circle_cross\"},\"size\":{\"value\":5},\"x\":{\"field\":\"ForeignAddr\"},\"y\":{\"field\":\"LocalAddr\"}},\"id\":\"1949\",\"type\":\"Scatter\"},{\"attributes\":{},\"id\":\"1928\",\"type\":\"CategoricalTicker\"},{\"attributes\":{\"axis\":{\"id\":\"1927\"},\"coordinates\":null,\"grid_line_alpha\":0.1,\"grid_line_color\":\"navy\",\"group\":null,\"ticker\":null},\"id\":\"1929\",\"type\":\"Grid\"},{\"attributes\":{\"fill_alpha\":{\"value\":0.2},\"fill_color\":{\"value\":\"#1f77b4\"},\"hatch_alpha\":{\"value\":0.2},\"line_alpha\":{\"value\":0.2},\"line_color\":{\"value\":\"red\"},\"marker\":{\"value\":\"circle_cross\"},\"size\":{\"value\":5},\"x\":{\"field\":\"ForeignAddr\"},\"y\":{\"field\":\"LocalAddr\"}},\"id\":\"1950\",\"type\":\"Scatter\"}],\"root_ids\":[\"1916\"]},\"title\":\"Bokeh Application\",\"version\":\"2.4.3\"}};\n",
       "  const render_items = [{\"docid\":\"e3c70fa8-9472-4bac-b8f3-d08a95f2ff4e\",\"root_ids\":[\"1916\"],\"roots\":{\"1916\":\"5d9752f2-efb0-4f83-b5c8-21e92fee3dd8\"}}];\n",
       "  root.Bokeh.embed.embed_items_notebook(docs_json, render_items);\n",
       "  }\n",
       "  if (root.Bokeh !== undefined) {\n",
       "    embed_document(root);\n",
       "  } else {\n",
       "    let attempts = 0;\n",
       "    const timer = setInterval(function(root) {\n",
       "      if (root.Bokeh !== undefined) {\n",
       "        clearInterval(timer);\n",
       "        embed_document(root);\n",
       "      } else {\n",
       "        attempts++;\n",
       "        if (attempts > 100) {\n",
       "          clearInterval(timer);\n",
       "          console.log(\"Bokeh: ERROR: Unable to run BokehJS code because BokehJS library is missing\");\n",
       "        }\n",
       "      }\n",
       "    }, 10, root)\n",
       "  }\n",
       "})(window);"
      ],
      "application/vnd.bokehjs_exec.v0+json": ""
     },
     "metadata": {
      "application/vnd.bokehjs_exec.v0+json": {
       "id": "1916"
      }
     },
     "output_type": "display_data"
    },
    {
     "data": {
      "text/html": [
       "<div style=\"display: table;\"><div style=\"display: table-row;\"><div style=\"display: table-cell;\"><b title=\"bokeh.plotting.figure.Figure\">Figure</b>(</div><div style=\"display: table-cell;\">id&nbsp;=&nbsp;'1916', <span id=\"2014\" style=\"cursor: pointer;\">&hellip;)</span></div></div><div class=\"2013\" style=\"display: none;\"><div style=\"display: table-cell;\"></div><div style=\"display: table-cell;\">above&nbsp;=&nbsp;[],</div></div><div class=\"2013\" style=\"display: none;\"><div style=\"display: table-cell;\"></div><div style=\"display: table-cell;\">align&nbsp;=&nbsp;'start',</div></div><div class=\"2013\" style=\"display: none;\"><div style=\"display: table-cell;\"></div><div style=\"display: table-cell;\">aspect_ratio&nbsp;=&nbsp;None,</div></div><div class=\"2013\" style=\"display: none;\"><div style=\"display: table-cell;\"></div><div style=\"display: table-cell;\">aspect_scale&nbsp;=&nbsp;1,</div></div><div class=\"2013\" style=\"display: none;\"><div style=\"display: table-cell;\"></div><div style=\"display: table-cell;\">background&nbsp;=&nbsp;None,</div></div><div class=\"2013\" style=\"display: none;\"><div style=\"display: table-cell;\"></div><div style=\"display: table-cell;\">background_fill_alpha&nbsp;=&nbsp;1.0,</div></div><div class=\"2013\" style=\"display: none;\"><div style=\"display: table-cell;\"></div><div style=\"display: table-cell;\">background_fill_color&nbsp;=&nbsp;'#ffffff',</div></div><div class=\"2013\" style=\"display: none;\"><div style=\"display: table-cell;\"></div><div style=\"display: table-cell;\">below&nbsp;=&nbsp;[CategoricalAxis(id='1927', ...)],</div></div><div class=\"2013\" style=\"display: none;\"><div style=\"display: table-cell;\"></div><div style=\"display: table-cell;\">border_fill_alpha&nbsp;=&nbsp;1.0,</div></div><div class=\"2013\" style=\"display: none;\"><div style=\"display: table-cell;\"></div><div style=\"display: table-cell;\">border_fill_color&nbsp;=&nbsp;'#ffffff',</div></div><div class=\"2013\" style=\"display: none;\"><div style=\"display: table-cell;\"></div><div style=\"display: table-cell;\">center&nbsp;=&nbsp;[Grid(id='1929', ...), Grid(id='1932', ...)],</div></div><div class=\"2013\" style=\"display: none;\"><div style=\"display: table-cell;\"></div><div style=\"display: table-cell;\">css_classes&nbsp;=&nbsp;[],</div></div><div class=\"2013\" style=\"display: none;\"><div style=\"display: table-cell;\"></div><div style=\"display: table-cell;\">disabled&nbsp;=&nbsp;False,</div></div><div class=\"2013\" style=\"display: none;\"><div style=\"display: table-cell;\"></div><div style=\"display: table-cell;\">extra_x_ranges&nbsp;=&nbsp;{},</div></div><div class=\"2013\" style=\"display: none;\"><div style=\"display: table-cell;\"></div><div style=\"display: table-cell;\">extra_x_scales&nbsp;=&nbsp;{},</div></div><div class=\"2013\" style=\"display: none;\"><div style=\"display: table-cell;\"></div><div style=\"display: table-cell;\">extra_y_ranges&nbsp;=&nbsp;{},</div></div><div class=\"2013\" style=\"display: none;\"><div style=\"display: table-cell;\"></div><div style=\"display: table-cell;\">extra_y_scales&nbsp;=&nbsp;{},</div></div><div class=\"2013\" style=\"display: none;\"><div style=\"display: table-cell;\"></div><div style=\"display: table-cell;\">frame_height&nbsp;=&nbsp;None,</div></div><div class=\"2013\" style=\"display: none;\"><div style=\"display: table-cell;\"></div><div style=\"display: table-cell;\">frame_width&nbsp;=&nbsp;None,</div></div><div class=\"2013\" style=\"display: none;\"><div style=\"display: table-cell;\"></div><div style=\"display: table-cell;\">height&nbsp;=&nbsp;700,</div></div><div class=\"2013\" style=\"display: none;\"><div style=\"display: table-cell;\"></div><div style=\"display: table-cell;\">height_policy&nbsp;=&nbsp;'auto',</div></div><div class=\"2013\" style=\"display: none;\"><div style=\"display: table-cell;\"></div><div style=\"display: table-cell;\">hidpi&nbsp;=&nbsp;True,</div></div><div class=\"2013\" style=\"display: none;\"><div style=\"display: table-cell;\"></div><div style=\"display: table-cell;\">inner_height&nbsp;=&nbsp;0,</div></div><div class=\"2013\" style=\"display: none;\"><div style=\"display: table-cell;\"></div><div style=\"display: table-cell;\">inner_width&nbsp;=&nbsp;0,</div></div><div class=\"2013\" style=\"display: none;\"><div style=\"display: table-cell;\"></div><div style=\"display: table-cell;\">js_event_callbacks&nbsp;=&nbsp;{},</div></div><div class=\"2013\" style=\"display: none;\"><div style=\"display: table-cell;\"></div><div style=\"display: table-cell;\">js_property_callbacks&nbsp;=&nbsp;{},</div></div><div class=\"2013\" style=\"display: none;\"><div style=\"display: table-cell;\"></div><div style=\"display: table-cell;\">left&nbsp;=&nbsp;[CategoricalAxis(id='1930', ...)],</div></div><div class=\"2013\" style=\"display: none;\"><div style=\"display: table-cell;\"></div><div style=\"display: table-cell;\">lod_factor&nbsp;=&nbsp;10,</div></div><div class=\"2013\" style=\"display: none;\"><div style=\"display: table-cell;\"></div><div style=\"display: table-cell;\">lod_interval&nbsp;=&nbsp;300,</div></div><div class=\"2013\" style=\"display: none;\"><div style=\"display: table-cell;\"></div><div style=\"display: table-cell;\">lod_threshold&nbsp;=&nbsp;2000,</div></div><div class=\"2013\" style=\"display: none;\"><div style=\"display: table-cell;\"></div><div style=\"display: table-cell;\">lod_timeout&nbsp;=&nbsp;500,</div></div><div class=\"2013\" style=\"display: none;\"><div style=\"display: table-cell;\"></div><div style=\"display: table-cell;\">margin&nbsp;=&nbsp;(0, 0, 0, 0),</div></div><div class=\"2013\" style=\"display: none;\"><div style=\"display: table-cell;\"></div><div style=\"display: table-cell;\">match_aspect&nbsp;=&nbsp;False,</div></div><div class=\"2013\" style=\"display: none;\"><div style=\"display: table-cell;\"></div><div style=\"display: table-cell;\">max_height&nbsp;=&nbsp;None,</div></div><div class=\"2013\" style=\"display: none;\"><div style=\"display: table-cell;\"></div><div style=\"display: table-cell;\">max_width&nbsp;=&nbsp;None,</div></div><div class=\"2013\" style=\"display: none;\"><div style=\"display: table-cell;\"></div><div style=\"display: table-cell;\">min_border&nbsp;=&nbsp;5,</div></div><div class=\"2013\" style=\"display: none;\"><div style=\"display: table-cell;\"></div><div style=\"display: table-cell;\">min_border_bottom&nbsp;=&nbsp;None,</div></div><div class=\"2013\" style=\"display: none;\"><div style=\"display: table-cell;\"></div><div style=\"display: table-cell;\">min_border_left&nbsp;=&nbsp;None,</div></div><div class=\"2013\" style=\"display: none;\"><div style=\"display: table-cell;\"></div><div style=\"display: table-cell;\">min_border_right&nbsp;=&nbsp;None,</div></div><div class=\"2013\" style=\"display: none;\"><div style=\"display: table-cell;\"></div><div style=\"display: table-cell;\">min_border_top&nbsp;=&nbsp;None,</div></div><div class=\"2013\" style=\"display: none;\"><div style=\"display: table-cell;\"></div><div style=\"display: table-cell;\">min_height&nbsp;=&nbsp;None,</div></div><div class=\"2013\" style=\"display: none;\"><div style=\"display: table-cell;\"></div><div style=\"display: table-cell;\">min_width&nbsp;=&nbsp;None,</div></div><div class=\"2013\" style=\"display: none;\"><div style=\"display: table-cell;\"></div><div style=\"display: table-cell;\">name&nbsp;=&nbsp;None,</div></div><div class=\"2013\" style=\"display: none;\"><div style=\"display: table-cell;\"></div><div style=\"display: table-cell;\">outer_height&nbsp;=&nbsp;0,</div></div><div class=\"2013\" style=\"display: none;\"><div style=\"display: table-cell;\"></div><div style=\"display: table-cell;\">outer_width&nbsp;=&nbsp;0,</div></div><div class=\"2013\" style=\"display: none;\"><div style=\"display: table-cell;\"></div><div style=\"display: table-cell;\">outline_line_alpha&nbsp;=&nbsp;1.0,</div></div><div class=\"2013\" style=\"display: none;\"><div style=\"display: table-cell;\"></div><div style=\"display: table-cell;\">outline_line_cap&nbsp;=&nbsp;'butt',</div></div><div class=\"2013\" style=\"display: none;\"><div style=\"display: table-cell;\"></div><div style=\"display: table-cell;\">outline_line_color&nbsp;=&nbsp;None,</div></div><div class=\"2013\" style=\"display: none;\"><div style=\"display: table-cell;\"></div><div style=\"display: table-cell;\">outline_line_dash&nbsp;=&nbsp;[],</div></div><div class=\"2013\" style=\"display: none;\"><div style=\"display: table-cell;\"></div><div style=\"display: table-cell;\">outline_line_dash_offset&nbsp;=&nbsp;0,</div></div><div class=\"2013\" style=\"display: none;\"><div style=\"display: table-cell;\"></div><div style=\"display: table-cell;\">outline_line_join&nbsp;=&nbsp;'bevel',</div></div><div class=\"2013\" style=\"display: none;\"><div style=\"display: table-cell;\"></div><div style=\"display: table-cell;\">outline_line_width&nbsp;=&nbsp;1,</div></div><div class=\"2013\" style=\"display: none;\"><div style=\"display: table-cell;\"></div><div style=\"display: table-cell;\">output_backend&nbsp;=&nbsp;'canvas',</div></div><div class=\"2013\" style=\"display: none;\"><div style=\"display: table-cell;\"></div><div style=\"display: table-cell;\">renderers&nbsp;=&nbsp;[GlyphRenderer(id='1951', ...)],</div></div><div class=\"2013\" style=\"display: none;\"><div style=\"display: table-cell;\"></div><div style=\"display: table-cell;\">reset_policy&nbsp;=&nbsp;'standard',</div></div><div class=\"2013\" style=\"display: none;\"><div style=\"display: table-cell;\"></div><div style=\"display: table-cell;\">right&nbsp;=&nbsp;[],</div></div><div class=\"2013\" style=\"display: none;\"><div style=\"display: table-cell;\"></div><div style=\"display: table-cell;\">sizing_mode&nbsp;=&nbsp;None,</div></div><div class=\"2013\" style=\"display: none;\"><div style=\"display: table-cell;\"></div><div style=\"display: table-cell;\">subscribed_events&nbsp;=&nbsp;[],</div></div><div class=\"2013\" style=\"display: none;\"><div style=\"display: table-cell;\"></div><div style=\"display: table-cell;\">syncable&nbsp;=&nbsp;True,</div></div><div class=\"2013\" style=\"display: none;\"><div style=\"display: table-cell;\"></div><div style=\"display: table-cell;\">tags&nbsp;=&nbsp;[],</div></div><div class=\"2013\" style=\"display: none;\"><div style=\"display: table-cell;\"></div><div style=\"display: table-cell;\">title&nbsp;=&nbsp;Title(id='1917', ...),</div></div><div class=\"2013\" style=\"display: none;\"><div style=\"display: table-cell;\"></div><div style=\"display: table-cell;\">title_location&nbsp;=&nbsp;'above',</div></div><div class=\"2013\" style=\"display: none;\"><div style=\"display: table-cell;\"></div><div style=\"display: table-cell;\">toolbar&nbsp;=&nbsp;Toolbar(id='1939', ...),</div></div><div class=\"2013\" style=\"display: none;\"><div style=\"display: table-cell;\"></div><div style=\"display: table-cell;\">toolbar_location&nbsp;=&nbsp;'above',</div></div><div class=\"2013\" style=\"display: none;\"><div style=\"display: table-cell;\"></div><div style=\"display: table-cell;\">toolbar_sticky&nbsp;=&nbsp;True,</div></div><div class=\"2013\" style=\"display: none;\"><div style=\"display: table-cell;\"></div><div style=\"display: table-cell;\">visible&nbsp;=&nbsp;True,</div></div><div class=\"2013\" style=\"display: none;\"><div style=\"display: table-cell;\"></div><div style=\"display: table-cell;\">width&nbsp;=&nbsp;900,</div></div><div class=\"2013\" style=\"display: none;\"><div style=\"display: table-cell;\"></div><div style=\"display: table-cell;\">width_policy&nbsp;=&nbsp;'auto',</div></div><div class=\"2013\" style=\"display: none;\"><div style=\"display: table-cell;\"></div><div style=\"display: table-cell;\">x_range&nbsp;=&nbsp;FactorRange(id='1919', ...),</div></div><div class=\"2013\" style=\"display: none;\"><div style=\"display: table-cell;\"></div><div style=\"display: table-cell;\">x_scale&nbsp;=&nbsp;CategoricalScale(id='1923', ...),</div></div><div class=\"2013\" style=\"display: none;\"><div style=\"display: table-cell;\"></div><div style=\"display: table-cell;\">y_range&nbsp;=&nbsp;FactorRange(id='1921', ...),</div></div><div class=\"2013\" style=\"display: none;\"><div style=\"display: table-cell;\"></div><div style=\"display: table-cell;\">y_scale&nbsp;=&nbsp;CategoricalScale(id='1925', ...))</div></div></div>\n",
       "<script>\n",
       "(function() {\n",
       "  let expanded = false;\n",
       "  const ellipsis = document.getElementById(\"2014\");\n",
       "  ellipsis.addEventListener(\"click\", function() {\n",
       "    const rows = document.getElementsByClassName(\"2013\");\n",
       "    for (let i = 0; i < rows.length; i++) {\n",
       "      const el = rows[i];\n",
       "      el.style.display = expanded ? \"none\" : \"table-row\";\n",
       "    }\n",
       "    ellipsis.innerHTML = expanded ? \"&hellip;)\" : \"&lsaquo;&lsaquo;&lsaquo;\";\n",
       "    expanded = !expanded;\n",
       "  });\n",
       "})();\n",
       "</script>\n"
      ],
      "text/plain": [
       "Figure(id='1916', ...)"
      ]
     },
     "execution_count": 21,
     "metadata": {},
     "output_type": "execute_result"
    }
   ],
   "source": [
    "from msticpy.vis.matrix_plot import plot_matrix\n",
    "plot_matrix(data=dfnetscan, x=\"ForeignAddr\", y=\"LocalAddr\", title=\"IP interactions\", sort=\"dsc\" ,  intersect=True)"
   ]
  },
  {
   "cell_type": "markdown",
   "id": "e3340dde",
   "metadata": {},
   "source": [
    "### <a href=#NT2>NT2 - No of external network communications per public IP</a>\n",
    "The following bar chart shows external network connections with the number of occurrences within the memory image."
   ]
  },
  {
   "cell_type": "code",
   "execution_count": 22,
   "id": "01db90da",
   "metadata": {},
   "outputs": [
    {
     "data": {
      "text/plain": [
       "<AxesSubplot:>"
      ]
     },
     "execution_count": 22,
     "metadata": {},
     "output_type": "execute_result"
    },
    {
     "data": {
      "image/png": "[encoded data removed]",
      "text/plain": [
       "<Figure size 432x288 with 1 Axes>"
      ]
     },
     "metadata": {
      "needs_background": "light"
     },
     "output_type": "display_data"
    }
   ],
   "source": [
    "dfnetscan[(dfnetscan[\"ForeignAddr\"].str.match(r'(?!^0\\.)(?!^10\\.)(?!^100\\.6[4-9]\\.)(?!^100\\.[7-9]\\d\\.)(?!^100\\.1[0-1]\\d\\.)(?!^100\\.12[0-7]\\.)(?!^127\\.)(?!^169\\.254\\.)(?!^172\\.1[6-9]\\.)(?!^172\\.2[0-9]\\.)(?!^172\\.3[0-1]\\.)(?!^192\\.0\\.0\\.)(?!^192\\.0\\.2\\.)(?!^192\\.88\\.99\\.)(?!^192\\.168\\.)(?!^198\\.1[8-9]\\.)(?!^198\\.51\\.100\\.)(?!^203.0\\.113\\.)(?!^22[4-9]\\.)(?!^23[0-9]\\.)(?!^24[0-9]\\.)(?!^25[0-5]\\.)(([0-9]|[1-9][0-9]|1[0-9]{2}|2[0-4][0-9]|25[0-5])\\.([0-9]|[1-9][0-9]|1[0-9]{2}|2[0-4][0-9]|25[0-5])\\.([0-9]|[1-9][0-9]|1[0-9]{2}|2[0-4][0-9]|25[0-5])\\.([0-9]|[1-9][0-9]|1[0-9]{2}|2[0-4][0-9]|25[0-5]))$') == True)][\"ForeignAddr\"].value_counts().plot(kind='bar')"
   ]
  },
  {
   "cell_type": "markdown",
   "id": "68681335",
   "metadata": {},
   "source": [
    "### <a href=#NT3>NT3 - Intelligence matches for external network connections</a>\n",
    "Closed network connections that communicate with public IPs can usually contain interesting IP information. This may need to be further restricted to non-standard ports as port 80/443 traffic can be noisy."
   ]
  },
  {
   "cell_type": "code",
   "execution_count": 23,
   "id": "c728f215",
   "metadata": {},
   "outputs": [
    {
     "name": "stdout",
     "output_type": "stream",
     "text": [
      "\u001b[31m[!]Terminated external network connections detected\n",
      "\n",
      "\n",
      "Positive Threat Intelligence Enrichment on the IPs\n"
     ]
    },
    {
     "data": {
      "application/vnd.jupyter.widget-view+json": {
       "model_id": "206abf51ec9d420d8c85ce09499100f7",
       "version_major": 2,
       "version_minor": 0
      },
      "text/plain": [
       "Observables processed:   0%|          | 0/2 [00:00<?, ?obs/s]"
      ]
     },
     "metadata": {},
     "output_type": "display_data"
    },
    {
     "data": {
      "text/html": [
       "<div>\n",
       "<style scoped>\n",
       "    .dataframe tbody tr th:only-of-type {\n",
       "        vertical-align: middle;\n",
       "    }\n",
       "\n",
       "    .dataframe tbody tr th {\n",
       "        vertical-align: top;\n",
       "    }\n",
       "\n",
       "    .dataframe thead th {\n",
       "        text-align: right;\n",
       "    }\n",
       "</style>\n",
       "<table border=\"1\" class=\"dataframe\">\n",
       "  <thead>\n",
       "    <tr style=\"text-align: right;\">\n",
       "      <th></th>\n",
       "      <th>Ioc</th>\n",
       "      <th>IocType</th>\n",
       "      <th>SanitizedValue</th>\n",
       "      <th>Provider</th>\n",
       "      <th>Severity</th>\n",
       "      <th>Details</th>\n",
       "      <th>Reference</th>\n",
       "      <th>Status</th>\n",
       "    </tr>\n",
       "  </thead>\n",
       "  <tbody>\n",
       "    <tr>\n",
       "      <th>0</th>\n",
       "      <td>13.54.35.87</td>\n",
       "      <td>ipv4</td>\n",
       "      <td>13.54.35.87</td>\n",
       "      <td>OTX</td>\n",
       "      <td>information</td>\n",
       "      <td>{'pulse_count': 0, 'sections_available': ['general', 'geo', 'reputation', 'url_list', 'passive_dns', 'malware', 'nids_list', 'http_scans']}</td>\n",
       "      <td>https://otx.alienvault.com/api/v1/indicators/IPv4/13.54.35.87/general</td>\n",
       "      <td>0</td>\n",
       "    </tr>\n",
       "  </tbody>\n",
       "</table>\n",
       "</div>"
      ],
      "text/plain": [
       "           Ioc IocType SanitizedValue Provider     Severity  \\\n",
       "0  13.54.35.87    ipv4    13.54.35.87      OTX  information   \n",
       "\n",
       "                                                                                                                                       Details  \\\n",
       "0  {'pulse_count': 0, 'sections_available': ['general', 'geo', 'reputation', 'url_list', 'passive_dns', 'malware', 'nids_list', 'http_scans']}   \n",
       "\n",
       "                                                               Reference  \\\n",
       "0  https://otx.alienvault.com/api/v1/indicators/IPv4/13.54.35.87/general   \n",
       "\n",
       "   Status  \n",
       "0       0  "
      ]
     },
     "metadata": {},
     "output_type": "display_data"
    }
   ],
   "source": [
    "ext_netclose = dfnetscan[(dfnetscan[\"ForeignAddr\"].str.match(r'(?!^0\\.)(?!^10\\.)(?!^100\\.6[4-9]\\.)(?!^100\\.[7-9]\\d\\.)(?!^100\\.1[0-1]\\d\\.)(?!^100\\.12[0-7]\\.)(?!^127\\.)(?!^169\\.254\\.)(?!^172\\.1[6-9]\\.)(?!^172\\.2[0-9]\\.)(?!^172\\.3[0-1]\\.)(?!^192\\.0\\.0\\.)(?!^192\\.0\\.2\\.)(?!^192\\.88\\.99\\.)(?!^192\\.168\\.)(?!^198\\.1[8-9]\\.)(?!^198\\.51\\.100\\.)(?!^203.0\\.113\\.)(?!^22[4-9]\\.)(?!^23[0-9]\\.)(?!^24[0-9]\\.)(?!^25[0-5]\\.)(([0-9]|[1-9][0-9]|1[0-9]{2}|2[0-4][0-9]|25[0-5])\\.([0-9]|[1-9][0-9]|1[0-9]{2}|2[0-4][0-9]|25[0-5])\\.([0-9]|[1-9][0-9]|1[0-9]{2}|2[0-4][0-9]|25[0-5])\\.([0-9]|[1-9][0-9]|1[0-9]{2}|2[0-4][0-9]|25[0-5]))$') == True)][[\"ForeignAddr\",\"ForeignPort\",\"Owner\"]]\n",
    "if (ext_netclose.empty):\n",
    "    print(Fore.GREEN + \"[✓]No closed external connections were detected\")\n",
    "else:\n",
    "    print(Fore.RED + \"[!]Terminated external network connections detected\")\n",
    "    ext_netclose.to_string(index = False)\n",
    "    print(\"\\n\")\n",
    "    print(\"Positive Threat Intelligence Enrichment on the IPs\")\n",
    "    ext_netclose.drop_duplicates(subset =\"ForeignAddr\", keep = False, inplace = True)\n",
    "    resraw_intel = intel.lookup_iocs(data=ext_netclose, obs_col=\"ForeignAddr\")\n",
    "    res_intel = resraw_intel[resraw_intel[\"Result\"]==True]\n",
    "    \n",
    "    #Dropping columns that are not required \n",
    "    res_intel_cut = res_intel.drop(['QuerySubtype','RawResult','Result'], axis=1)\n",
    "    display(res_intel_cut)\n"
   ]
  },
  {
   "cell_type": "markdown",
   "id": "aaca50e2",
   "metadata": {},
   "source": [
    "### <a href=#NT4>NT4 - Suspicious web connections that are not related to browsers</a>\n",
    "Web browsers usually communicate over port 80,443 or 8080. This shows processors which are not common browsers that communicate over those ports."
   ]
  },
  {
   "cell_type": "code",
   "execution_count": 40,
   "id": "f84f1c72",
   "metadata": {},
   "outputs": [
    {
     "name": "stdout",
     "output_type": "stream",
     "text": [
      "\u001b[31m[!]None browser based web connections were detected\n",
      "  ForeignAddr  ForeignPort       Owner\n",
      "184.85.82.102           80 svchost.exe\n",
      "184.85.82.102           80 svchost.exe\n",
      "\n",
      "\n",
      "Positive Threat Intelligence Enrichment on the IPs\n"
     ]
    },
    {
     "data": {
      "application/vnd.jupyter.widget-view+json": {
       "model_id": "cc00b7e55d914cb0a3bd160299ae3aed",
       "version_major": 2,
       "version_minor": 0
      },
      "text/plain": [
       "Observables processed:   0%|          | 0/4 [00:00<?, ?obs/s]"
      ]
     },
     "metadata": {},
     "output_type": "display_data"
    },
    {
     "data": {
      "text/html": [
       "<div>\n",
       "<style scoped>\n",
       "    .dataframe tbody tr th:only-of-type {\n",
       "        vertical-align: middle;\n",
       "    }\n",
       "\n",
       "    .dataframe tbody tr th {\n",
       "        vertical-align: top;\n",
       "    }\n",
       "\n",
       "    .dataframe thead th {\n",
       "        text-align: right;\n",
       "    }\n",
       "</style>\n",
       "<table border=\"1\" class=\"dataframe\">\n",
       "  <thead>\n",
       "    <tr style=\"text-align: right;\">\n",
       "      <th></th>\n",
       "      <th>Ioc</th>\n",
       "      <th>IocType</th>\n",
       "      <th>SanitizedValue</th>\n",
       "      <th>Provider</th>\n",
       "      <th>Severity</th>\n",
       "      <th>Details</th>\n",
       "      <th>Reference</th>\n",
       "      <th>Status</th>\n",
       "    </tr>\n",
       "  </thead>\n",
       "  <tbody>\n",
       "    <tr>\n",
       "      <th>0</th>\n",
       "      <td>184.85.82.102</td>\n",
       "      <td>ipv4</td>\n",
       "      <td>184.85.82.102</td>\n",
       "      <td>GreyNoise</td>\n",
       "      <td>information</td>\n",
       "      <td>{'Classification': 'benign', 'Name': 'Akamai Technologies', 'Last Seen': '2022-08-21', 'Message': 'Success', 'Noise': False, 'RIOT': True}</td>\n",
       "      <td>https://api.greynoise.io/v3/community/184.85.82.102</td>\n",
       "      <td>0</td>\n",
       "    </tr>\n",
       "    <tr>\n",
       "      <th>1</th>\n",
       "      <td>184.85.82.102</td>\n",
       "      <td>ipv4</td>\n",
       "      <td>184.85.82.102</td>\n",
       "      <td>GreyNoise</td>\n",
       "      <td>information</td>\n",
       "      <td>{'Classification': 'benign', 'Name': 'Akamai Technologies', 'Last Seen': '2022-08-21', 'Message': 'Success', 'Noise': False, 'RIOT': True}</td>\n",
       "      <td>https://api.greynoise.io/v3/community/184.85.82.102</td>\n",
       "      <td>0</td>\n",
       "    </tr>\n",
       "    <tr>\n",
       "      <th>0</th>\n",
       "      <td>184.85.82.102</td>\n",
       "      <td>ipv4</td>\n",
       "      <td>184.85.82.102</td>\n",
       "      <td>OTX</td>\n",
       "      <td>information</td>\n",
       "      <td>{'pulse_count': 0, 'sections_available': ['general', 'geo', 'reputation', 'url_list', 'passive_dns', 'malware', 'nids_list', 'http_scans']}</td>\n",
       "      <td>https://otx.alienvault.com/api/v1/indicators/IPv4/184.85.82.102/general</td>\n",
       "      <td>0</td>\n",
       "    </tr>\n",
       "    <tr>\n",
       "      <th>1</th>\n",
       "      <td>184.85.82.102</td>\n",
       "      <td>ipv4</td>\n",
       "      <td>184.85.82.102</td>\n",
       "      <td>OTX</td>\n",
       "      <td>information</td>\n",
       "      <td>{'pulse_count': 0, 'sections_available': ['general', 'geo', 'reputation', 'url_list', 'passive_dns', 'malware', 'nids_list', 'http_scans']}</td>\n",
       "      <td>https://otx.alienvault.com/api/v1/indicators/IPv4/184.85.82.102/general</td>\n",
       "      <td>0</td>\n",
       "    </tr>\n",
       "  </tbody>\n",
       "</table>\n",
       "</div>"
      ],
      "text/plain": [
       "             Ioc IocType SanitizedValue   Provider     Severity  \\\n",
       "0  184.85.82.102    ipv4  184.85.82.102  GreyNoise  information   \n",
       "1  184.85.82.102    ipv4  184.85.82.102  GreyNoise  information   \n",
       "0  184.85.82.102    ipv4  184.85.82.102        OTX  information   \n",
       "1  184.85.82.102    ipv4  184.85.82.102        OTX  information   \n",
       "\n",
       "                                                                                                                                       Details  \\\n",
       "0   {'Classification': 'benign', 'Name': 'Akamai Technologies', 'Last Seen': '2022-08-21', 'Message': 'Success', 'Noise': False, 'RIOT': True}   \n",
       "1   {'Classification': 'benign', 'Name': 'Akamai Technologies', 'Last Seen': '2022-08-21', 'Message': 'Success', 'Noise': False, 'RIOT': True}   \n",
       "0  {'pulse_count': 0, 'sections_available': ['general', 'geo', 'reputation', 'url_list', 'passive_dns', 'malware', 'nids_list', 'http_scans']}   \n",
       "1  {'pulse_count': 0, 'sections_available': ['general', 'geo', 'reputation', 'url_list', 'passive_dns', 'malware', 'nids_list', 'http_scans']}   \n",
       "\n",
       "                                                                 Reference  \\\n",
       "0                      https://api.greynoise.io/v3/community/184.85.82.102   \n",
       "1                      https://api.greynoise.io/v3/community/184.85.82.102   \n",
       "0  https://otx.alienvault.com/api/v1/indicators/IPv4/184.85.82.102/general   \n",
       "1  https://otx.alienvault.com/api/v1/indicators/IPv4/184.85.82.102/general   \n",
       "\n",
       "   Status  \n",
       "0       0  \n",
       "1       0  \n",
       "0       0  \n",
       "1       0  "
      ]
     },
     "metadata": {},
     "output_type": "display_data"
    }
   ],
   "source": [
    "sus_http = dfnetscan[(dfnetscan[\"ForeignPort\"] == 8080) | (dfnetscan[\"ForeignPort\"] == 80) | (dfnetscan[\"ForeignPort\"] == 443) & ((dfnetscan.Owner.str.lower() != \"msmpeng.exe\") & (dfnetscan.Owner.str.lower() != \"chrome.exe\") & (dfnetscan.Owner.str.lower() != \"msedge.exe\") & (dfnetscan.Owner.str.lower() != \"firefox.exe\") & (dfnetscan.Owner.str.lower() != \"iexplorer.exe\"))][[\"ForeignAddr\",\"ForeignPort\",\"Owner\"]]\n",
    "if (sus_http.empty):\n",
    "    print(Fore.GREEN + \"[✓]No suspicious web connections were detected\")\n",
    "else:\n",
    "    print(Fore.RED + \"[!]None browser based web connections were detected\")\n",
    "    print(sus_http.to_string(index = False))\n",
    "    print(\"\\n\")\n",
    "    print(\"Positive Threat Intelligence Enrichment on the IPs\")\n",
    "    resraw_intel2 = intel.lookup_iocs(data=sus_http, obs_col=\"ForeignAddr\", providers=[\"GreyNoise\",\"OTX\"])\n",
    "    res_intel2 = resraw_intel2[resraw_intel2[\"Result\"]==True]\n",
    "    \n",
    "    #Dropping columns that are not required \n",
    "    res_intel2_cut = res_intel2.drop(['QuerySubtype','RawResult','Result'], axis=1)\n",
    "    display(res_intel2_cut)"
   ]
  },
  {
   "cell_type": "markdown",
   "id": "11e56e04",
   "metadata": {},
   "source": [
    "### <a href=#NT5>NT5 - IP address in commandline arguments</a>\n",
    "Detect explicit use of IP addresses in command line arguments."
   ]
  },
  {
   "cell_type": "code",
   "execution_count": 25,
   "id": "350db136",
   "metadata": {},
   "outputs": [
    {
     "name": "stdout",
     "output_type": "stream",
     "text": [
      "\u001b[31m[!]IP address in commandline arguments detected!\n",
      " PID      Process                                                                      Args\n",
      "  32 PSclient.exe \"C:\\Users\\Public\\PSclient.exe\" -autorestart -relayserver 13.54.35.87:5555\n"
     ]
    }
   ],
   "source": [
    "ip_cmdline = dfcmdline[dfcmdline[\"Args\"].str.match(r'.*(?!^0\\.)(?!^10\\.)(?!^100\\.6[4-9]\\.)(?!^100\\.[7-9]\\d\\.)(?!^100\\.1[0-1]\\d\\.)(?!^100\\.12[0-7]\\.)(?!^127\\.)(?!^169\\.254\\.)(?!^172\\.1[6-9]\\.)(?!^172\\.2[0-9]\\.)(?!^172\\.3[0-1]\\.)(?!^192\\.0\\.0\\.)(?!^192\\.0\\.2\\.)(?!^192\\.88\\.99\\.)(?!^192\\.168\\.)(?!^198\\.1[8-9]\\.)(?!^198\\.51\\.100\\.)(?!^203.0\\.113\\.)(?!^22[4-9]\\.)(?!^23[0-9]\\.)(?!^24[0-9]\\.)(?!^25[0-5]\\.)(([0-9]|[1-9][0-9]|1[0-9]{2}|2[0-4][0-9]|25[0-5])\\.([0-9]|[1-9][0-9]|1[0-9]{2}|2[0-4][0-9]|25[0-5])\\.([0-9]|[1-9][0-9]|1[0-9]{2}|2[0-4][0-9]|25[0-5])\\.([0-9]|[1-9][0-9]|1[0-9]{2}|2[0-4][0-9]|25[0-5])).*') == True][['PID','Process','Args']]\n",
    "if (ip_cmdline.empty):\n",
    "    print(Fore.GREEN + \"[✓]No IPs in commandline arguments detected\")\n",
    "else:\n",
    "    print(Fore.RED + \"[!]IP address in commandline arguments detected!\")\n",
    "    print(ip_cmdline.to_string(index = False))"
   ]
  },
  {
   "cell_type": "markdown",
   "id": "875121cf",
   "metadata": {},
   "source": [
    "### <a href=#st1>ST1 - Check for malicious Kernel callbacks (indicator of rootkit activity)</a>\n",
    "Malicious kernel callbacks often don't include the name of the kernel module. This results it being named as UNKNOWN. If you see such an entry, then you should use the driverscan plugin to check files that are surrounding the memory region of the malicious kernel callback."
   ]
  },
  {
   "cell_type": "code",
   "execution_count": 26,
   "id": "517b4bd0",
   "metadata": {},
   "outputs": [
    {
     "name": "stdout",
     "output_type": "stream",
     "text": [
      "\u001b[32m[✓]No suspicious callbacks detected\n"
     ]
    }
   ],
   "source": [
    "rootkit_indicator = dfcallbacks[(dfcallbacks.Module.str.lower() == \"unknown\")][[\"Type\",\"Callback\",\"Module\",\"Detail\"]]\n",
    "if (rootkit_indicator.empty):\n",
    "    print(Fore.GREEN + \"[✓]No suspicious callbacks detected\")\n",
    "else:\n",
    "    print(Fore.RED + \"[!]Suspicious callbacks identified (behaviour of a rootkit)!\")\n",
    "    print(rootkit_indicator.to_string(index = False))"
   ]
  },
  {
   "cell_type": "markdown",
   "id": "ef89e4f2",
   "metadata": {},
   "source": [
    "### <a href=#st2>ST2 - Suspicious SSDT hooking (indicator of rootkit activity)</a>\n",
    "Suspicious SSDT hooking by kernel modules that are not reside in the usual directory paths."
   ]
  },
  {
   "cell_type": "code",
   "execution_count": 27,
   "id": "e96ae03e",
   "metadata": {},
   "outputs": [
    {
     "name": "stdout",
     "output_type": "stream",
     "text": [
      "\u001b[32m[✓]No suspicious SSDT hooking detected\n"
     ]
    }
   ],
   "source": [
    "sus_kernelhook = dfssdt[(dfssdt[\"Module\"].str.match(r\".*(ntoskrnl1|win32k).*\",case=False) == False)][[\"Address\",\"Module\",\"Symbol\"]]\n",
    "if (sus_kernelhook.empty):\n",
    "    print(Fore.GREEN + \"[✓]No suspicious SSDT hooking detected\")\n",
    "else:\n",
    "    print(Fore.RED + \"[!]Suspicious SSDT hooking detected!\")\n",
    "    print(sus_kernelhook.to_string(index = False))"
   ]
  },
  {
   "cell_type": "markdown",
   "id": "ac213548",
   "metadata": {},
   "source": [
    "### <a href=#ST3>ST3 - Check for drivers with the base address wiped out (indicator of rootkit activity)</a>\n",
    "Malware can wipe the base address of its kernel driver to hide itself. If you want to locate the actual malicious file associated with this activity, then use callback plugin to locate the address range associated with it."
   ]
  },
  {
   "cell_type": "code",
   "execution_count": 28,
   "id": "3e6ffb37",
   "metadata": {},
   "outputs": [
    {
     "name": "stdout",
     "output_type": "stream",
     "text": [
      "\u001b[32m[✓]No drivers found with zeroed out base address\n"
     ]
    }
   ],
   "source": [
    "sus_driveraddwipe = dfdriverscan[(dfdriverscan.Start.str.lower() == \"0x00000000\")][[\"Offset\",\"Start\",\"Driver Name\",\"Name\",\"Service Key\"]]\n",
    "if (sus_driveraddwipe.empty):\n",
    "    print(Fore.GREEN + \"[✓]No drivers found with zeroed out base address\")\n",
    "else:\n",
    "    print(Fore.RED + \"[!]Driver(s) found with base address zeroed out (Stealth)!\")\n",
    "    print(sus_driveraddwipe.to_string(index = False))"
   ]
  },
  {
   "cell_type": "markdown",
   "id": "6ec69115",
   "metadata": {},
   "source": [
    "### <a href=#SVC1>SVC1 - Suspicious Windows service file names</a>\n",
    "Certain malicious tools leverage Windows services to carry out their actions. This check attempts to identify such Windows services by searching for the Service binary information."
   ]
  },
  {
   "cell_type": "code",
   "execution_count": 29,
   "id": "e90c6f84",
   "metadata": {},
   "outputs": [
    {
     "name": "stdout",
     "output_type": "stream",
     "text": [
      "\u001b[32m[✓]No suspicious Windows service file name(s) identified\n"
     ]
    }
   ],
   "source": [
    "sus_svcfnres = dfsvcscan[dfsvcscan[\"Binary\"].str.match(r\".*(cmd|comspec|powershell|echo|%SYSTEMROOT%).*\",case=False) == True][['Offset','PID','Start','State','Type','Name','Display','Binary']]\n",
    "if (sus_svcfnres.empty):\n",
    "    print(Fore.GREEN + \"[✓]No suspicious Windows service file name(s) identified\")\n",
    "else:\n",
    "    print(Fore.RED + \"[!]Suspicious Windows service file name(s) identified!\")\n",
    "    print(sus_svcfnres.to_string(index = False))"
   ]
  },
  {
   "cell_type": "markdown",
   "id": "2a75fd1e",
   "metadata": {},
   "source": [
    "### <a href=#SVC2>SVC2 - Suspicious Windows Service Names</a>\n",
    "Certain offensive security tools often tend to use fixed character length and cases when registering Windows Services."
   ]
  },
  {
   "cell_type": "code",
   "execution_count": 30,
   "id": "acd5fcb7",
   "metadata": {},
   "outputs": [
    {
     "name": "stdout",
     "output_type": "stream",
     "text": [
      "\u001b[31m[!]Suspicious Windows service name(s) identified!\n",
      "       Offset  PID              Start           State                       Type     Name  Display               Binary\n",
      "0x14b17a23570  NaN SERVICE_BOOT_START SERVICE_RUNNING SERVICE_FILE_SYSTEM_DRIVER WdFilter WdFilter \\FileSystem\\WdFilter\n",
      "0x14b179df5f0  NaN SERVICE_BOOT_START SERVICE_STOPPED      SERVICE_KERNEL_DRIVER hwpolicy hwpolicy                  NaN\n"
     ]
    }
   ],
   "source": [
    "sussvcnameres = dfsvcscan[(dfsvcscan[\"Name\"].str.match(r\"^([a-zA-Z]{4}|[a-zA-Z]{8}|[a-zA-Z]{16}|[a-z0-9]{11}|BTOBTO)$\",case=False) == True) & (dfsvcscan[\"Start\"] == \"SERVICE_BOOT_START\" ) & (dfsvcscan[\"Binary\"].str.match(r'(?i)(C:\\\\Windows\\\\System32\\\\)|((C:\\\\ProgramData\\\\Microsoft)|(C:\\\\Program Files\\\\Common Files)|\\\\Driver.*)', na=False,case=False) == False)][['Offset','PID','Start','State','Type','Name','Display','Binary']]\n",
    "if (sussvcnameres.empty):\n",
    "    print(Fore.GREEN + \"[✓]No suspicious Windows service names identified\")\n",
    "else:\n",
    "    print(Fore.RED + \"[!]Suspicious Windows service name(s) identified!\")\n",
    "    print(sussvcnameres.to_string(index = False))\n"
   ]
  },
  {
   "cell_type": "markdown",
   "id": "4e776d5d",
   "metadata": {},
   "source": [
    "### <a href=#NP1>NP1 - Suspicious named pipe(s)</a>\n",
    "Named pipes allow communication between processes within a host or with other hosts via network. They are often used by adversaries during lateral movement and privilege escalation. This check will look at the most commonly used ​​named pipes associated with malicious or suspicious tools. "
   ]
  },
  {
   "cell_type": "code",
   "execution_count": 31,
   "id": "44636aa5",
   "metadata": {},
   "outputs": [
    {
     "name": "stdout",
     "output_type": "stream",
     "text": [
      "\u001b[32m[✓]No suspicious named pipes were identified\n"
     ]
    }
   ],
   "source": [
    "susnamedpipe = dfhandles[(dfhandles[\"Type\"] == \"File\") & (dfhandles[\"Name\"].str.match(r\"\\\\Device\\\\NamedPipe\\\\(MSSE-[0-9a-f]{3,4}-server|status_[0-9a-f]{2}|msagent_[0-9a-f]{2}|postex_ssh_[0-9a-f]{4}|postex_[0-9a-f]{4}|mojo\\.5688\\.8052|wkssvc[0-9a-f]{2}|ntsvcs[0-9a-f]{2}|DserNamePipe[0-9a-f]{2}|SearchTextHarvester[0-9a-f]{2}|mypipe-f[0-9a-f]{2}|mypipe-h[0-9a-f]{2}|windows\\.update\\.manager[0-9a-f]{2}|windows\\.update\\.manager[0-9a-f]{3}|ntsvcs_[0-9a-f]{2}|scerpc_[0-9a-f]{2}|scerpc[0-9a-f]{2}|ntsvcs[0-9a-f]{2}|gruntsvc|psexesvc|remcom_comunication|PAExec|csexecsvc|svcctl|Posh|jaccdpqnvbrrxlaf|TestSVC|remcom).*\",case=False) == True)][['PID','Process','Offset','Type','GrantedAccess','Name']]\n",
    "if (susnamedpipe.empty):\n",
    "    print(Fore.GREEN + \"[✓]No suspicious named pipes were identified\")\n",
    "else:\n",
    "    print(Fore.RED + \"[!]Suspicious named pipe(s) detected!\")\n",
    "    print(susnamedpipe.to_string(index = False))"
   ]
  },
  {
   "cell_type": "markdown",
   "id": "7b59b245",
   "metadata": {},
   "source": [
    "### <a href=#dl2>DL2- DLLs or Sys files located in unusual locations</a>\n",
    "Dlls or drivers files are rarely seen in Downloads, Temp, Documents, Public etc directories."
   ]
  },
  {
   "cell_type": "code",
   "execution_count": 32,
   "id": "e6407d1c",
   "metadata": {},
   "outputs": [
    {
     "name": "stdout",
     "output_type": "stream",
     "text": [
      "\u001b[31m[!]Suspicious file identified in an unusual location!\n",
      " PID        Process           Base                     Name                                             Path                    LoadTime\n",
      "  32   PSclient.exe       0xbc0000             PSclient.exe                     C:\\Users\\Public\\PSclient.exe 2021-04-06 01:02:26.000000 \n",
      "6580 winpmem_mini_x 0x7ff6810f0000 winpmem_mini_x64_rc2.exe C:\\Users\\dadmin\\Desktop\\winpmem_mini_x64_rc2.exe 2021-04-06 01:56:57.000000 \n"
     ]
    }
   ],
   "source": [
    "susdllloc = dfdlllist[(dfdlllist[\"Path\"].str.match(r\"^[A-Za-z]:\\\\.*(Temp|INetCache|Desktop|Downloads|Content|Documents|Public|ProgramData|Program Files|Program Files \\(x86\\))\\\\(\\w+).(dll|exe)$\",case=False) == True)][['PID','Process','Base','Name','Path','LoadTime']]\n",
    "if (susdllloc.empty):\n",
    "    print(Fore.GREEN + \"[✓]No DLL(s) located in unusual location(s)\")\n",
    "else:\n",
    "    print(Fore.RED + \"[!]Suspicious file identified in an unusual location!\")\n",
    "    print(susdllloc.to_string(index = False))\n",
    "    #Add other files associated with this finding for context\n",
    "    #Add potential mutexes created by the suspicious processes\n",
    "   "
   ]
  },
  {
   "cell_type": "markdown",
   "id": "f25c1da0",
   "metadata": {},
   "source": [
    "### <a href=#dl3>DL3- DLL(s) or Sys files with unusually long file names</a>\n",
    "Dlls or driver files with significantly long names are deemded suspicious."
   ]
  },
  {
   "cell_type": "code",
   "execution_count": 33,
   "id": "8ade61e9",
   "metadata": {},
   "outputs": [
    {
     "name": "stdout",
     "output_type": "stream",
     "text": [
      "\u001b[32m[✓]No DLL(s) or Sys files with unusually long file names were detected\n"
     ]
    }
   ],
   "source": [
    "susdllfname = dfdlllist[(dfdlllist[\"Name\"].str.match(r\"^[a-z0-9]{35,}\\.(dll|sys)\",case=False) == True)][['PID','Process','Base','Name','Path','LoadTime']]\n",
    "if (susdllfname.empty):\n",
    "    print(Fore.GREEN + \"[✓]No DLL(s) or Sys files with unusually long file names were detected\")\n",
    "else:\n",
    "    print(Fore.RED + \"[!]DLL(s) or Sys files with unusually long file names were detected!\")\n",
    "    print(susdllfname.to_string(index = False))\n",
    " "
   ]
  },
  {
   "cell_type": "markdown",
   "id": "e89d72a5",
   "metadata": {},
   "source": [
    "### <a href=#mal1>MAL1 - MZ header detection within malfind preview</a>\n",
    "malfind plugin identifies hidden or injected code/DLLs in user mode memory. This often results in having the MZ header visible in the memory segment."
   ]
  },
  {
   "cell_type": "code",
   "execution_count": 34,
   "id": "74a7d8b6",
   "metadata": {},
   "outputs": [
    {
     "name": "stdout",
     "output_type": "stream",
     "text": [
      "\u001b[32m[✓]No MZ header detected in malfind preview output\n"
     ]
    }
   ],
   "source": [
    "procinject1=dfmalfind[dfmalfind[\"Hexdump\"].str.contains(\"MZ\") == True][['PID','Process','Start VPN','End VPN','Protection','Hexdump','Disasm']]\n",
    "if (procinject1.empty):\n",
    "    print(Fore.GREEN + \"[✓]No MZ header detected in malfind preview output\")\n",
    "else:\n",
    "    print(Fore.RED + \"[!]MZ header detected within malfind preview (Process Injection indicator)\")\n",
    "    print(procinject1.to_string(index = False))"
   ]
  },
  {
   "cell_type": "markdown",
   "id": "7e858c72",
   "metadata": {},
   "source": [
    "### <a href=#mal2>MAL2 - Assembly code detection within malfind preview</a>\n"
   ]
  },
  {
   "cell_type": "code",
   "execution_count": 35,
   "id": "ffbfc98a",
   "metadata": {},
   "outputs": [
    {
     "name": "stdout",
     "output_type": "stream",
     "text": [
      "\u001b[32m[✓]No suspicious assembly code detected in malfind preview output\n"
     ]
    }
   ],
   "source": [
    "procinject2=dfmalfind[dfmalfind[\"Hexdump\"].str.match(r\".*(mov\\s+epb,\\s?esp).*\") == True][['PID','Process','Start VPN','End VPN','Protection','Hexdump','Disasm']]\n",
    "if (procinject2.empty):\n",
    "    print(Fore.GREEN + \"[✓]No suspicious assembly code detected in malfind preview output\")\n",
    "else:\n",
    "    print(Fore.RED + \"[!]Suspicious assembly code detected in malfind preview output!\")\n",
    "    print(procinject2.to_string(index = False))"
   ]
  }
 ],
 "metadata": {
  "kernelspec": {
   "display_name": "Python 3 (ipykernel)",
   "language": "python",
   "name": "python3"
  },
  "language_info": {
   "codemirror_mode": {
    "name": "ipython",
    "version": 3
   },
   "file_extension": ".py",
   "mimetype": "text/x-python",
   "name": "python",
   "nbconvert_exporter": "python",
   "pygments_lexer": "ipython3",
   "version": "3.8.10"
  }
 },
 "nbformat": 4,
 "nbformat_minor": 5
}
